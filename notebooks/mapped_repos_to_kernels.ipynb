{
 "cells": [
  {
   "cell_type": "code",
   "execution_count": 2,
   "metadata": {},
   "outputs": [],
   "source": [
    "import numpy as np\n",
    "import re, json\n",
    "from matplotlib import pyplot as plt\n",
    "from pymongo import MongoClient\n",
    "from tqdm.notebook import tqdm\n",
    "from pprint import PrettyPrinter\n",
    "from typing import Union, Iterable\n",
    "\n",
    "pprint = PrettyPrinter().pprint"
   ]
  },
  {
   "cell_type": "code",
   "execution_count": 3,
   "metadata": {},
   "outputs": [],
   "source": [
    "db = MongoClient(\"mongodb://localhost:27017\")[\"cuda_snippets\"]\n",
    "train_db = db[\"train\"]\n",
    "validation_db = db[\"validation\"]\n",
    "repo_metadata_db = db[\"repo_metadata\"]\n",
    "file_metadata_db = db[\"file_metadata\"]"
   ]
  },
  {
   "cell_type": "code",
   "execution_count": 7,
   "metadata": {},
   "outputs": [
    {
     "data": {
      "text/plain": [
       "'repo_name_1'"
      ]
     },
     "execution_count": 7,
     "metadata": {},
     "output_type": "execute_result"
    }
   ],
   "source": [
    "repo_metadata_db.create_index(\"full_name\")\n",
    "\n",
    "file_metadata_db.create_index(\"repo_name\")"
   ]
  },
  {
   "cell_type": "code",
   "execution_count": 3,
   "metadata": {},
   "outputs": [],
   "source": [
    "with open(\"../utils/repo_metadata.json\", \"r\") as fd:\n",
    "    repo_archive_metadata_content = json.load(fd)"
   ]
  },
  {
   "cell_type": "code",
   "execution_count": 6,
   "metadata": {},
   "outputs": [
    {
     "name": "stdout",
     "output_type": "stream",
     "text": [
      "Total repos: 25130\n",
      "Mapped: 13865\n",
      "Duplicated names: 0\n"
     ]
    },
    {
     "data": {
      "application/vnd.jupyter.widget-view+json": {
       "model_id": "fcca75eb43394a70896c14f9f12777fa",
       "version_major": 2,
       "version_minor": 0
      },
      "text/plain": [
       "0it [00:00, ?it/s]"
      ]
     },
     "metadata": {},
     "output_type": "display_data"
    },
    {
     "data": {
      "application/vnd.jupyter.widget-view+json": {
       "model_id": "133a6394b8114104bf992a3e4536a9ef",
       "version_major": 2,
       "version_minor": 0
      },
      "text/plain": [
       "0it [00:00, ?it/s]"
      ]
     },
     "metadata": {},
     "output_type": "display_data"
    },
    {
     "data": {
      "application/vnd.jupyter.widget-view+json": {
       "model_id": "3e493cb6b8794c58b7c437a908214b6f",
       "version_major": 2,
       "version_minor": 0
      },
      "text/plain": [
       "  0%|          | 0/13865 [00:00<?, ?it/s]"
      ]
     },
     "metadata": {},
     "output_type": "display_data"
    },
    {
     "name": "stdout",
     "output_type": "stream",
     "text": [
      "Found: 480791\n",
      "Not found : 5623\n",
      "Ratio: 98.84%\n"
     ]
    }
   ],
   "source": [
    "repo_metadata_dict = {}\n",
    "already_present = 0\n",
    "for full_name, metadata in repo_archive_metadata_content.items():\n",
    "    if metadata.get(\"status\") != None:\n",
    "        continue\n",
    "\n",
    "    if full_name in repo_metadata_dict:\n",
    "        already_present += 1\n",
    "    else:\n",
    "        repo_metadata_dict[metadata.get(\"files\")[0][:-1]] = full_name\n",
    "\n",
    "print(f\"Total repos: {len(repo_archive_metadata_content)}\")\n",
    "print(f\"Mapped: {len(repo_metadata_dict)}\")\n",
    "print(f\"Duplicated names: {already_present}\")\n",
    "\n",
    "mapped = 0\n",
    "not_mapped = []\n",
    "\n",
    "# Iterate over train collection\n",
    "for kernel in tqdm(train_db.find({})):\n",
    "    repo_kernel_name = kernel.get(\"repo_name\")\n",
    "    if repo_kernel_name in repo_metadata_dict:\n",
    "        mapped += 1\n",
    "        if kernel.get(\"repo_metadata_id\") is not None:\n",
    "            continue\n",
    "        repo_metadata = repo_metadata_db.find_one({\"full_name\" : repo_metadata_dict[repo_kernel_name]})\n",
    "        train_db.find_one_and_update({\"_id\" : kernel.get(\"_id\")}, {\"$set\" : {\"repo_metadata_id\" : str(repo_metadata.get(\"_id\")) if repo_metadata else None}})\n",
    "    else:\n",
    "        not_mapped.append(kernel.get(\"_id\"))\n",
    "\n",
    "# Iterate over validation collection\n",
    "for kernel in tqdm(validation_db.find({})):\n",
    "    repo_kernel_name = kernel.get(\"repo_name\")\n",
    "    if repo_kernel_name in repo_metadata_dict:\n",
    "        mapped += 1\n",
    "        if kernel.get(\"repo_metadata_id\") is not None:\n",
    "            continue\n",
    "        repo_metadata = repo_metadata_db.find_one({\"full_name\" : repo_metadata_dict[repo_kernel_name]})\n",
    "        validation_db.find_one_and_update({\"_id\" : kernel.get(\"_id\")}, {\"$set\" : {\"repo_metadata_id\" : str(repo_metadata.get(\"_id\")) if repo_metadata else None}})\n",
    "    else:\n",
    "        not_mapped.append(str(kernel.get(\"_id\")))\n",
    "\n",
    "# Update file metadata\n",
    "for archive_name, full_name in tqdm(repo_metadata_dict.items()):\n",
    "    repo_metadata = repo_metadata_db.find_one({\"full_name\" : full_name})\n",
    "    file_metadata_db.update_many({\"repo_name\" : archive_name}, {\"$set\" : { \"repo_metadata_id\" : str(repo_metadata.get(\"_id\")) if repo_metadata else None}})\n",
    "\n",
    "\n",
    "print(f\"Found: {mapped}\")\n",
    "print(f\"Not found : {len(not_mapped)}\")\n",
    "print(f\"Ratio: {mapped/(mapped+len(not_mapped)):.2%}\")"
   ]
  },
  {
   "cell_type": "code",
   "execution_count": 6,
   "metadata": {},
   "outputs": [
    {
     "name": "stdout",
     "output_type": "stream",
     "text": [
      "Got 36 not mapped kernels\n",
      "Got 1 not mapped repos\n",
      "{'tsne-cuda-main'}\n"
     ]
    }
   ],
   "source": [
    "not_mapped_kernels = list(train_db.find({\"repo_metadata_id\" : {\"$exists\" : False}}))\n",
    "not_mapped_kernels.extend(list(validation_db.find({\"repo_metadata_id\" : {\"$exists\" : False}})))\n",
    "\n",
    "print(f\"Got {len(not_mapped_kernels)} not mapped kernels\")\n",
    "\n",
    "not_mapped_repos = set([kernel.get(\"repo_name\") for kernel in not_mapped_kernels])\n",
    "\n",
    "print(f\"Got {len(not_mapped_repos)} not mapped repos\")\n",
    "print(not_mapped_repos)\n"
   ]
  },
  {
   "cell_type": "code",
   "execution_count": 7,
   "metadata": {},
   "outputs": [
    {
     "name": "stdout",
     "output_type": "stream",
     "text": [
      "Not mapped after addon: 0\n"
     ]
    }
   ],
   "source": [
    "def update_repo_dependencies(repo_name : str, repo_full_name):\n",
    "    repo_metadata = repo_metadata_db.find_one({\"full_name\" : repo_full_name})\n",
    "    \n",
    "    file_metadata_db.update_many({\"repo_name\" : repo_name}, {\"$set\" : { \"repo_metadata_id\" : str(repo_metadata.get(\"_id\"))}})\n",
    "    train_db.update_many({\"repo_name\" : repo_name}, {\"$set\" : { \"repo_metadata_id\" : str(repo_metadata.get(\"_id\"))}})\n",
    "    validation_db.update_many({\"repo_name\" : repo_name}, {\"$set\" : { \"repo_metadata_id\" : str(repo_metadata.get(\"_id\"))}})\n",
    "\n",
    "manual_addon = {\n",
    "    \"cuml-branch-23.04\" : \"rapidsai/cuml\",\n",
    "    \"cupy-master\" : \"cupy/cupy\",\n",
    "    \"cudf-branch-23.04\" : \"rapidsai/cudf\",\n",
    "    \"thrust-main\" : \"NVIDIA/thrust\",\n",
    "    \"cutlass-master\" : \"NVIDIA/cutlass\",\n",
    "    \"alien-develop\" : \"chrxh/alien\",\n",
    "    \"tsne-cuda-main\" : \"CannyLab/tsne-cuda\"\n",
    "}\n",
    "\n",
    "for repo_name, repo_full_name in manual_addon.items():\n",
    "    update_repo_dependencies(repo_name, repo_full_name)\n",
    "    \n",
    "not_mapped_kernels = train_db.count_documents({\"repo_metadata_id\" : {\"$exists\" : False}}) + \\\n",
    "    validation_db.count_documents({\"repo_metadata_id\" : {\"$exists\" : False}})\n",
    "\n",
    "print(f\"Not mapped after addon: {not_mapped_kernels}\")\n"
   ]
  }
 ],
 "metadata": {
  "kernelspec": {
   "display_name": "diplomka",
   "language": "python",
   "name": "python3"
  },
  "language_info": {
   "codemirror_mode": {
    "name": "ipython",
    "version": 3
   },
   "file_extension": ".py",
   "mimetype": "text/x-python",
   "name": "python",
   "nbconvert_exporter": "python",
   "pygments_lexer": "ipython3",
   "version": "3.8.13"
  },
  "orig_nbformat": 4
 },
 "nbformat": 4,
 "nbformat_minor": 2
}
