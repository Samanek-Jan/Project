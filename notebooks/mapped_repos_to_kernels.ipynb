{
 "cells": [
  {
   "cell_type": "code",
   "execution_count": 26,
   "metadata": {},
   "outputs": [],
   "source": [
    "import numpy as np\n",
    "import re, json, csv\n",
    "from matplotlib import pyplot as plt\n",
    "from pymongo import MongoClient\n",
    "from tqdm.notebook import tqdm\n",
    "from pprint import PrettyPrinter\n",
    "from typing import Union, Iterable\n",
    "from bson.objectid import ObjectId\n",
    "\n",
    "pprint = PrettyPrinter().pprint"
   ]
  },
  {
   "cell_type": "code",
   "execution_count": 2,
   "metadata": {},
   "outputs": [],
   "source": [
    "db = MongoClient(\"mongodb://localhost:27017\")[\"cuda_snippets\"]\n",
    "train_db = db[\"train\"]\n",
    "validation_db = db[\"validation\"]\n",
    "repo_metadata_db = db[\"repo_metadata\"]\n",
    "file_metadata_db = db[\"file_metadata\"]"
   ]
  },
  {
   "cell_type": "code",
   "execution_count": 17,
   "metadata": {},
   "outputs": [
    {
     "data": {
      "text/plain": [
       "'repo_name_1'"
      ]
     },
     "execution_count": 17,
     "metadata": {},
     "output_type": "execute_result"
    }
   ],
   "source": [
    "repo_metadata_db.create_index(\"full_name\")\n",
    "\n",
    "file_metadata_db.create_index(\"repo_name\")"
   ]
  },
  {
   "cell_type": "code",
   "execution_count": 3,
   "metadata": {},
   "outputs": [],
   "source": [
    "def sum_dicts(*ds) -> dict:\n",
    "    result = {}\n",
    "    for d in ds:        \n",
    "        for k, v in d.items():\n",
    "            if k not in result:\n",
    "                result[k] = 0\n",
    "            result[k] += v\n",
    "    \n",
    "    return result\n",
    "\n",
    "sort_dict_by_val_desc = lambda d: sorted(d.items(), key=lambda x : x[1], reverse=True)"
   ]
  },
  {
   "cell_type": "code",
   "execution_count": 4,
   "metadata": {},
   "outputs": [
    {
     "name": "stdout",
     "output_type": "stream",
     "text": [
      "Total repos: 25130\n",
      "Mapped: 13865\n",
      "Duplicated names: 0\n"
     ]
    }
   ],
   "source": [
    "with open(\"../utils/repo_metadata.json\", \"r\") as fd:\n",
    "    repo_archive_metadata_content = json.load(fd)\n",
    "    \n",
    "repo_metadata_dict = {}\n",
    "already_present = 0\n",
    "for full_name, metadata in repo_archive_metadata_content.items():\n",
    "    if metadata.get(\"files\") is None:\n",
    "        continue\n",
    "\n",
    "    if full_name in repo_metadata_dict:\n",
    "        already_present += 1\n",
    "    else:\n",
    "        repo_metadata_dict[metadata.get(\"files\")[0][:-1]] = full_name\n",
    "\n",
    "print(f\"Total repos: {len(repo_archive_metadata_content)}\")\n",
    "print(f\"Mapped: {len(repo_metadata_dict)}\")\n",
    "print(f\"Duplicated names: {already_present}\")"
   ]
  },
  {
   "attachments": {},
   "cell_type": "markdown",
   "metadata": {},
   "source": [
    "### Map repository info to kernels in DB"
   ]
  },
  {
   "cell_type": "code",
   "execution_count": 10,
   "metadata": {},
   "outputs": [
    {
     "data": {
      "application/vnd.jupyter.widget-view+json": {
       "model_id": "02389c2658844417bff2a7a10a08c190",
       "version_major": 2,
       "version_minor": 0
      },
      "text/plain": [
       "0it [00:00, ?it/s]"
      ]
     },
     "metadata": {},
     "output_type": "display_data"
    },
    {
     "data": {
      "application/vnd.jupyter.widget-view+json": {
       "model_id": "1bedddde07894bd3bddc6b772832092f",
       "version_major": 2,
       "version_minor": 0
      },
      "text/plain": [
       "0it [00:00, ?it/s]"
      ]
     },
     "metadata": {},
     "output_type": "display_data"
    },
    {
     "data": {
      "application/vnd.jupyter.widget-view+json": {
       "model_id": "fa6d2fd840c84edb8219b3346dd7fd8c",
       "version_major": 2,
       "version_minor": 0
      },
      "text/plain": [
       "  0%|          | 0/13865 [00:00<?, ?it/s]"
      ]
     },
     "metadata": {},
     "output_type": "display_data"
    },
    {
     "name": "stdout",
     "output_type": "stream",
     "text": [
      "Found: 480778\n",
      "Not found : 5622\n",
      "Ratio: 98.84%\n"
     ]
    }
   ],
   "source": [
    "\n",
    "mapped = 0\n",
    "not_mapped = []\n",
    "\n",
    "# Iterate over train collection\n",
    "for kernel in tqdm(train_db.find({})):\n",
    "    repo_kernel_name = kernel.get(\"repo_name\")\n",
    "    if repo_kernel_name in repo_metadata_dict:\n",
    "        mapped += 1\n",
    "        if kernel.get(\"repo_metadata_id\") is not None:\n",
    "            continue\n",
    "        repo_metadata = repo_metadata_db.find_one({\"full_name\" : repo_metadata_dict[repo_kernel_name]})\n",
    "        train_db.find_one_and_update({\"_id\" : kernel.get(\"_id\")}, {\"$set\" : {\"repo_metadata_id\" : str(repo_metadata.get(\"_id\")) if repo_metadata else None}})\n",
    "    else:\n",
    "        not_mapped.append(kernel.get(\"repo_name\"))\n",
    "\n",
    "# Iterate over validation collection\n",
    "for kernel in tqdm(validation_db.find({})):\n",
    "    repo_kernel_name = kernel.get(\"repo_name\")\n",
    "    if repo_kernel_name in repo_metadata_dict:\n",
    "        mapped += 1\n",
    "        if kernel.get(\"repo_metadata_id\") is not None:\n",
    "            continue\n",
    "        repo_metadata = repo_metadata_db.find_one({\"full_name\" : repo_metadata_dict[repo_kernel_name]})\n",
    "        validation_db.find_one_and_update({\"_id\" : kernel.get(\"_id\")}, {\"$set\" : {\"repo_metadata_id\" : str(repo_metadata.get(\"_id\")) if repo_metadata else None}})\n",
    "    else:\n",
    "        not_mapped.append(kernel.get(\"repo_name\"))\n",
    "\n",
    "# Update file metadata\n",
    "for archive_name, full_name in tqdm(repo_metadata_dict.items()):\n",
    "    repo_metadata = repo_metadata_db.find_one({\"full_name\" : full_name})\n",
    "    file_metadata_db.update_many({\"repo_name\" : archive_name}, {\"$set\" : { \"repo_metadata_id\" : str(repo_metadata.get(\"_id\")) if repo_metadata else None}})\n",
    "\n",
    "\n",
    "print(f\"Found: {mapped}\")\n",
    "print(f\"Not found : {len(not_mapped)}\")\n",
    "print(f\"Ratio: {mapped/(mapped+len(not_mapped)):.2%}\")"
   ]
  },
  {
   "cell_type": "code",
   "execution_count": 14,
   "metadata": {},
   "outputs": [
    {
     "name": "stdout",
     "output_type": "stream",
     "text": [
      "not mapped repositories: 7\n",
      "{'alien-develop', 'cudf-branch-23.04', 'cupy-master', 'cutlass-master', 'thrust-main', 'tsne-cuda-main', 'cuml-branch-23.04'}\n",
      "Got 7 values\n",
      "{'6436e4ebdba5500b741dcf56', '6436e4e8dba5500b741dcf4a', '6436e4e9dba5500b741dcf4e', '641ac12cab0c677c51ed2dc4', '6436e4eadba5500b741dcf50', '6436e4e9dba5500b741dcf4d', '6436e4e9dba5500b741dcf4f'}\n"
     ]
    }
   ],
   "source": [
    "not_mapped_repos_set = set(not_mapped)\n",
    "print(f\"not mapped repositories: {len(not_mapped_repos_set)}\")\n",
    "print(not_mapped_repos_set)\n",
    "\n",
    "repo_metadata_ids_of_not_mapped_kernels = set(train_db.distinct(\"repo_metadata_id\", {\"repo_name\" : {\"$in\" : list(not_mapped_repos_set)}}) + \\\n",
    "    validation_db.distinct(\"repo_metadata_id\", {\"repo_name\" : {\"$in\" : list(not_mapped_repos_set)}}))\n",
    "    \n",
    "print(f\"Got {len(repo_metadata_ids_of_not_mapped_kernels)} values\")\n",
    "print(repo_metadata_ids_of_not_mapped_kernels)"
   ]
  },
  {
   "cell_type": "code",
   "execution_count": 7,
   "metadata": {},
   "outputs": [
    {
     "name": "stdout",
     "output_type": "stream",
     "text": [
      "Not mapped kernels: 0\n",
      "Not mapped repositories: 0\n",
      "Not mapped in DB: 0\n"
     ]
    }
   ],
   "source": [
    "not_mapped_repos_grouped = sum_dicts(\n",
    "    {repo.get(\"_id\") : repo.get(\"count\") for repo in train_db.aggregate([\n",
    "        {\"$match\" : {\"$or\" : [\n",
    "            {\"repo_metadata_id\" : {\"$exists\" : False}},\n",
    "            {\"repo_metadata_id\" : None}\n",
    "            ]}\n",
    "        },\n",
    "        {\"$group\" : {\"_id\" : \"$repo_name\", \"count\" : {\"$sum\" : 1}}}\n",
    "    ])},\n",
    "    {repo.get(\"_id\") : repo.get(\"count\") for repo in validation_db.aggregate([\n",
    "        {\"$match\" : {\"$or\" : [\n",
    "            {\"repo_metadata_id\" : {\"$exists\" : False}},\n",
    "            {\"repo_metadata_id\" : None}\n",
    "            ]}\n",
    "        },\n",
    "        {\"$group\" : {\"_id\" : \"$repo_name\", \"count\" : {\"$sum\" : 1}}}\n",
    "    ])},\n",
    ")\n",
    "\n",
    "print(f\"Not mapped kernels: {sum(not_mapped_repos_grouped.values())}\")\n",
    "print(f\"Not mapped repositories: {len(not_mapped_repos_grouped.keys())}\")\n",
    "not_mapped_in_db = repo_metadata_db.count_documents({\"full_name\" : {\"$in\" : [repo_metadata_dict.get(repo_name) for repo_name in not_mapped_repos_grouped.keys()]}})\n",
    "print(f\"Not mapped in DB: {not_mapped_in_db}\")\n"
   ]
  },
  {
   "cell_type": "code",
   "execution_count": 7,
   "metadata": {},
   "outputs": [
    {
     "name": "stdout",
     "output_type": "stream",
     "text": [
      "Not mapped kernels: 40678\n",
      "Not mapped repositories: 787\n",
      "Not mapped in DB: 0\n"
     ]
    }
   ],
   "source": [
    "def update_repo_dependencies(repo_name : str, repo_full_name):\n",
    "    repo_metadata = repo_metadata_db.find_one({\"full_name\" : repo_full_name})\n",
    "    \n",
    "    file_metadata_db.update_many({\"repo_name\" : repo_name}, {\"$set\" : { \"repo_metadata_id\" : str(repo_metadata.get(\"_id\"))}})\n",
    "    train_db.update_many({\"repo_name\" : repo_name}, {\"$set\" : { \"repo_metadata_id\" : str(repo_metadata.get(\"_id\"))}})\n",
    "    validation_db.update_many({\"repo_name\" : repo_name}, {\"$set\" : { \"repo_metadata_id\" : str(repo_metadata.get(\"_id\"))}})\n",
    "\n",
    "manual_addon = {\n",
    "    \"cuml-branch-23.04\" : \"rapidsai/cuml\",\n",
    "    \"cupy-master\" : \"cupy/cupy\",\n",
    "    \"cudf-branch-23.04\" : \"rapidsai/cudf\",\n",
    "    \"thrust-main\" : \"NVIDIA/thrust\",\n",
    "    \"cutlass-master\" : \"NVIDIA/cutlass\",\n",
    "    \"alien-develop\" : \"chrxh/alien\",\n",
    "    \"tsne-cuda-main\" : \"CannyLab/tsne-cuda\"\n",
    "}\n",
    "\n",
    "for repo_name, repo_full_name in manual_addon.items():\n",
    "    update_repo_dependencies(repo_name, repo_full_name)"
   ]
  },
  {
   "cell_type": "code",
   "execution_count": 13,
   "metadata": {},
   "outputs": [
    {
     "name": "stdout",
     "output_type": "stream",
     "text": [
      "First 10 most missed repos:\n",
      "1.\t('cuda-half2-master', 2132)\n",
      "2.\t('pytorch-master', 1979)\n",
      "3.\t('EnsembleClusteringParallelCUDA-master', 1240)\n",
      "4.\t('CUDA_exercises-master', 1239)\n",
      "5.\t('cuda_examples-master', 1129)\n",
      "6.\t('NVIDIA_Cuda-Samples-master', 1102)\n",
      "7.\t('Nvidia-CUDA-Samples-master', 1102)\n",
      "8.\t('nvidia-master', 1072)\n",
      "9.\t('v11.1-main', 1042)\n",
      "10.\t('Particles-master', 1032)\n"
     ]
    }
   ],
   "source": [
    "not_mapped_repos_sorted = sort_dict_by_val_desc(not_mapped_repos_grouped)\n",
    "print(\"First 10 most missed repos:\")\n",
    "for i, repo in enumerate(not_mapped_repos_sorted[:10], 1):\n",
    "    print(f\"{i}.\\t{repo}\")\n",
    "\n"
   ]
  },
  {
   "cell_type": "code",
   "execution_count": 8,
   "metadata": {},
   "outputs": [
    {
     "data": {
      "application/vnd.jupyter.widget-view+json": {
       "model_id": "60c26237cd0346198e76f022414fd4d5",
       "version_major": 2,
       "version_minor": 0
      },
      "text/plain": [
       "0it [00:00, ?it/s]"
      ]
     },
     "metadata": {},
     "output_type": "display_data"
    },
    {
     "name": "stdout",
     "output_type": "stream",
     "text": [
      "Got total number of non-mapped repos: 0\n"
     ]
    }
   ],
   "source": [
    "def split_to_key_and_val(line : str) -> dict:\n",
    "    key, val = line.split(\",\")\n",
    "    return {key.strip() : val.strip()} \n",
    "\n",
    "with open(\"../utils/bq-results-joint.csv\", \"r\") as fd:\n",
    "    bq_full_name_url_dict = { key : val for line in fd.readlines()[1:] for key, val in split_to_key_and_val(line).items()}\n",
    "\n",
    "addon = []\n",
    "for repo_name in tqdm(not_mapped_repos_grouped.keys()):\n",
    "    full_name = repo_metadata_dict.get(repo_name)\n",
    "    if full_name is None:\n",
    "        tqdm.write(f\"Skipping: '{repo_name}'. Not found in repo_metadata_dict\")\n",
    "        continue\n",
    "    \n",
    "    url = bq_full_name_url_dict.get(full_name)\n",
    "    if url is None:\n",
    "        tqdm.write(f\"Skipping: '{repo_name}'. Not found in bq_full_name_url_dict\")\n",
    "        continue\n",
    "    \n",
    "    addon.append(f\"{full_name},{url}\\n\")\n",
    "\n",
    "print(f\"Got total number of non-mapped repos: {len(addon)}\")\n",
    "with open(\"../utils/addon.csv\", \"w\") as fd:\n",
    "    fd.writelines(addon)"
   ]
  },
  {
   "attachments": {},
   "cell_type": "markdown",
   "metadata": {},
   "source": [
    "### Check not ready repos"
   ]
  },
  {
   "cell_type": "code",
   "execution_count": 20,
   "metadata": {},
   "outputs": [
    {
     "name": "stdout",
     "output_type": "stream",
     "text": [
      "Got 2344 not finished repos\n",
      "Not finished repository metadata in DB 2344\n",
      "Number of kernels mapped to invalid repo_metadata: 32889\n"
     ]
    }
   ],
   "source": [
    "not_finished_repos_count = repo_metadata_db.count_documents({\"status\" : \"PENDING\"})\n",
    "print(f\"Got {not_finished_repos_count} not finished repos\")\n",
    "\n",
    "not_finished_repos = repo_metadata_db.find({\"status\" : \"PENDING\"})\n",
    "download_again_repos_ids = []\n",
    "for not_finished_repo in not_finished_repos:\n",
    "    full_name = not_finished_repo.get(\"full_name\")\n",
    "    if full_name is None:\n",
    "        raise Exception(\"full_name is None\")\n",
    "    \n",
    "    finished_repos = repo_metadata_db.count_documents({\"full_name\" : full_name, \"status\" : \"READY\"})\n",
    "    if finished_repos == 0:\n",
    "        download_again_repos_ids.append(str(not_finished_repo.get(\"_id\")))\n",
    "\n",
    "print(f\"Not finished repository metadata in DB {len(download_again_repos_ids)}\")\n",
    "\n",
    "invalid_repo_id_kernels_count = train_db.count_documents({\"repo_metadata_id\" : {\"$in\" : download_again_repos_ids}}) + \\\n",
    "    validation_db.count_documents({\"repo_metadata_id\" : {\"$in\" : download_again_repos_ids}})\n",
    "\n",
    "print(f\"Number of kernels mapped to invalid repo_metadata: {invalid_repo_id_kernels_count}\") \n"
   ]
  },
  {
   "attachments": {},
   "cell_type": "markdown",
   "metadata": {},
   "source": [
    "### Sort repositories by metric counts"
   ]
  },
  {
   "cell_type": "code",
   "execution_count": 50,
   "metadata": {},
   "outputs": [
    {
     "name": "stdout",
     "output_type": "stream",
     "text": [
      "Got 6426 valid repos\n"
     ]
    }
   ],
   "source": [
    "metrics = [\"watchers_count\", \"subscribers_count\", \"stargazers_count\"]\n",
    "weights = [0.8, 1, 1]\n",
    "\n",
    "used_repos_ids = set(train_db.distinct(\"repo_metadata_id\") + validation_db.distinct(\"repo_metadata_id\"))\n",
    "\n",
    "\n",
    "matcher = {\"$match\" : {**{name : {\"$exists\" : True} for name in metrics}, \"_id\" : {\"$in\" : [ObjectId(idx) for idx in used_repos_ids]}}}\n",
    "projection = {\"$project\" : {**{name : f\"${name}\" for name in metrics}, \"full_name\" : \"$full_name\"}}\n",
    "\n",
    "repos = list(repo_metadata_db.aggregate([\n",
    "    matcher,\n",
    "    projection\n",
    "]))\n",
    "\n",
    "print(f\"Got {len(repos)} valid repos\")\n",
    "\n",
    "for i, repo in enumerate(repos):\n",
    "    score = sum(repo.get(metric) * weight for metric, weight in zip(metrics, weights))\n",
    "    repos[i][\"total_score\"] = score\n",
    "    repo_metadata_db.update_one({\"_id\" : repo.get(\"_id\")}, {\"$set\" : {\"total_score\" : score}})\n",
    "    \n",
    "repo_score_sorted = sorted(repos, key=lambda repo: repo.get(\"total_score\"), reverse=True)  "
   ]
  },
  {
   "cell_type": "code",
   "execution_count": 61,
   "metadata": {},
   "outputs": [
    {
     "name": "stdout",
     "output_type": "stream",
     "text": [
      "i.\tfull name\t watchers_count\tsubscribers_count\tstargazers_count\ttotal score\n",
      "1.\tkaldi-asr/kaldi\t\t 12604, 702, 12604 -> 23389.20\n",
      "2.\tNVlabs/instant-ngp\t\t 11971, 181, 11971 -> 21728.80\n",
      "3.\tisl-org/Open3D\t\t 8440, 172, 8440 -> 15364.00\n",
      "4.\tcatboost/catboost\t\t 7068, 193, 7068 -> 12915.40\n",
      "5.\tcupy/cupy\t\t 6820, 129, 6820 -> 12405.00\n",
      "6.\trapidsai/cudf\t\t 5445, 137, 5445 -> 9938.00\n",
      "7.\tOneflow-Inc/oneflow\t\t 4882, 128, 4882 -> 8915.60\n",
      "8.\tNVIDIA/thrust\t\t 4467, 205, 4467 -> 8245.60\n",
      "9.\tarrayfire/arrayfire\t\t 4103, 151, 4103 -> 7536.40\n",
      "10.\trapidsai/cuml\t\t 3254, 70, 3254 -> 5927.20\n",
      "Total kernels: 486400\n",
      "First 10 repos kernels: 9715\n",
      "Ratio: 2.00%\n"
     ]
    },
    {
     "data": {
      "application/vnd.jupyter.widget-view+json": {
       "model_id": "eab53c868e0e438b82e7c26e9f98a41c",
       "version_major": 2,
       "version_minor": 0
      },
      "text/plain": [
       "  0%|          | 0/6426 [00:00<?, ?it/s]"
      ]
     },
     "metadata": {},
     "output_type": "display_data"
    },
    {
     "name": "stdout",
     "output_type": "stream",
     "text": [
      "Pearson correlation score: 0.08\n"
     ]
    },
    {
     "data": {
      "image/png": "[encoded data removed]",
      "text/plain": [
       "<Figure size 640x480 with 1 Axes>"
      ]
     },
     "metadata": {},
     "output_type": "display_data"
    },
    {
     "name": "stdout",
     "output_type": "stream",
     "text": [
      "Highest kernel count repository is 6413. in total score out of total 6426 repos.\n"
     ]
    }
   ],
   "source": [
    "train_db.create_index(\"repo_metadata_id\")\n",
    "validation_db.create_index(\"repo_metadata_id\")\n",
    "from sklearn.linear_model import LinearRegression \n",
    "\n",
    "def count_kernels_for_repo_id(repo_id : Union[str, list]) -> int:\n",
    "    if type(repo_id) is str:\n",
    "        repo_id = [repo_id] \n",
    "\n",
    "    return train_db.count_documents({\"repo_metadata_id\" : {\"$in\" : repo_id}}) + \\\n",
    "        validation_db.count_documents({\"repo_metadata_id\" : {\"$in\" : repo_id}})\n",
    "        \n",
    "show_first_n = 10\n",
    "print(\"i.\\tfull name\\t {}\\ttotal score\".format(\"\\t\".join(metrics)))\n",
    "for i, repo in enumerate(repo_score_sorted[:show_first_n], 1):\n",
    "    print(\"{}.\\t{}\\t\\t {}, {}, {} -> {:.2f}\".format(i, repo.get(\"full_name\"), *[repo.get(metric) for metric in metrics], repo.get(\"total_score\")))\n",
    "\n",
    "firt_n_repos = repo_score_sorted[:show_first_n]\n",
    "first_n_repos_ids = [str(repo.get(\"_id\")) for repo in firt_n_repos]\n",
    "\n",
    "first_repos_kernel_count = count_kernels_for_repo_id(first_n_repos_ids)\n",
    "\n",
    "# Normalizing consts\n",
    "total_kernel_count = train_db.count_documents({}) + validation_db.count_documents({})\n",
    "total_repository_score = sum([repo.get(\"total_score\") for repo in repo_score_sorted])\n",
    "\n",
    "print(f\"Total kernels: {total_kernel_count}\")\n",
    "print(f\"First {show_first_n} repos kernels: {first_repos_kernel_count}\")\n",
    "print(f\"Ratio: {first_repos_kernel_count/total_kernel_count:.2%}\")\n",
    "\n",
    "normalized_scores = []\n",
    "normalized_kernel_count = []\n",
    "for repo in tqdm(repo_score_sorted):\n",
    "    normalized_scores.append(repo.get(\"total_score\") / total_repository_score)\n",
    "    normalized_kernel_count.append(count_kernels_for_repo_id(str(repo.get(\"_id\"))) / total_kernel_count)\n",
    "\n",
    "regressor = LinearRegression() \n",
    "regressor.fit(np.array(normalized_scores).reshape(-1, 1), normalized_kernel_count) \n",
    "linear_regression = regressor.predict(np.array(normalized_scores).reshape(-1, 1))\n",
    "\n",
    "from scipy.stats import pearsonr\n",
    "\n",
    "corr = pearsonr(normalized_scores, normalized_kernel_count)[0]\n",
    "print(\"Pearson correlation score: {:.2f}\".format(corr))\n",
    "\n",
    "\n",
    "plt.xlabel(\"Normalized repo. score\")\n",
    "plt.ylabel(\"Normalized repo. kernel count\")\n",
    "plt.scatter(normalized_scores, normalized_kernel_count)\n",
    "plt.plot(normalized_scores, linear_regression, label=\"linear regression\", color=\"orange\")\n",
    "plt.text(0.11, 0.003, f\"corr. = {corr:.2f}\")\n",
    "plt.legend()\n",
    "plt.show()\n",
    "\n",
    "\n",
    "highest_kernel_count_repo_idx = np.argmax(normalized_kernel_count)\n",
    "print(f\"Highest kernel count repository is {highest_kernel_count_repo_idx}. in total score out of total {len(repos)} repos.\")\n",
    "\n"
   ]
  }
 ],
 "metadata": {
  "kernelspec": {
   "display_name": "diplomka",
   "language": "python",
   "name": "python3"
  },
  "language_info": {
   "codemirror_mode": {
    "name": "ipython",
    "version": 3
   },
   "file_extension": ".py",
   "mimetype": "text/x-python",
   "name": "python",
   "nbconvert_exporter": "python",
   "pygments_lexer": "ipython3",
   "version": "3.8.13"
  },
  "orig_nbformat": 4
 },
 "nbformat": 4,
 "nbformat_minor": 2
}
