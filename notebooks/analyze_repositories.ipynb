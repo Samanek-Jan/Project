{
 "cells": [
  {
   "attachments": {},
   "cell_type": "markdown",
   "metadata": {},
   "source": [
    "### Imports"
   ]
  },
  {
   "cell_type": "code",
   "execution_count": 1,
   "metadata": {},
   "outputs": [],
   "source": [
    "import numpy as np\n",
    "import re, json\n",
    "from matplotlib import pyplot as plt\n",
    "from pymongo import MongoClient\n",
    "from tqdm.notebook import tqdm\n",
    "from pprint import PrettyPrinter\n",
    "from typing import Union, Iterable\n",
    "from bson.objectid import ObjectId\n",
    "\n",
    "pprint = PrettyPrinter().pprint"
   ]
  },
  {
   "cell_type": "code",
   "execution_count": 2,
   "metadata": {},
   "outputs": [],
   "source": [
    "db = MongoClient(\"mongodb://localhost:27017\")[\"cuda_snippets\"]\n",
    "train_db = db[\"train\"]\n",
    "validation_db = db[\"validation\"]\n",
    "repo_metadata_db = db[\"repo_metadata\"]"
   ]
  },
  {
   "attachments": {},
   "cell_type": "markdown",
   "metadata": {},
   "source": [
    "### Get used repositories info"
   ]
  },
  {
   "cell_type": "code",
   "execution_count": 3,
   "metadata": {},
   "outputs": [
    {
     "name": "stdout",
     "output_type": "stream",
     "text": [
      "Used repos: 6455\n",
      "Not matched kernel count: 574\n"
     ]
    }
   ],
   "source": [
    "repo_metadata_id_set = set(train_db.distinct(\"repo_metadata_id\"))\n",
    "repo_metadata_id_set.update(validation_db.distinct(\"repo_metadata_id\"))\n",
    "\n",
    "print(f\"Used repos: {len(repo_metadata_id_set)}\")\n",
    "\n",
    "not_matched_kernels_repo_names = set(list(train_db.distinct(\"repo_name\", {\"$or\" : [\n",
    "            {\"repo_metadata_id\" : {\"$exists\" : False}},\n",
    "            {\"repo_metadata_id\" : None}\n",
    "        ]    \n",
    "    })) + \\\n",
    "    list(validation_db.distinct(\"repo_name\", {\"$or\" : [\n",
    "            {\"repo_metadata_id\" : {\"$exists\" : False}},\n",
    "            {\"repo_metadata_id\" : None}\n",
    "        ]    \n",
    "    })))\n",
    "    \n",
    "print(f\"Not matched kernel count: {len(not_matched_kernels_repo_names)}\")"
   ]
  },
  {
   "cell_type": "code",
   "execution_count": 4,
   "metadata": {},
   "outputs": [
    {
     "name": "stdout",
     "output_type": "stream",
     "text": [
      "Got 6454 repos\n"
     ]
    }
   ],
   "source": [
    "repo_metadata_dict = {\n",
    "    str(repo_metadata.get(\"_id\")) : repo_metadata\n",
    "    for repo_metadata in repo_metadata_db.find({\"_id\" : {\"$in\" : [ObjectId(idx) for idx in repo_metadata_id_set]}})   \n",
    "}\n",
    "print(f\"Got {len(repo_metadata_dict)} repos\")"
   ]
  },
  {
   "attachments": {},
   "cell_type": "markdown",
   "metadata": {},
   "source": [
    "Find not-matched id"
   ]
  },
  {
   "cell_type": "code",
   "execution_count": 15,
   "metadata": {},
   "outputs": [
    {
     "name": "stdout",
     "output_type": "stream",
     "text": [
      "None\n"
     ]
    }
   ],
   "source": [
    "for idx in repo_metadata_id_set:\n",
    "    if idx not in repo_metadata_dict:\n",
    "        print(idx)"
   ]
  },
  {
   "attachments": {},
   "cell_type": "markdown",
   "metadata": {},
   "source": [
    "## After filling the rest of the repo data"
   ]
  },
  {
   "attachments": {},
   "cell_type": "markdown",
   "metadata": {},
   "source": [
    "### Get repo wanted info"
   ]
  },
  {
   "cell_type": "code",
   "execution_count": null,
   "metadata": {},
   "outputs": [],
   "source": [
    "\n",
    "used_repos_ids = set(train_db.distinct(\"repo_metadata_id\"))\n",
    "used_repos_ids.update(validation_db.distinct(\"repo_metadata_id\"))\n",
    "if None in used_repos_ids:\n",
    "    used_repos_ids.remove(None)"
   ]
  },
  {
   "cell_type": "code",
   "execution_count": null,
   "metadata": {},
   "outputs": [],
   "source": [
    "sort_criteria_keys = [\"stargazer_count\", \"subscriber_count\", \"watcher_count\"]\n",
    "\n",
    "repo_info = list(repo_metadata_db.aggregate([\n",
    "    {\"$match\" : {\"status\" : \"READY\", \"_id\" : {\"$in\" : [ObjectId(idx) for idx in used_repos_ids]}}},\n",
    "    {\"_id\" : \"$_id\", \"$project\" : {\"full_name\" : \"$full_name\", **{val : f\"${val}\" for val in sort_criteria_keys}}}\n",
    "]))\n",
    "\n",
    "print(f\"Found {len(used_repos_ids)} out of the total of {len(repo_info)}\")"
   ]
  },
  {
   "cell_type": "code",
   "execution_count": null,
   "metadata": {},
   "outputs": [],
   "source": [
    "repo_score = {}\n",
    "for repo in repo_info:\n",
    "    "
   ]
  }
 ],
 "metadata": {
  "kernelspec": {
   "display_name": "diplomka",
   "language": "python",
   "name": "python3"
  },
  "language_info": {
   "codemirror_mode": {
    "name": "ipython",
    "version": 3
   },
   "file_extension": ".py",
   "mimetype": "text/x-python",
   "name": "python",
   "nbconvert_exporter": "python",
   "pygments_lexer": "ipython3",
   "version": "3.8.13"
  },
  "orig_nbformat": 4
 },
 "nbformat": 4,
 "nbformat_minor": 2
}
