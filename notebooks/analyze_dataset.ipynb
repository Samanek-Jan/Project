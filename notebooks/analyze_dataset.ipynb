{
 "cells": [
  {
   "attachments": {},
   "cell_type": "markdown",
   "metadata": {},
   "source": [
    "### Imports"
   ]
  },
  {
   "cell_type": "code",
   "execution_count": 55,
   "metadata": {},
   "outputs": [],
   "source": [
    "import numpy as np\n",
    "import re\n",
    "from matplotlib import pyplot as plt\n",
    "from pymongo import MongoClient\n",
    "from tqdm.notebook import tqdm\n",
    "from pprint import PrettyPrinter\n",
    "from typing import Union, Iterable\n",
    "\n",
    "pprint = PrettyPrinter().pprint"
   ]
  },
  {
   "attachments": {},
   "cell_type": "markdown",
   "metadata": {},
   "source": [
    "### Load DB"
   ]
  },
  {
   "cell_type": "code",
   "execution_count": 33,
   "metadata": {},
   "outputs": [],
   "source": [
    "db = MongoClient(\"mongodb://localhost:27017\")[\"cuda_snippets\"]\n",
    "train_db = db[\"train\"]\n",
    "validation_db = db[\"validation\"]"
   ]
  },
  {
   "attachments": {},
   "cell_type": "markdown",
   "metadata": {},
   "source": [
    "Analyze compile error ratio"
   ]
  },
  {
   "cell_type": "code",
   "execution_count": 34,
   "metadata": {},
   "outputs": [
    {
     "name": "stdout",
     "output_type": "stream",
     "text": [
      "not validated : 0 (0.00%)\n",
      "compiled      : 76635 (40.37%)\n",
      "failed        : 113184 (59.63%)\n"
     ]
    }
   ],
   "source": [
    "not_validated = train_db.count_documents({\"validation\" : {\"$exists\" : False}}) + \\\n",
    "    validation_db.count_documents({\"validation\" : {\"$exists\" : False}})\n",
    "compiled_successfully = train_db.count_documents({\"validation.compiled\" : True}) + \\\n",
    "    validation_db.count_documents({\"validation.compiled\" : True})\n",
    "compiled_failed = train_db.count_documents({\"validation.compiled\" : False}) + \\\n",
    "    validation_db.count_documents({\"validation.compiled\" : False})\n",
    "\n",
    "s = sum([not_validated, compiled_successfully, compiled_failed])\n",
    "           \n",
    "print(f\"not validated : {not_validated} ({not_validated/s:.2%})\")\n",
    "print(f\"compiled      : {compiled_successfully} ({compiled_successfully/s:.2%})\")\n",
    "print(f\"failed        : {compiled_failed} ({compiled_failed/s:.2%})\")\n",
    "\n"
   ]
  },
  {
   "attachments": {},
   "cell_type": "markdown",
   "metadata": {},
   "source": [
    "Plot functions"
   ]
  },
  {
   "cell_type": "code",
   "execution_count": 35,
   "metadata": {},
   "outputs": [],
   "source": [
    "SUBPLOT_TYPES = {\n",
    "    \"line\" : \"line\",\n",
    "    \"bar\" : \"bar\",\n",
    "    \"scatter\" : \"scatter\"\n",
    "}\n",
    "\n",
    "PLOT_TYPES = {\n",
    "    \"line\" : plt.plot,\n",
    "    \"bar\" : plt.bar,\n",
    "    \"scatter\" : plt.scatter\n",
    "}\n",
    "\n",
    "def sub_plot(data : Union[list, np.ndarray], labels : Iterable, title = \"\", xlab = \"\", ylab = \"\", plot_type = \"line\"):\n",
    "    for label_data, label in zip(data, labels):\n",
    "        if type(label) in [list, tuple]:\n",
    "            assert len(label_data) == len(label)\n",
    "        else:\n",
    "            assert len(label_data) == len(labels)\n",
    "    \n",
    "    # All label data have same number class data\n",
    "    for label_data in data:\n",
    "        assert all(class_data == label_data[0] for class_data in label_data)\n",
    "\n",
    "    x_dim = len(data)    \n",
    "    y_dim = len(data[0])\n",
    "    \n",
    "    fig, ax = plt.subplots(y_dim, x_dim)\n",
    "    plt.title(title)\n",
    "    \n",
    "    for i, (label_data, label) in enumerate(zip(data, labels)):\n",
    "        x_idx = i % x_dim\n",
    "        y_idx = i // y_dim\n",
    "        axs = ax[x_idx][y_idx]\n",
    "        \n",
    "        plot_types = {\n",
    "            \"line\" : axs.plot,\n",
    "            \"bar\" : axs.bar,\n",
    "            \"scatter\" : axs.scatter\n",
    "        }\n",
    "        \n",
    "        axs.set_xlabel(xlab)\n",
    "        axs.set_ylabel(ylab)\n",
    "        \n",
    "        if type(label) in [list, tuple]:\n",
    "            plot_types.get(plot_type)(label_data, label)\n",
    "        else:\n",
    "            plot_types.get(plot_type)(label_data, labels)\n",
    "        \n",
    "        axs.legend()\n",
    "    \n",
    "    fig.show()\n",
    "\n",
    "    \n",
    "def plot(data : Union[list, np.ndarray], labels : Iterable, title = \"\", xlab = \"\", ylab = \"\", plot_type=plt.plot):\n",
    "    assert len(data) == len(labels)\n",
    "    \n",
    "    plt.tight_layout()\n",
    "    plt.figure()\n",
    "    plt.title(title)\n",
    "    plt.xlabel(xlab)\n",
    "    plt.ylabel(ylab)\n",
    "    \n",
    "    for label_data, label in zip(data, labels):\n",
    "        plt.bar()\n",
    "        plot_type(label_data, label=label)\n",
    "        \n",
    "    plt.legend()\n",
    "    plt.show()\n",
    "    \n",
    "def plot_bar(x, height, labels, title = \"\", xlab = \"\", ylab = \"\", plot_type=plt.plot):\n",
    "    assert len(x) == len(labels) and len(height) == len(labels)\n",
    "    \n",
    "    plt.tight_layout()\n",
    "    plt.figure()\n",
    "    plt.title(title)\n",
    "    plt.xlabel(xlab)\n",
    "    plt.ylabel(ylab)\n",
    "    \n",
    "    for label_x, label_height, label in zip(x, height, labels):\n",
    "        plt.bar(label_x, label_height, label=label)\n",
    "        \n",
    "    plt.legend()\n",
    "    plt.show()\n",
    "    "
   ]
  },
  {
   "attachments": {},
   "cell_type": "markdown",
   "metadata": {},
   "source": [
    "Get histogram of errors (Counts only one type of error per kernel)"
   ]
  },
  {
   "cell_type": "code",
   "execution_count": 36,
   "metadata": {},
   "outputs": [],
   "source": [
    "def count_errors(collection) -> dict:\n",
    "\n",
    "    kernel_validation_list = []\n",
    "    missing_tokens_error_counter = 0\n",
    "    wrong_vals_error_counter = 0\n",
    "    syntax_error_counter = 0\n",
    "    missing_types_error_counter = 0\n",
    "    include_error_counter = 0\n",
    "\n",
    "    train_not_compiled_kernels = collection.find({\"validation.compiled\" : False})\n",
    "    for kernel in tqdm(train_not_compiled_kernels, leave=False):\n",
    "        last_error_analysis = kernel.get(\"validation\").get(\"iterations\")[-1].get(\"error_analyses\")\n",
    "        kernel_validation_list.append({**last_error_analysis, \"id\" : kernel[\"_id\"]})\n",
    "        if len(last_error_analysis.get(\"missing_tokens\")) > 0:\n",
    "            missing_tokens_error_counter += 1\n",
    "        if len(last_error_analysis.get(\"wrong_vals\")) > 0:\n",
    "            wrong_vals_error_counter += 1\n",
    "        if len(last_error_analysis.get(\"syntax_errors\")) > 0:\n",
    "            syntax_error_counter += 1\n",
    "        if len(last_error_analysis.get(\"missing_types\")) > 0:\n",
    "            missing_types_error_counter += 1\n",
    "        if len(last_error_analysis.get(\"include_errors\")) > 0:\n",
    "            include_error_counter += 1\n",
    "            \n",
    "    return {\n",
    "        \"kernel_validations\" :  kernel_validation_list,\n",
    "        \"missing_tokens\" : missing_tokens_error_counter,\n",
    "        \"wrong_vals\" : wrong_vals_error_counter,\n",
    "        \"syntax_errors\" : syntax_error_counter,\n",
    "        \"missing_types\" : missing_types_error_counter,\n",
    "        \"include_errors\" : include_error_counter\n",
    "    }\n"
   ]
  },
  {
   "cell_type": "code",
   "execution_count": 37,
   "metadata": {},
   "outputs": [
    {
     "data": {
      "application/vnd.jupyter.widget-view+json": {
       "model_id": "f1c3f93488d748499799ba339365edd9",
       "version_major": 2,
       "version_minor": 0
      },
      "text/plain": [
       "0it [00:00, ?it/s]"
      ]
     },
     "metadata": {},
     "output_type": "display_data"
    },
    {
     "data": {
      "application/vnd.jupyter.widget-view+json": {
       "model_id": "5e0f4c72b64d48698d99d74f21a3c9db",
       "version_major": 2,
       "version_minor": 0
      },
      "text/plain": [
       "0it [00:00, ?it/s]"
      ]
     },
     "metadata": {},
     "output_type": "display_data"
    },
    {
     "name": "stdout",
     "output_type": "stream",
     "text": [
      "train. errors:\n",
      "{'include_errors': 0,\n",
      " 'missing_tokens': 74018,\n",
      " 'missing_types': 17131,\n",
      " 'syntax_errors': 38380,\n",
      " 'wrong_vals': 240}\n",
      "val. errors:\n",
      "{'include_errors': 0,\n",
      " 'missing_tokens': 12579,\n",
      " 'missing_types': 3054,\n",
      " 'syntax_errors': 5554,\n",
      " 'wrong_vals': 131}\n",
      "total errors:\n",
      "{'include_errors': 0,\n",
      " 'missing_tokens': 86597,\n",
      " 'missing_types': 20185,\n",
      " 'syntax_errors': 43934,\n",
      " 'wrong_vals': 371}\n"
     ]
    },
    {
     "data": {
      "text/plain": [
       "<Figure size 640x480 with 0 Axes>"
      ]
     },
     "metadata": {},
     "output_type": "display_data"
    },
    {
     "data": {
      "image/png": "[encoded data removed]",
      "text/plain": [
       "<Figure size 640x480 with 1 Axes>"
      ]
     },
     "metadata": {},
     "output_type": "display_data"
    }
   ],
   "source": [
    "def sum_dicts(*ds) -> dict:\n",
    "    result = {}\n",
    "    for d in ds:        \n",
    "        for k, v in d.items():\n",
    "            if k not in result:\n",
    "                result[k] = 0\n",
    "            result[k] += v\n",
    "    \n",
    "    return result\n",
    "\n",
    "train_errors = count_errors(train_db)\n",
    "val_errors = count_errors(validation_db)\n",
    "\n",
    "kernel_validation_list = [*train_errors.get(\"kernel_validations\"), *val_errors.get(\"kernel_validations\")]\n",
    "del train_errors[\"kernel_validations\"]\n",
    "del val_errors[\"kernel_validations\"]\n",
    "\n",
    "print(\"train. errors:\")\n",
    "pprint(train_errors)\n",
    "\n",
    "print(\"val. errors:\")\n",
    "pprint(val_errors)\n",
    "\n",
    "total_errors = sum_dicts(train_errors, val_errors)\n",
    "print(\"total errors:\")\n",
    "pprint(total_errors)\n",
    "plot_bar(total_errors.keys(), total_errors.values(), total_errors.keys(), \"ERROR_HIST.\", \"XLAB\", \"YLAB\")\n",
    "\n"
   ]
  },
  {
   "attachments": {},
   "cell_type": "markdown",
   "metadata": {},
   "source": [
    "Most common missing tokens"
   ]
  },
  {
   "cell_type": "code",
   "execution_count": 40,
   "metadata": {},
   "outputs": [
    {
     "data": {
      "application/vnd.jupyter.widget-view+json": {
       "model_id": "15fe254499ad48dd8af6ef5a088e3afa",
       "version_major": 2,
       "version_minor": 0
      },
      "text/plain": [
       "  0%|          | 0/113184 [00:00<?, ?it/s]"
      ]
     },
     "metadata": {},
     "output_type": "display_data"
    },
    {
     "name": "stdout",
     "output_type": "stream",
     "text": [
      "total missing tokens = 30765\n",
      "Showing first 20:\n",
      "1.\t('cta', 3261)\n",
      "2.\t('uint32_t', 2949)\n",
      "3.\t('vec3', 2596)\n",
      "4.\t('z', 2416)\n",
      "5.\t('T', 2323)\n",
      "6.\t('get_high_word', 2247)\n",
      "7.\t('set_high_word', 2247)\n",
      "8.\t('trim', 2247)\n",
      "9.\t('curandState', 2085)\n",
      "10.\t('i', 1920)\n",
      "11.\t('CUDA_1D_KERNEL_LOOP', 1774)\n",
      "12.\t('composite', 1767)\n",
      "13.\t('set_float_word', 1734)\n",
      "14.\t('insert_words', 1734)\n",
      "15.\t('uint64_t', 1350)\n",
      "16.\t('uint8_t', 1187)\n",
      "17.\t('Ray', 1027)\n",
      "18.\t('x', 973)\n",
      "19.\t('binary_operator', 962)\n",
      "20.\t('magmaDoubleComplex', 920)\n"
     ]
    }
   ],
   "source": [
    "missing_tokens_dict = {}\n",
    "for kernel_validation in tqdm(kernel_validation_list):\n",
    "    missing_tokens_set = set()\n",
    "    for missing_token in kernel_validation.get(\"missing_tokens\"):\n",
    "        if missing_token.get(\"identifier\") in missing_tokens_set:\n",
    "            continue\n",
    "        \n",
    "        missing_tokens_set.add(missing_token.get(\"identifier\"))\n",
    "        if missing_token.get(\"identifier\") not in missing_tokens_dict:\n",
    "            missing_tokens_dict[missing_token.get(\"identifier\")] = 0\n",
    "        missing_tokens_dict[missing_token.get(\"identifier\")] += 1\n",
    "\n",
    "show_first_n = 20\n",
    "print(f\"total missing tokens = {len(missing_tokens_dict)}\\nShowing first {show_first_n}:\")\n",
    "first_n_keys = sorted(missing_tokens_dict.items(), key=lambda x : x[1], reverse=True)[:show_first_n]\n",
    "for i, (val) in enumerate(first_n_keys, 1):\n",
    "    print(f\"{i}.\\t{val}\")\n"
   ]
  },
  {
   "attachments": {},
   "cell_type": "markdown",
   "metadata": {},
   "source": [
    "Show kernels with specified error"
   ]
  },
  {
   "cell_type": "code",
   "execution_count": 52,
   "metadata": {},
   "outputs": [
    {
     "data": {
      "application/vnd.jupyter.widget-view+json": {
       "model_id": "1ebf1a3079854a4884253b78752e3551",
       "version_major": 2,
       "version_minor": 0
      },
      "text/plain": [
       "  0%|          | 0/113184 [00:00<?, ?it/s]"
      ]
     },
     "metadata": {},
     "output_type": "display_data"
    },
    {
     "name": "stdout",
     "output_type": "stream",
     "text": [
      "Wanted kernels total: 2247\n"
     ]
    }
   ],
   "source": [
    "wanted_token = \"get_high_word\"\n",
    "wanted_kernels_ids = []\n",
    "for kernel_validation in tqdm(kernel_validation_list):\n",
    "    missing_tokens = set([missing_token_obj.get(\"identifier\") for missing_token_obj in kernel_validation.get(\"missing_tokens\")])\n",
    "    if wanted_token in missing_tokens:\n",
    "        wanted_kernels_ids.append(kernel_validation.get(\"id\"))\n",
    "\n",
    "wanted_kernels_ids = list(set(wanted_kernels_ids))\n",
    "print(\"Wanted kernels total:\", len(wanted_kernels_ids))"
   ]
  },
  {
   "cell_type": "code",
   "execution_count": 57,
   "metadata": {},
   "outputs": [],
   "source": [
    "def get_kernels_by_id_list(id_list : list) -> list:\n",
    "    return [*list(train_db.find({\"_id\" : {\"$in\" : id_list}})), *list(validation_db.find({\"_id\" : {\"$in\" : id_list}}))]"
   ]
  },
  {
   "cell_type": "code",
   "execution_count": 58,
   "metadata": {},
   "outputs": [
    {
     "name": "stdout",
     "output_type": "stream",
     "text": [
      "Found 2247 wanted kernels out of total 2247\n",
      "640f721f5dafbcc19b03cc1a\n",
      "__host__ __device__ inline\n",
      "float frexp_expf(float x, int *expt)\n"
     ]
    }
   ],
   "source": [
    "wanted_kernels = get_kernels_by_id_list(wanted_kernels_ids)\n",
    "print(f\"Found {len(wanted_kernels)} wanted kernels out of total {len(wanted_kernels_ids)}\")\n",
    "\n",
    "print(wanted_kernels[0].get(\"_id\"))\n",
    "print(wanted_kernels[0].get(\"header\"))\n"
   ]
  },
  {
   "attachments": {},
   "cell_type": "markdown",
   "metadata": {},
   "source": [
    "## Syntax error analysis"
   ]
  },
  {
   "cell_type": "code",
   "execution_count": 68,
   "metadata": {},
   "outputs": [
    {
     "data": {
      "application/vnd.jupyter.widget-view+json": {
       "model_id": "b1480a09f97e4623b1d4b685de7c92d8",
       "version_major": 2,
       "version_minor": 0
      },
      "text/plain": [
       "  0%|          | 0/113184 [00:00<?, ?it/s]"
      ]
     },
     "metadata": {},
     "output_type": "display_data"
    },
    {
     "name": "stdout",
     "output_type": "stream",
     "text": [
      "total expected tokens = 9\n",
      "Showing first 9:\n",
      "1.\t(';', 65775)\n",
      "2.\t(']', 31584)\n",
      "3.\t(')', 17986)\n",
      "4.\t('>', 911)\n",
      "5.\t(',', 266)\n",
      "6.\t('}', 160)\n",
      "7.\t('{', 119)\n",
      "8.\t('(', 30)\n",
      "9.\t(':', 8)\n"
     ]
    }
   ],
   "source": [
    "syntax_error_tokens = {}\n",
    "wanted_kernel_ids = set()\n",
    "expected_token_re = re.compile(\".*expected a \\\"(\\S+)\\\"\")\n",
    "for kernel_validation in tqdm(kernel_validation_list):\n",
    "    for syntax_error_obj in kernel_validation.get(\"syntax_errors\"):\n",
    "        if res := expected_token_re.match(syntax_error_obj[\"line\"]):\n",
    "            if res[1] not in syntax_error_tokens:\n",
    "                syntax_error_tokens[res[1]] = 0\n",
    "            syntax_error_tokens[res[1]] += 1\n",
    "            wanted_kernel_ids.add(kernel_validation.get(\"id\"))\n",
    "\n",
    "show_first_n = min(20, len(syntax_error_tokens))\n",
    "print(f\"total expected tokens = {len(syntax_error_tokens)}\\nShowing first {show_first_n}:\")\n",
    "first_n_keys = sorted(syntax_error_tokens.items(), key=lambda x : x[1], reverse=True)[:show_first_n]\n",
    "for i, (val) in enumerate(first_n_keys, 1):\n",
    "    print(f\"{i}.\\t{val}\")"
   ]
  },
  {
   "cell_type": "code",
   "execution_count": 70,
   "metadata": {},
   "outputs": [
    {
     "name": "stdout",
     "output_type": "stream",
     "text": [
      "Found 43910 wanted kernels out of total 43910\n",
      "640f71cb5dafbcc19b0351c0\n",
      "__device__ bool xy_rect::hit(const ray& r, float t_min, float t_max, hit_record& rec) const \n"
     ]
    }
   ],
   "source": [
    "wanted_kernels = get_kernels_by_id_list(list(wanted_kernel_ids))\n",
    "print(f\"Found {len(wanted_kernels)} wanted kernels out of total {len(wanted_kernel_ids)}\")\n",
    "\n",
    "\n",
    "print(wanted_kernels[0].get(\"_id\"))\n",
    "print(wanted_kernels[0].get(\"header\"))"
   ]
  }
 ],
 "metadata": {
  "kernelspec": {
   "display_name": "diplomka",
   "language": "python",
   "name": "python3"
  },
  "language_info": {
   "codemirror_mode": {
    "name": "ipython",
    "version": 3
   },
   "file_extension": ".py",
   "mimetype": "text/x-python",
   "name": "python",
   "nbconvert_exporter": "python",
   "pygments_lexer": "ipython3",
   "version": "3.8.13"
  },
  "orig_nbformat": 4
 },
 "nbformat": 4,
 "nbformat_minor": 2
}
