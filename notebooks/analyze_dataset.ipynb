{
 "cells": [
  {
   "attachments": {},
   "cell_type": "markdown",
   "metadata": {},
   "source": [
    "### Imports"
   ]
  },
  {
   "cell_type": "code",
   "execution_count": 1,
   "metadata": {},
   "outputs": [],
   "source": [
    "import numpy as np\n",
    "import re\n",
    "from matplotlib import pyplot as plt\n",
    "from pymongo import MongoClient\n",
    "from tqdm.notebook import tqdm\n",
    "from pprint import PrettyPrinter\n",
    "from typing import Union, Iterable\n",
    "\n",
    "pprint = PrettyPrinter().pprint"
   ]
  },
  {
   "attachments": {},
   "cell_type": "markdown",
   "metadata": {},
   "source": [
    "### Load DB"
   ]
  },
  {
   "cell_type": "code",
   "execution_count": 2,
   "metadata": {},
   "outputs": [],
   "source": [
    "db = MongoClient(\"mongodb://localhost:27017\")[\"cuda_snippets\"]\n",
    "train_db = db[\"train\"]\n",
    "validation_db = db[\"validation\"]"
   ]
  },
  {
   "cell_type": "markdown",
   "metadata": {},
   "source": [
    "Plot functions"
   ]
  },
  {
   "cell_type": "code",
   "execution_count": 3,
   "metadata": {},
   "outputs": [],
   "source": [
    "\n",
    "def plot(data : Union[list, np.ndarray], labels : Iterable, title = \"\", xlab = \"\", ylab = \"\", plot_type=plt.plot):\n",
    "    assert len(data) == len(labels)\n",
    "    \n",
    "    plt.tight_layout()\n",
    "    plt.figure()\n",
    "    plt.title(title)\n",
    "    plt.xlabel(xlab)\n",
    "    plt.ylabel(ylab)\n",
    "    \n",
    "    for label_data, label in zip(data, labels):\n",
    "        plt.bar()\n",
    "        plot_type(label_data, label=label)\n",
    "        \n",
    "    plt.legend()\n",
    "    plt.show()\n",
    "    \n",
    "def plot_bar(x, height, labels, title = \"\", xlab = \"\", ylab = \"\", label_rotation=0):\n",
    "    assert len(x) == len(labels) and len(height) == len(labels)\n",
    "    \n",
    "    plt.tight_layout()\n",
    "    plt.figure()\n",
    "    plt.title(title)\n",
    "    plt.xlabel(xlab)\n",
    "    plt.ylabel(ylab)\n",
    "    plt.xticks(rotation=label_rotation, ha='right')\n",
    "    \n",
    "    for label_x, label_height, label in zip(x, height, labels):\n",
    "        plt.bar(label_x, label_height, label=label)\n",
    "        \n",
    "    plt.legend()\n",
    "    plt.show()\n",
    "    "
   ]
  },
  {
   "attachments": {},
   "cell_type": "markdown",
   "metadata": {},
   "source": [
    "Analyze compile error ratio"
   ]
  },
  {
   "cell_type": "code",
   "execution_count": 5,
   "metadata": {},
   "outputs": [
    {
     "name": "stdout",
     "output_type": "stream",
     "text": [
      "not validated : 0 (0.00%)\n",
      "compiled      : 190005 (39.06%, 39.06%)\n",
      "failed        : 296409 (60.94%, 60.94%)\n"
     ]
    }
   ],
   "source": [
    "not_validated = train_db.count_documents({\"validation\" : {\"$exists\" : False}}) + \\\n",
    "    validation_db.count_documents({\"validation\" : {\"$exists\" : False}})\n",
    "compiled_successfully = train_db.count_documents({\"validation.compiled\" : True}) + \\\n",
    "    validation_db.count_documents({\"validation.compiled\" : True})\n",
    "compiled_failed = train_db.count_documents({\"validation.compiled\" : False}) + \\\n",
    "    validation_db.count_documents({\"validation.compiled\" : False})\n",
    "\n",
    "s = sum([not_validated, compiled_successfully, compiled_failed])\n",
    "ss = sum([compiled_successfully, compiled_failed])\n",
    "           \n",
    "print(f\"not validated : {not_validated} ({not_validated/s:.2%})\")\n",
    "print(f\"compiled      : {compiled_successfully} ({compiled_successfully/s:.2%}, {compiled_successfully/ss:.2%})\")\n",
    "print(f\"failed        : {compiled_failed} ({compiled_failed/s:.2%}, {compiled_failed/ss:.2%})\")\n",
    "\n"
   ]
  },
  {
   "attachments": {},
   "cell_type": "markdown",
   "metadata": {},
   "source": [
    "Get histogram of errors (Counts only one type of error per kernel)"
   ]
  },
  {
   "attachments": {},
   "cell_type": "markdown",
   "metadata": {},
   "source": [
    "Count error per repository"
   ]
  },
  {
   "cell_type": "code",
   "execution_count": 4,
   "metadata": {},
   "outputs": [],
   "source": [
    "from typing import Dict\n",
    "\n",
    "\n",
    "def get_repos() -> dict:\n",
    "    res = {\n",
    "        \"train\" : set(),\n",
    "        \"validation\" : set()\n",
    "    }\n",
    "    \n",
    "    res[\"train\"].update([doc[\"repo_name\"] for doc in train_db.find({})])\n",
    "    res[\"validation\"].update([doc[\"repo_name\"] for doc in validation_db.find({})])\n",
    "\n",
    "    return res\n",
    "\n",
    "def get_repo_errors(repo_name : str) -> Dict[str, set]:\n",
    "    res = {\n",
    "        \"train\" : [],\n",
    "        \"validation\" : []\n",
    "    }\n",
    "    \n",
    "    res[\"train\"] = train_db.aggregate([\n",
    "      {\"$match\" : {\"repo_name\" : repo_name, \"validation.compiled\" : False}},\n",
    "      {\"$replaceRoot\" : {\"newRoot\" : {\"$arrayElemAt\" : [\"$validation.iterations\", -1]}}},\n",
    "      {\"$replaceRoot\" : {\"newRoot\" : \"$error_analyses\"}}    \n",
    "    ])\n",
    "    \n",
    "    res[\"validation\"] = validation_db.aggregate([\n",
    "      {\"$match\" : {\"repo_name\" : repo_name, \"validation.compiled\" : False}},\n",
    "      {\"$replaceRoot\" : {\"newRoot\" : {\"$arrayElemAt\" : [\"$validation.iterations\", -1]}}},\n",
    "      {\"$replaceRoot\" : {\"newRoot\" : \"$error_analyses\"}}    \n",
    "    ])\n",
    "    \n",
    "    return res\n",
    "    \n",
    "def count_errors_in_collection(collection) -> dict:\n",
    "\n",
    "    kernel_validation_list = []\n",
    "    missing_tokens_error_counter = 0\n",
    "    wrong_vals_error_counter = 0\n",
    "    syntax_error_counter = 0\n",
    "    missing_types_error_counter = 0\n",
    "    include_error_counter = 0\n",
    "    already_defined_error_counter = 0\n",
    "\n",
    "    not_compiled_kernels = collection.find({\"validation.compiled\" : False})\n",
    "    for kernel in tqdm(not_compiled_kernels, leave=False):\n",
    "        last_error_analysis = kernel.get(\"validation\").get(\"iterations\")[-1].get(\"error_analyses\")\n",
    "        kernel_validation_list.append({**last_error_analysis, \"id\" : kernel[\"_id\"]})\n",
    "        if len(last_error_analysis.get(\"missing_tokens\")) > 0:\n",
    "            missing_tokens_error_counter += 1\n",
    "        if len(last_error_analysis.get(\"wrong_vals\")) > 0:\n",
    "            wrong_vals_error_counter += 1\n",
    "        if len(last_error_analysis.get(\"syntax_errors\")) > 0:\n",
    "            syntax_error_counter += 1\n",
    "        if len(last_error_analysis.get(\"missing_types\")) > 0:\n",
    "            missing_types_error_counter += 1\n",
    "        if len(last_error_analysis.get(\"include_errors\")) > 0:\n",
    "            include_error_counter += 1\n",
    "        if len(last_error_analysis.get(\"already_defined_errors\")) > 0:\n",
    "            already_defined_error_counter += 1\n",
    "            \n",
    "    return {\n",
    "        \"kernel_validations\" :  kernel_validation_list,\n",
    "        \"missing_tokens\" : missing_tokens_error_counter,\n",
    "        \"wrong_vals\" : wrong_vals_error_counter,\n",
    "        \"syntax_errors\" : syntax_error_counter,\n",
    "        \"missing_types\" : missing_types_error_counter,\n",
    "        \"include_errors\" : include_error_counter,\n",
    "        \"already_defined_errors\" : already_defined_error_counter\n",
    "    }\n",
    "    \n",
    "def count_errors_in_list(error_list : list) -> dict:\n",
    "\n",
    "    missing_tokens_error_counter = 0\n",
    "    wrong_vals_error_counter = 0\n",
    "    syntax_error_counter = 0\n",
    "    missing_types_error_counter = 0\n",
    "    include_error_counter = 0\n",
    "    already_defined_error_counter = 0\n",
    "\n",
    "    for last_error_analysis in error_list:\n",
    "        if len(last_error_analysis.get(\"missing_tokens\")) > 0:\n",
    "            missing_tokens_error_counter += 1\n",
    "        if len(last_error_analysis.get(\"wrong_vals\")) > 0:\n",
    "            wrong_vals_error_counter += 1\n",
    "        if len(last_error_analysis.get(\"syntax_errors\")) > 0:\n",
    "            syntax_error_counter += 1\n",
    "        if len(last_error_analysis.get(\"missing_types\")) > 0:\n",
    "            missing_types_error_counter += 1\n",
    "        if len(last_error_analysis.get(\"include_errors\")) > 0:\n",
    "            include_error_counter += 1\n",
    "        if len(last_error_analysis.get(\"already_defined_errors\")) > 0:\n",
    "            already_defined_error_counter += 1\n",
    "            \n",
    "    return {\n",
    "        \"missing_tokens\" : missing_tokens_error_counter,\n",
    "        \"wrong_vals\" : wrong_vals_error_counter,\n",
    "        \"syntax_errors\" : syntax_error_counter,\n",
    "        \"missing_types\" : missing_types_error_counter,\n",
    "        \"include_errors\" : include_error_counter,\n",
    "        \"already_defined_errors\" : already_defined_error_counter\n",
    "    }    \n",
    "    \n",
    "def sum_dicts(*ds) -> dict:\n",
    "    result = {}\n",
    "    for d in ds:        \n",
    "        for k, v in d.items():\n",
    "            if k not in result:\n",
    "                result[k] = 0\n",
    "            result[k] += v\n",
    "    \n",
    "    return result"
   ]
  },
  {
   "cell_type": "code",
   "execution_count": 7,
   "metadata": {},
   "outputs": [
    {
     "data": {
      "application/vnd.jupyter.widget-view+json": {
       "model_id": "38817c39e27948d1a57856409ab0f139",
       "version_major": 2,
       "version_minor": 0
      },
      "text/plain": [
       "0it [00:00, ?it/s]"
      ]
     },
     "metadata": {},
     "output_type": "display_data"
    },
    {
     "data": {
      "application/vnd.jupyter.widget-view+json": {
       "model_id": "be60b3a69c3d46ecaa2796adf75845aa",
       "version_major": 2,
       "version_minor": 0
      },
      "text/plain": [
       "0it [00:00, ?it/s]"
      ]
     },
     "metadata": {},
     "output_type": "display_data"
    },
    {
     "name": "stdout",
     "output_type": "stream",
     "text": [
      "train. errors:\n",
      "{'already_defined_errors': 2641,\n",
      " 'include_errors': 0,\n",
      " 'missing_tokens': 45599,\n",
      " 'missing_types': 15672,\n",
      " 'syntax_errors': 24613,\n",
      " 'wrong_vals': 64}\n",
      "val. errors:\n",
      "{'already_defined_errors': 208,\n",
      " 'include_errors': 0,\n",
      " 'missing_tokens': 4514,\n",
      " 'missing_types': 1812,\n",
      " 'syntax_errors': 2209,\n",
      " 'wrong_vals': 5}\n",
      "total errors:\n",
      "{'already_defined_errors': 2849,\n",
      " 'include_errors': 0,\n",
      " 'missing_tokens': 50113,\n",
      " 'missing_types': 17484,\n",
      " 'syntax_errors': 26822,\n",
      " 'wrong_vals': 69}\n"
     ]
    },
    {
     "data": {
      "text/plain": [
       "<Figure size 640x480 with 0 Axes>"
      ]
     },
     "metadata": {},
     "output_type": "display_data"
    },
    {
     "data": {
      "image/png": "[encoded data removed]",
      "text/plain": [
       "<Figure size 640x480 with 1 Axes>"
      ]
     },
     "metadata": {},
     "output_type": "display_data"
    }
   ],
   "source": [
    "train_errors = count_errors_in_collection(train_db)\n",
    "val_errors = count_errors_in_collection(validation_db)\n",
    "\n",
    "kernel_validation_list = [*train_errors.get(\"kernel_validations\"), *val_errors.get(\"kernel_validations\")]\n",
    "del train_errors[\"kernel_validations\"]\n",
    "del val_errors[\"kernel_validations\"]\n",
    "\n",
    "print(\"train. errors:\")\n",
    "pprint(train_errors)\n",
    "\n",
    "print(\"val. errors:\")\n",
    "pprint(val_errors)\n",
    "\n",
    "total_errors = sum_dicts(train_errors, val_errors)\n",
    "print(\"total errors:\")\n",
    "pprint(total_errors)\n",
    "plot_bar(total_errors.keys(), total_errors.values(), total_errors.keys(), \"Error histogram\", \"Error\", \"Count\", label_rotation=30)\n",
    "\n"
   ]
  },
  {
   "attachments": {},
   "cell_type": "markdown",
   "metadata": {},
   "source": [
    "Get used repositories"
   ]
  },
  {
   "cell_type": "code",
   "execution_count": 8,
   "metadata": {},
   "outputs": [
    {
     "name": "stdout",
     "output_type": "stream",
     "text": [
      "Repos in train part:      6774\n",
      "Repos in validation part: 2940\n",
      "Total: 7028\n"
     ]
    }
   ],
   "source": [
    "train_repo_set, validation_repo_set = get_repos().values()\n",
    "total_repo_set = train_repo_set.union(validation_repo_set)\n",
    "\n",
    "print(f\"Repos in train part:      {len(train_repo_set)}\")\n",
    "print(f\"Repos in validation part: {len(validation_repo_set)}\")\n",
    "print(f\"Total: {len(total_repo_set)}\")"
   ]
  },
  {
   "cell_type": "code",
   "execution_count": 9,
   "metadata": {},
   "outputs": [
    {
     "data": {
      "application/vnd.jupyter.widget-view+json": {
       "model_id": "8d25838ee5174091bd84a1d1d583e608",
       "version_major": 2,
       "version_minor": 0
      },
      "text/plain": [
       "  0%|| 0/7028 [00:00<?, ?it/s]"
      ]
     },
     "metadata": {},
     "output_type": "display_data"
    },
    {
     "name": "stdout",
     "output_type": "stream",
     "text": [
      "Groupping errors by repo_name\n",
      "Train:\n",
      "1.\t('cuda-samples-master', 5404)\n",
      "2.\t('cuda-master', 3128)\n",
      "3.\t('Cuda-master', 2863)\n",
      "4.\t('CUDA-Samples-v11.2-main', 2686)\n",
      "5.\t('CUDA-DDP-main', 2603)\n",
      "6.\t('cuda-debug-master', 2592)\n",
      "7.\t('CUDA-Programming-Starter-Kit-master', 2587)\n",
      "8.\t('CUDA_NTT_v5_8-master', 2578)\n",
      "9.\t('cuda_headers-master', 2566)\n",
      "10.\t('Programowanie-w-CUDA-na-NVIDIA-GPU-master', 2429)\n",
      "Validation:\n",
      "1.\t('SymmThinningCUDA-master', 456)\n",
      "2.\t('cuda-samples-master', 449)\n",
      "3.\t('Programowanie-w-CUDA-na-NVIDIA-GPU-master', 380)\n",
      "4.\t('thrust-main', 355)\n",
      "5.\t('cuda-master', 306)\n",
      "6.\t('Cuda-master', 287)\n",
      "7.\t('ISPH_NVIDIA_CUDA_CONTEST-master', 265)\n",
      "8.\t('cuda_headers-master', 234)\n",
      "9.\t('thrust-cuda-11.6-annotation-master', 229)\n",
      "10.\t('CUDA-Programming-Starter-Kit-master', 222)\n"
     ]
    }
   ],
   "source": [
    "\n",
    "train_repo_errors_dict = {}\n",
    "validation_repo_errors_dict = {}\n",
    "train_repo_error_count_dict = {}\n",
    "validation_repo_error_count_dict = {}\n",
    "\n",
    "pb = tqdm(total_repo_set, bar_format='{l_bar}{r_bar}{bar:-10b}')\n",
    "print(\"Groupping errors by repo_name\")\n",
    "for repo_name in pb:\n",
    "    pb.set_postfix_str(f\"{repo_name}\")\n",
    "    train_errors, validation_errors = get_repo_errors(repo_name).values()\n",
    "    train_repo_errors_dict[repo_name] = list(train_errors)\n",
    "    validation_repo_errors_dict[repo_name] = list(validation_errors)\n",
    "    train_repo_error_count_dict[repo_name] = count_errors_in_list(train_repo_errors_dict[repo_name])\n",
    "    validation_repo_error_count_dict[repo_name] = count_errors_in_list(validation_repo_errors_dict[repo_name])\n",
    "    \n",
    "train_repo_error_count_dict = {repo_name : sum(errors.values()) for repo_name, errors in train_repo_error_count_dict.items()}\n",
    "validation_repo_error_count_dict = {repo_name : sum(errors.values()) for repo_name, errors in validation_repo_error_count_dict.items()}\n",
    "\n",
    "sort_dict_desc = lambda d: sorted(d.items(), key=lambda x : x[1], reverse=True)\n",
    "show_first_n = 10\n",
    "\n",
    "train_sorted_error_count_dict = sort_dict_desc(train_repo_error_count_dict)[:show_first_n]\n",
    "validation_sorted_error_count_dict = sort_dict_desc(validation_repo_error_count_dict)[:show_first_n]\n",
    "\n",
    "print(\"Train:\")\n",
    "for i, (val) in enumerate(train_sorted_error_count_dict, 1):\n",
    "    print(f\"{i}.\\t{val}\")\n",
    "\n",
    "print(\"Validation:\")\n",
    "for i, (val) in enumerate(validation_sorted_error_count_dict, 1):\n",
    "    print(f\"{i}.\\t{val}\")\n"
   ]
  },
  {
   "attachments": {},
   "cell_type": "markdown",
   "metadata": {},
   "source": [
    "Most common missing tokens"
   ]
  },
  {
   "cell_type": "code",
   "execution_count": 10,
   "metadata": {},
   "outputs": [
    {
     "data": {
      "application/vnd.jupyter.widget-view+json": {
       "model_id": "41aa5a2478bc418c80a6db3b245571e1",
       "version_major": 2,
       "version_minor": 0
      },
      "text/plain": [
       "  0%|| 0/8775 [00:00<?, ?it/s]"
      ]
     },
     "metadata": {},
     "output_type": "display_data"
    },
    {
     "name": "stdout",
     "output_type": "stream",
     "text": [
      "Train repo: cuda-samples-master\n",
      "Total missing tokens = 685\n",
      "Showing first 10:\n",
      "1.\t('get_high_word', 202)\n",
      "2.\t('set_high_word', 202)\n",
      "3.\t('z', 201)\n",
      "4.\t('trim', 201)\n",
      "5.\t('thread_block', 198)\n",
      "6.\t('set_float_word', 165)\n",
      "7.\t('insert_words', 164)\n",
      "8.\t('type', 125)\n",
      "9.\t('composite', 124)\n",
      "10.\t('sync', 119)\n"
     ]
    },
    {
     "data": {
      "application/vnd.jupyter.widget-view+json": {
       "model_id": "39ba2912c25c4b5884c05ecd04fce087",
       "version_major": 2,
       "version_minor": 0
      },
      "text/plain": [
       "  0%|| 0/408 [00:00<?, ?it/s]"
      ]
     },
     "metadata": {},
     "output_type": "display_data"
    },
    {
     "name": "stdout",
     "output_type": "stream",
     "text": [
      "Validation repo: SymmThinningCUDA-master\n",
      "Validation total missing tokens = 84\n",
      "Showing first 10:\n",
      "1.\t('self_t', 42)\n",
      "2.\t('value_type', 21)\n",
      "3.\t('reference', 20)\n",
      "4.\t('input1', 20)\n",
      "5.\t('UnaryOp', 19)\n",
      "6.\t('get_high_word', 18)\n",
      "7.\t('set_high_word', 18)\n",
      "8.\t('z', 18)\n",
      "9.\t('trim', 18)\n",
      "10.\t('input2', 18)\n"
     ]
    }
   ],
   "source": [
    "def most_common_missing_tokens_in_repo(error_list : Iterable):\n",
    "    missing_tokens_dict = {}\n",
    "    for kernel_validation in tqdm(error_list, bar_format='{l_bar}{r_bar}{bar:-10b}'):\n",
    "        missing_tokens_set = set()\n",
    "        for missing_token in kernel_validation.get(\"missing_tokens\"):\n",
    "            if missing_token.get(\"identifier\") in missing_tokens_set:\n",
    "                continue\n",
    "            \n",
    "            missing_tokens_set.add(missing_token.get(\"identifier\"))\n",
    "            if missing_token.get(\"identifier\") not in missing_tokens_dict:\n",
    "                missing_tokens_dict[missing_token.get(\"identifier\")] = 0\n",
    "            missing_tokens_dict[missing_token.get(\"identifier\")] += 1\n",
    "    return missing_tokens_dict\n",
    "\n",
    "train_most_faulty_repo_name = train_sorted_error_count_dict[0][0]\n",
    "validation_most_faulty_repo_name = validation_sorted_error_count_dict[0][0]\n",
    "\n",
    "show_first_n = 10\n",
    "\n",
    "train_missing_tokens_count_dict = most_common_missing_tokens_in_repo(train_repo_errors_dict[train_most_faulty_repo_name])\n",
    "print(f\"Train repo: {train_most_faulty_repo_name}\")\n",
    "print(f\"Total missing tokens = {len(train_missing_tokens_count_dict)}\\nShowing first {show_first_n}:\")\n",
    "train_most_missed_tokens = sorted(train_missing_tokens_count_dict.items(), key=lambda x : x[1], reverse=True)[:show_first_n]\n",
    "for i, (val) in enumerate(train_most_missed_tokens[:min(len(train_most_missed_tokens), show_first_n)], 1):\n",
    "    print(f\"{i}.\\t{val}\")\n",
    "\n",
    "validation_missing_tokens_count_dict = most_common_missing_tokens_in_repo(validation_repo_errors_dict[validation_most_faulty_repo_name])\n",
    "print(f\"Validation repo: {validation_most_faulty_repo_name}\")\n",
    "print(f\"Validation total missing tokens = {len(validation_missing_tokens_count_dict)}\\nShowing first {show_first_n}:\")\n",
    "validation_most_missed_tokens = sorted(validation_missing_tokens_count_dict.items(), key=lambda x : x[1], reverse=True)\n",
    "for i, (val) in enumerate(validation_most_missed_tokens[:min(len(validation_missing_tokens_count_dict), show_first_n)], 1):\n",
    "    print(f\"{i}.\\t{val}\")\n",
    "    \n",
    "most_missed_tokens = sum_dicts(train_missing_tokens_count_dict, validation_missing_tokens_count_dict)\n",
    "most_missed_tokens_sorted = sorted(most_missed_tokens.items(), key=lambda x : x[1], reverse=True)"
   ]
  },
  {
   "attachments": {},
   "cell_type": "markdown",
   "metadata": {},
   "source": [
    "Show kernels with specified error"
   ]
  },
  {
   "cell_type": "code",
   "execution_count": 11,
   "metadata": {},
   "outputs": [],
   "source": [
    "def find_kernels_with_missing_token(token_name, repo_name=None):\n",
    "    kernels = []\n",
    "    \n",
    "    projection = {\"$project\" : {\"_id\" : \"$_id\", \"last_validation\" : {\"$slice\" : [\"$validation.iterations\", -1]}, \"comment\" : \"$comment\", \"header\" : \"$header\", \"body\" : \"$body\"}}\n",
    "    mtch = {\"$match\" : {\"last_validation.error_analyses.missing_tokens\" : {\"$elemMatch\" : {\"identifier\" : token_name}}}}\n",
    "    if repo_name is not None:\n",
    "        mtch[\"repo_name\"] = repo_name\n",
    "    \n",
    "    kernels.extend([*train_db.aggregate([\n",
    "        projection,\n",
    "        mtch\n",
    "    ])])\n",
    "    \n",
    "    kernels.extend([*validation_db.aggregate([\n",
    "        projection,\n",
    "        mtch\n",
    "    ])])\n",
    "    \n",
    "    return kernels\n",
    "\n",
    "def kernels_in_repo(repo_name : str) -> int:\n",
    "    return train_db.count_documents({\"repo_name\" : repo_name}) + validation_db.count_documents({\"repo_name\" : repo_name})\n"
   ]
  },
  {
   "cell_type": "code",
   "execution_count": 12,
   "metadata": {},
   "outputs": [
    {
     "name": "stdout",
     "output_type": "stream",
     "text": [
      "Total number of kernels in repo 'cuda-samples-master': 0\n",
      "1.\t('get_high_word', 220)\n",
      "2.\t('set_high_word', 220)\n",
      "3.\t('z', 219)\n",
      "4.\t('trim', 219)\n",
      "5.\t('thread_block', 198)\n",
      "6.\t('set_float_word', 178)\n",
      "7.\t('insert_words', 177)\n",
      "8.\t('type', 126)\n",
      "9.\t('composite', 124)\n",
      "10.\t('sync', 119)\n",
      "Searching token : get_high_word\n",
      "642db633b043c6fb499acbd9\n"
     ]
    }
   ],
   "source": [
    "# Searching kernels from most faulty repo with most missed token\n",
    "print(f\"Total number of kernels in repo '{train_most_faulty_repo_name}': {kernels_in_repo(train_repo_errors_dict[train_most_faulty_repo_name])}\")\n",
    "for i, (val) in enumerate(most_missed_tokens_sorted[:min(len(most_missed_tokens_sorted), show_first_n)], 1):\n",
    "    print(f\"{i}.\\t{val}\")\n",
    "\n",
    "print(f\"Searching token : {most_missed_tokens_sorted[0][0]}\")\n",
    "kernels = find_kernels_with_missing_token(most_missed_tokens_sorted[0][0])\n",
    "print(kernels[0].get(\"_id\"))"
   ]
  },
  {
   "attachments": {},
   "cell_type": "markdown",
   "metadata": {},
   "source": [
    "## Syntax error analysis"
   ]
  },
  {
   "cell_type": "code",
   "execution_count": 13,
   "metadata": {},
   "outputs": [
    {
     "data": {
      "application/vnd.jupyter.widget-view+json": {
       "model_id": "099ce6bbfdc64de585610995ad495e6c",
       "version_major": 2,
       "version_minor": 0
      },
      "text/plain": [
       "  0%|          | 0/296409 [00:00<?, ?it/s]"
      ]
     },
     "metadata": {},
     "output_type": "display_data"
    },
    {
     "name": "stdout",
     "output_type": "stream",
     "text": [
      "total expected tokens = 9\n",
      "Showing first 9:\n",
      "1.\t(';', 31598)\n",
      "2.\t(']', 25815)\n",
      "3.\t(')', 6813)\n",
      "4.\t('{', 3718)\n",
      "5.\t('>', 1918)\n",
      "6.\t(',', 460)\n",
      "7.\t(':', 162)\n",
      "8.\t('(', 158)\n",
      "9.\t('}', 102)\n"
     ]
    }
   ],
   "source": [
    "syntax_error_tokens = {}\n",
    "wanted_kernel_ids = set()\n",
    "expected_token_re = re.compile(\".*expected a \\\"(\\S+)\\\"\")\n",
    "for kernel_validation in tqdm(kernel_validation_list):\n",
    "    for syntax_error_obj in kernel_validation.get(\"syntax_errors\"):\n",
    "        if res := expected_token_re.match(syntax_error_obj[\"line\"]):\n",
    "            if res[1] not in syntax_error_tokens:\n",
    "                syntax_error_tokens[res[1]] = 0\n",
    "            syntax_error_tokens[res[1]] += 1\n",
    "            wanted_kernel_ids.add(kernel_validation.get(\"id\"))\n",
    "\n",
    "show_first_n = min(20, len(syntax_error_tokens))\n",
    "print(f\"total expected tokens = {len(syntax_error_tokens)}\\nShowing first {show_first_n}:\")\n",
    "first_n_keys = sorted(syntax_error_tokens.items(), key=lambda x : x[1], reverse=True)[:show_first_n]\n",
    "for i, (val) in enumerate(first_n_keys, 1):\n",
    "    print(f\"{i}.\\t{val}\")"
   ]
  },
  {
   "attachments": {},
   "cell_type": "markdown",
   "metadata": {},
   "source": [
    "### Statistics"
   ]
  },
  {
   "cell_type": "code",
   "execution_count": 14,
   "metadata": {},
   "outputs": [],
   "source": [
    "def count_kernels_with_less_than_n_errors(n : int) -> int:\n",
    "    \n",
    "    def count_db(db) -> int:\n",
    "        db_count = 0\n",
    "        not_compiled_kernels = db.find({\"validation.compiled\" : False})\n",
    "        for kernel in not_compiled_kernels:\n",
    "            last_error_analyses = kernel.get(\"validation\").get(\"iterations\")[0].get(\"error_analyses\")\n",
    "            kernel_errors_count = sum([len(errors) for errors in last_error_analyses.values()])\n",
    "            if kernel_errors_count < n:\n",
    "                db_count += 1\n",
    "        return db_count\n",
    "    \n",
    "    return count_db(train_db) + count_db(validation_db)"
   ]
  },
  {
   "cell_type": "code",
   "execution_count": 15,
   "metadata": {},
   "outputs": [
    {
     "data": {
      "image/png": "[encoded data removed]",
      "text/plain": [
       "<Figure size 640x480 with 1 Axes>"
      ]
     },
     "metadata": {},
     "output_type": "display_data"
    }
   ],
   "source": [
    "# Compiled statistics\n",
    "total = train_db.count_documents({}) + validation_db.count_documents({})\n",
    "\n",
    "not_compiled = train_db.count_documents({\"validation.compiled\" : False}) + \\\n",
    "    validation_db.count_documents({\"validation.compiled\" : False})\n",
    "    \n",
    "compiled = total - not_compiled\n",
    "\n",
    "compiled_on_first_try = train_db.count_documents({\"validation.compiled\" : True, \"validation.iterations.1\" : {\"$exists\" : False}}) + \\\n",
    "    validation_db.count_documents({\"validation.compiled\" : True, \"validation.iterations.1\" : {\"$exists\" : False}})\n",
    "\n",
    "less_than_2_errors = count_kernels_with_less_than_n_errors(2)\n",
    "less_than_3_errors = count_kernels_with_less_than_n_errors(3)\n",
    "less_than_5_errors = count_kernels_with_less_than_n_errors(5)\n",
    "\n",
    "\n",
    "x = [\"Not-compiled\", \"Compiled\"]\n",
    "x_axis = np.arange(len(x))\n",
    "plt.ylabel(\"Count\")\n",
    "plt.title(\"Kernel compilation statistic\")\n",
    "plt.xticks(rotation=30)\n",
    "\n",
    "rects = []\n",
    "\n",
    "# rects.append(plt.bar(x[0], [total], label=x[0], align='center'))\n",
    "rects.append(plt.bar(x[0], [not_compiled], label=\"Not-compiled\", align='center'))\n",
    "rects.append(plt.bar(x[0], [less_than_5_errors], label=\"< 5 errors\", align='center'))\n",
    "rects.append(plt.bar(x[0], [less_than_3_errors], label=\"< 3 errors\", align='center'))\n",
    "rects.append(plt.bar(x[0], [less_than_2_errors], label=\"Only 1 error\", align='center'))\n",
    "rects.append(plt.bar(x[1], [compiled], label=\"Compiled\", align='center'))\n",
    "rects.append(plt.bar(x[1], [compiled_on_first_try], label=\"First try\", align='center'))\n",
    "# rects.append(plt.bar(\"\", [], label=\"\", align='center')) # Room for legend\n",
    "\n",
    "for i, rect in enumerate(rects):\n",
    "    height = rect.get_children()[0].get_height() - total/40\n",
    "    height_text = rect.get_children()[0].get_height()\n",
    "    # if i in [1,2,3,4]:\n",
    "    #     height_text -= compiled\n",
    "    # if i == 1:\n",
    "    #     height += total//20\n",
    "    # if i == 2:\n",
    "    #     height += total//10\n",
    "    plt.text(rect.get_children()[0].get_x() + rect.get_children()[0].get_width() / 2.0, height, f'{height_text:.0f}', ha='center', va='bottom')\n",
    "\n",
    "plt.legend()\n",
    "plt.show()"
   ]
  },
  {
   "attachments": {},
   "cell_type": "markdown",
   "metadata": {},
   "source": [
    "Do error analyses for error within the file"
   ]
  },
  {
   "cell_type": "code",
   "execution_count": 16,
   "metadata": {},
   "outputs": [],
   "source": [
    "def count_local_errors_in_collection(collection) -> dict:\n",
    "\n",
    "    missing_tokens_error_counter = 0\n",
    "    wrong_vals_error_counter = 0\n",
    "    syntax_error_counter = 0\n",
    "    missing_types_error_counter = 0\n",
    "    include_error_counter = 0\n",
    "    already_defined_error_counter = 0\n",
    "    \n",
    "    is_local_error = lambda error, filename: error.get(\"line\").find(filename) != -1\n",
    "    any_local_error = lambda errors, filename: any([is_local_error(error, filename) for error in errors])\n",
    "\n",
    "    not_compiled_kernels = collection.find({\"validation.compiled\" : False})\n",
    "    for kernel in tqdm(not_compiled_kernels, leave=False):\n",
    "        filename = kernel.get(\"filename\")\n",
    "        last_error_analysis = kernel.get(\"validation\").get(\"iterations\")[-1].get(\"error_analyses\")\n",
    "        if any_local_error(last_error_analysis.get(\"missing_tokens\"), filename):\n",
    "            missing_tokens_error_counter += 1\n",
    "        if any_local_error(last_error_analysis.get(\"wrong_vals\"), filename):\n",
    "            wrong_vals_error_counter += 1\n",
    "        if any_local_error(last_error_analysis.get(\"syntax_errors\"), filename):\n",
    "            syntax_error_counter += 1\n",
    "        if any_local_error(last_error_analysis.get(\"missing_types\"), filename):\n",
    "            missing_types_error_counter += 1\n",
    "        if any_local_error(last_error_analysis.get(\"include_errors\"), filename):\n",
    "            include_error_counter += 1\n",
    "        if any_local_error(last_error_analysis.get(\"already_defined_errors\"), filename):\n",
    "            already_defined_error_counter += 1\n",
    "            \n",
    "    return {\n",
    "        \"missing_tokens\" : missing_tokens_error_counter,\n",
    "        \"wrong_vals\" : wrong_vals_error_counter,\n",
    "        \"syntax_errors\" : syntax_error_counter,\n",
    "        \"missing_types\" : missing_types_error_counter,\n",
    "        \"include_errors\" : include_error_counter,\n",
    "        \"already_defined_errors\" : already_defined_error_counter\n",
    "    }\n",
    "    "
   ]
  },
  {
   "cell_type": "code",
   "execution_count": 17,
   "metadata": {},
   "outputs": [
    {
     "data": {
      "application/vnd.jupyter.widget-view+json": {
       "model_id": "f18c3362391046be966d5f8c9147981d",
       "version_major": 2,
       "version_minor": 0
      },
      "text/plain": [
       "0it [00:00, ?it/s]"
      ]
     },
     "metadata": {},
     "output_type": "display_data"
    },
    {
     "data": {
      "application/vnd.jupyter.widget-view+json": {
       "model_id": "203612ee4abd4901b2a94ffacc80be89",
       "version_major": 2,
       "version_minor": 0
      },
      "text/plain": [
       "0it [00:00, ?it/s]"
      ]
     },
     "metadata": {},
     "output_type": "display_data"
    },
    {
     "data": {
      "text/plain": [
       "<Figure size 640x480 with 0 Axes>"
      ]
     },
     "metadata": {},
     "output_type": "display_data"
    },
    {
     "data": {
      "image/png": "[encoded data removed]",
      "text/plain": [
       "<Figure size 640x480 with 1 Axes>"
      ]
     },
     "metadata": {},
     "output_type": "display_data"
    }
   ],
   "source": [
    "local_errors_count = sum_dicts(count_local_errors_in_collection(train_db), count_local_errors_in_collection(validation_db))\n",
    "plot_bar(local_errors_count.keys(), local_errors_count.values(), local_errors_count.keys(), \"Local error histogram\", \"Error type\", \"Count\", 30)"
   ]
  },
  {
   "cell_type": "code",
   "execution_count": 18,
   "metadata": {},
   "outputs": [],
   "source": [
    "def count_local_errors():\n",
    "    expected_token_re = re.compile(\".*expected a \\\"(\\S+)\\\"\")\n",
    "    \n",
    "    def count_db(db) -> dict:\n",
    "        d= {}\n",
    "        kernels = db.aggregate([\n",
    "            {\"$match\" : {\"validation.compiled\" : False}},\n",
    "            {\"$project\" : {\"_id\" : \"$_id\", \"filename\" : \"$filename\", \"last_validation\" : {\"$slice\" : [\"$validation.iterations\", -1]}}},\n",
    "        ])\n",
    "        \n",
    "        is_local_error = lambda error, filename: error.get(\"line\").find(filename) != -1\n",
    "        \n",
    "        for kernel in tqdm(kernels):\n",
    "            unique_error_set = set()\n",
    "            filename = kernel.get(\"filename\")\n",
    "            last_validation = kernel.get(\"last_validation\")[0]\n",
    "            error_analyses = last_validation.get(\"error_analyses\")\n",
    "            for type, errors in error_analyses.items():\n",
    "                if d.get(type) == None:\n",
    "                    d[type] = 0\n",
    "                \n",
    "                for error in errors:\n",
    "                    if is_local_error(error, filename):\n",
    "                        if type == \"missing_tokens\":\n",
    "                            if error.get(\"identifier\") not in unique_error_set:\n",
    "                                d[type] += 1\n",
    "                                unique_error_set.add(error.get(\"identifier\"))\n",
    "                        elif type == \"syntax_errors\" and (res := expected_token_re.match(error[\"line\"])) != None:\n",
    "                            if  res[1] not in unique_error_set:\n",
    "                                d[type] += 1\n",
    "                                unique_error_set.add(res[1])\n",
    "                        else:\n",
    "                            d[type] += 1\n",
    "                            \n",
    "                d[type] += sum([1 for error in errors if is_local_error(error, filename)])\n",
    "        \n",
    "        return d\n",
    "\n",
    "    return sum_dicts(count_db(train_db), count_db(validation_db))"
   ]
  },
  {
   "cell_type": "code",
   "execution_count": 19,
   "metadata": {},
   "outputs": [
    {
     "data": {
      "application/vnd.jupyter.widget-view+json": {
       "model_id": "3e932b1cd4b24987b4c1d3ff37d6e6ae",
       "version_major": 2,
       "version_minor": 0
      },
      "text/plain": [
       "0it [00:00, ?it/s]"
      ]
     },
     "metadata": {},
     "output_type": "display_data"
    },
    {
     "data": {
      "application/vnd.jupyter.widget-view+json": {
       "model_id": "ad314d94e1cd47aabcdd135e95e2da2e",
       "version_major": 2,
       "version_minor": 0
      },
      "text/plain": [
       "0it [00:00, ?it/s]"
      ]
     },
     "metadata": {},
     "output_type": "display_data"
    },
    {
     "data": {
      "text/plain": [
       "<Figure size 640x480 with 0 Axes>"
      ]
     },
     "metadata": {},
     "output_type": "display_data"
    },
    {
     "data": {
      "image/png": "[encoded data removed]",
      "text/plain": [
       "<Figure size 640x480 with 1 Axes>"
      ]
     },
     "metadata": {},
     "output_type": "display_data"
    }
   ],
   "source": [
    "local_errors_count = count_local_errors()\n",
    "plot_bar(local_errors_count.keys(), local_errors_count.values(), local_errors_count.keys(), \"Local error histogram\", \"Error type\", \"Count\", 30)"
   ]
  },
  {
   "attachments": {},
   "cell_type": "markdown",
   "metadata": {},
   "source": [
    "### Mark syntatically bad kernels"
   ]
  },
  {
   "cell_type": "code",
   "execution_count": 22,
   "metadata": {},
   "outputs": [
    {
     "data": {
      "application/vnd.jupyter.widget-view+json": {
       "model_id": "c75c3a70b58e4beeaaa8efb304618842",
       "version_major": 2,
       "version_minor": 0
      },
      "text/plain": [
       "0it [00:00, ?it/s]"
      ]
     },
     "metadata": {},
     "output_type": "display_data"
    },
    {
     "data": {
      "application/vnd.jupyter.widget-view+json": {
       "model_id": "11b1ac01757847f0bd67e61a5354e49f",
       "version_major": 2,
       "version_minor": 0
      },
      "text/plain": [
       "0it [00:00, ?it/s]"
      ]
     },
     "metadata": {},
     "output_type": "display_data"
    },
    {
     "name": "stdout",
     "output_type": "stream",
     "text": [
      "Syntatically correct kernels: 485904 (0.9989515104417225)\n",
      "Syntatically faulty kernels: 510 (0.0010484895582775168)\n",
      "Total kernels: 486414\n"
     ]
    }
   ],
   "source": [
    "def mark_bad_kernels():\n",
    "    \n",
    "    def mark_db(db) -> None:\n",
    "        kernels = db.aggregate([\n",
    "            {\"$match\" : {\"validation.compiled\" : False}},\n",
    "            {\"$project\" : {\"_id\" : \"$_id\", \"filename\" : \"$filename\", \"last_validation\" : {\"$slice\" : [\"$validation.iterations\", -1]}}},\n",
    "        ])\n",
    "        \n",
    "        is_local_error = lambda error, filename: error.get(\"line\").find(filename) != -1\n",
    "        \n",
    "        for kernel in tqdm(kernels):\n",
    "            filename = kernel.get(\"filename\")\n",
    "            last_validation = kernel.get(\"last_validation\")[0]\n",
    "            error_analyses = last_validation.get(\"error_analyses\")\n",
    "            for errors in error_analyses.values():                \n",
    "                for error in errors:\n",
    "                    if is_local_error(error, filename):\n",
    "                        db.update_one({\"_id\" : kernel.get(\"_id\")}, {\"$set\" : {\"metadata.correct_syntax\" : False}})\n",
    "                        break\n",
    "    mark_db(train_db)\n",
    "    mark_db(validation_db)\n",
    "\n",
    "train_db.update_many({}, {\"$unset\" : {\"metadata.correct_syntax\" : \"\"}})\n",
    "validation_db.update_many({}, {\"$unset\" : {\"metadata.correct_syntax\" : \"\"}})\n",
    "\n",
    "mark_bad_kernels()\n",
    "train_db.update_many({\"metadata.correct_syntax\" : {\"$exists\" : False}}, {\"$set\" : {\"metadata.correct_syntax\" : True}})\n",
    "validation_db.update_many({\"metadata.correct_syntax\" : {\"$exists\" : False}}, {\"$set\" : {\"metadata.correct_syntax\" : True}})\n",
    "\n",
    "faulty_kernels = train_db.count_documents({\"metadata.correct_syntax\" : False}) + \\\n",
    "    validation_db.count_documents({\"metadata.correct_syntax\" : False})\n",
    "\n",
    "correct_kernels = train_db.count_documents({\"metadata.correct_syntax\" : True}) + \\\n",
    "    validation_db.count_documents({\"metadata.correct_syntax\" : True})\n",
    "\n",
    "total = correct_kernels + faulty_kernels\n",
    "print(f\"Syntatically correct kernels: {correct_kernels} ({correct_kernels/total:.2%})\")\n",
    "print(f\"Syntatically faulty kernels: {faulty_kernels} ({faulty_kernels/total:.2%})\")\n",
    "print(f\"Total kernels: {correct_kernels +  faulty_kernels}\")\n",
    "\n"
   ]
  },
  {
   "attachments": {},
   "cell_type": "markdown",
   "metadata": {},
   "source": [
    "### Sort kernels by prefixes"
   ]
  },
  {
   "cell_type": "code",
   "execution_count": 35,
   "metadata": {},
   "outputs": [
    {
     "data": {
      "application/vnd.jupyter.widget-view+json": {
       "model_id": "762dda434115423798a5c89c59fd24b4",
       "version_major": 2,
       "version_minor": 0
      },
      "text/plain": [
       "0it [00:00, ?it/s]"
      ]
     },
     "metadata": {},
     "output_type": "display_data"
    },
    {
     "data": {
      "application/vnd.jupyter.widget-view+json": {
       "model_id": "52203f676bdf4449a58f75e70d0de64c",
       "version_major": 2,
       "version_minor": 0
      },
      "text/plain": [
       "0it [00:00, ?it/s]"
      ]
     },
     "metadata": {},
     "output_type": "display_data"
    },
    {
     "name": "stdout",
     "output_type": "stream",
     "text": [
      "{'__device__': 156027,\n",
      " '__device____global__': 180,\n",
      " '__device____host__': 182943,\n",
      " '__device____host____global__': 70,\n",
      " '__global__': 128918,\n",
      " '__host__': 17680,\n",
      " '__host____global__': 72,\n",
      " 'other': 0}\n"
     ]
    }
   ],
   "source": [
    "def count_kernel_prefixes():\n",
    "    \n",
    "    def count_kernel_prefixes_in_db(db):\n",
    "        prefixes = {\n",
    "            \"other\" : 0\n",
    "        }\n",
    "        \n",
    "        other_kernels = []\n",
    "        device_re = re.compile(\"__device__\")\n",
    "        host_re = re.compile(\"__host__\")\n",
    "        global_re = re.compile(\"__global__\")\n",
    "        \n",
    "        for kernel in tqdm(db.find({\"metadata.correct_syntax\" : True})):\n",
    "            header = kernel.get(\"header\")\n",
    "            found_prefixes = []\n",
    "            if device_re.search(header) != None:\n",
    "                found_prefixes.append(\"__device__\")\n",
    "            if host_re.search(header) != None:\n",
    "                found_prefixes.append(\"__host__\")\n",
    "            if global_re.search(header) != None:\n",
    "                found_prefixes.append(\"__global__\")\n",
    "            \n",
    "            if len(found_prefixes) == 0:\n",
    "                prefixes[\"other\"] += 1\n",
    "                other_kernels.append(kernel)\n",
    "            else:\n",
    "                prefix = \"\".join(found_prefixes)\n",
    "                if prefix not in prefixes:\n",
    "                    prefixes[prefix] = 0\n",
    "                prefixes[prefix] += 1\n",
    "\n",
    "        return prefixes, other_kernels\n",
    "    \n",
    "    train_count, train_other_kernels = count_kernel_prefixes_in_db(train_db)\n",
    "    valid_count, valid_other_kernels = count_kernel_prefixes_in_db(validation_db)\n",
    "    \n",
    "    return sum_dicts(train_count, valid_count), train_other_kernels + valid_other_kernels      \n",
    "            \n",
    "kernel_prefix_count, other_kernels = count_kernel_prefixes()\n",
    "pprint(kernel_prefix_count)\n",
    "        "
   ]
  },
  {
   "attachments": {},
   "cell_type": "markdown",
   "metadata": {},
   "source": [
    "### Clean \"other\" kernels"
   ]
  },
  {
   "cell_type": "code",
   "execution_count": 34,
   "metadata": {},
   "outputs": [
    {
     "data": {
      "text/plain": [
       "<pymongo.results.DeleteResult at 0x7f4d9ea6ba00>"
      ]
     },
     "execution_count": 34,
     "metadata": {},
     "output_type": "execute_result"
    }
   ],
   "source": [
    "ids = [kernel.get(\"_id\") for kernel in other_kernels]\n",
    "train_db.delete_many({\"_id\" : {\"$in\" : ids}})\n",
    "validation_db.delete_many({\"_id\" : {\"$in\" : ids}})"
   ]
  },
  {
   "attachments": {},
   "cell_type": "markdown",
   "metadata": {},
   "source": [
    "### Mark cuda header prefixes to mongo"
   ]
  },
  {
   "cell_type": "code",
   "execution_count": 36,
   "metadata": {},
   "outputs": [
    {
     "data": {
      "application/vnd.jupyter.widget-view+json": {
       "model_id": "5175d61f18c34d81b588a061aa80f9ef",
       "version_major": 2,
       "version_minor": 0
      },
      "text/plain": [
       "0it [00:00, ?it/s]"
      ]
     },
     "metadata": {},
     "output_type": "display_data"
    },
    {
     "data": {
      "application/vnd.jupyter.widget-view+json": {
       "model_id": "d6e5a1a584154133bf244487c6461e0b",
       "version_major": 2,
       "version_minor": 0
      },
      "text/plain": [
       "0it [00:00, ?it/s]"
      ]
     },
     "metadata": {},
     "output_type": "display_data"
    }
   ],
   "source": [
    "def mark_kernel_prefixes() -> None:\n",
    "    \n",
    "    def mark_kernel_prefixes_in_db(db) -> None:\n",
    "        \n",
    "        device_re = re.compile(\"__device__\")\n",
    "        host_re = re.compile(\"__host__\")\n",
    "        global_re = re.compile(\"__global__\")\n",
    "        \n",
    "        for kernel in tqdm(db.find()):\n",
    "            header = kernel.get(\"header\")\n",
    "            found_prefixes = []\n",
    "            if device_re.search(header) != None:\n",
    "                found_prefixes.append(\"__device__\")\n",
    "            if host_re.search(header) != None:\n",
    "                found_prefixes.append(\"__host__\")\n",
    "            if global_re.search(header) != None:\n",
    "                found_prefixes.append(\"__global__\")\n",
    "            \n",
    "            db.update_one({\"_id\" : kernel.get(\"_id\")}, {\"$set\" : {\"metadata.header_cuda_prefixes\" : found_prefixes}})\n",
    "    \n",
    "    mark_kernel_prefixes_in_db(train_db)\n",
    "    mark_kernel_prefixes_in_db(validation_db)\n",
    "    \n",
    "mark_kernel_prefixes()"
   ]
  },
  {
   "cell_type": "code",
   "execution_count": 39,
   "metadata": {},
   "outputs": [
    {
     "name": "stdout",
     "output_type": "stream",
     "text": [
      "Total 485890\n",
      "Not marked 0\n"
     ]
    }
   ],
   "source": [
    "not_marked_count = train_db.count_documents({\"metadata.header_cuda_prefixes\" : {\"$exists\" : False}}) + \\\n",
    "    validation_db.count_documents({\"metadata.header_cuda_prefixes\" : {\"$exists\" : False}})\n",
    "print(f\"Not marked {not_marked_count}\")"
   ]
  },
  {
   "cell_type": "code",
   "execution_count": 8,
   "metadata": {},
   "outputs": [
    {
     "name": "stdout",
     "output_type": "stream",
     "text": [
      "Train valid 431007\n",
      "Valid valid 37203\n",
      "Total 468210\n"
     ]
    }
   ],
   "source": [
    "train_valid = train_db.count_documents({\"metadata.correct_syntax\" : True, \n",
    "                                        \"$or\" : [\n",
    "                                            {\"metadata.header_cuda_prefixes.0\" : {\"$ne\" : \"__host__\"}},\n",
    "                                            {\"metadata.header_cuda_prefixes.1\" : {\"$exists\" : True}}\n",
    "                                        ]})\n",
    "valid_valid = validation_db.count_documents({\"metadata.correct_syntax\" : True, \n",
    "                                        \"$or\" : [\n",
    "                                            {\"metadata.header_cuda_prefixes.0\" : {\"$ne\" : \"__host__\"}},\n",
    "                                            {\"metadata.header_cuda_prefixes.1\" : {\"$exists\" : True}}\n",
    "                                        ]})\n",
    "\n",
    "total_valid = train_valid + valid_valid\n",
    "print(f\"Train valid {train_valid}\")\n",
    "print(f\"Valid valid {valid_valid}\")\n",
    "print(f\"Total {total_valid}\")"
   ]
  },
  {
   "attachments": {},
   "cell_type": "markdown",
   "metadata": {},
   "source": [
    "### Find kernels with shared and const memory"
   ]
  },
  {
   "cell_type": "code",
   "execution_count": 5,
   "metadata": {},
   "outputs": [
    {
     "data": {
      "application/vnd.jupyter.widget-view+json": {
       "model_id": "1c683a079f7b47efb4da42367745d006",
       "version_major": 2,
       "version_minor": 0
      },
      "text/plain": [
       "0it [00:00, ?it/s]"
      ]
     },
     "metadata": {},
     "output_type": "display_data"
    },
    {
     "ename": "NameError",
     "evalue": "name 'kernel_prefix_count' is not defined",
     "output_type": "error",
     "traceback": [
      "\u001b[0;31m---------------------------------------------------------------------------\u001b[0m",
      "\u001b[0;31mNameError\u001b[0m                                 Traceback (most recent call last)",
      "Cell \u001b[0;32mIn[5], line 21\u001b[0m\n\u001b[1;32m     16\u001b[0m         \u001b[39mreturn\u001b[39;00m prefix_group_count\n\u001b[1;32m     18\u001b[0m     \u001b[39mreturn\u001b[39;00m sum_dicts(find_and_mark_optimized_kernels_db(train_db), find_and_mark_optimized_kernels_db(validation_db))\n\u001b[0;32m---> 21\u001b[0m prefixes_group_count \u001b[39m=\u001b[39m find_and_mark_optimized_kernels()\n\u001b[1;32m     22\u001b[0m pprint(prefixes_group_count)\n\u001b[1;32m     23\u001b[0m \u001b[39mprint\u001b[39m(\u001b[39mf\u001b[39m\u001b[39m\"\u001b[39m\u001b[39mTotal optimized kernels : \u001b[39m\u001b[39m{\u001b[39;00m\u001b[39msum\u001b[39m(prefixes_group_count\u001b[39m.\u001b[39mvalues())\u001b[39m}\u001b[39;00m\u001b[39m\"\u001b[39m) \n",
      "Cell \u001b[0;32mIn[5], line 18\u001b[0m, in \u001b[0;36mfind_and_mark_optimized_kernels\u001b[0;34m()\u001b[0m\n\u001b[1;32m     14\u001b[0m         train_db\u001b[39m.\u001b[39mupdate_one({\u001b[39m\"\u001b[39m\u001b[39m_id\u001b[39m\u001b[39m\"\u001b[39m : kernel\u001b[39m.\u001b[39mget(\u001b[39m\"\u001b[39m\u001b[39m_id\u001b[39m\u001b[39m\"\u001b[39m)}, {\u001b[39m\"\u001b[39m\u001b[39m$set\u001b[39m\u001b[39m\"\u001b[39m : {\u001b[39m\"\u001b[39m\u001b[39mmetadata.uses_local_mem\u001b[39m\u001b[39m\"\u001b[39m : uses_local_mem}})\n\u001b[1;32m     16\u001b[0m     \u001b[39mreturn\u001b[39;00m prefix_group_count\n\u001b[0;32m---> 18\u001b[0m \u001b[39mreturn\u001b[39;00m sum_dicts(find_and_mark_optimized_kernels_db(train_db), find_and_mark_optimized_kernels_db(validation_db))\n",
      "Cell \u001b[0;32mIn[5], line 11\u001b[0m, in \u001b[0;36mfind_and_mark_optimized_kernels.<locals>.find_and_mark_optimized_kernels_db\u001b[0;34m(db)\u001b[0m\n\u001b[1;32m      9\u001b[0m     kernel_cuda_prefix \u001b[39m=\u001b[39m \u001b[39m\"\u001b[39m\u001b[39m\"\u001b[39m\u001b[39m.\u001b[39mjoin(kernel\u001b[39m.\u001b[39mget(\u001b[39m\"\u001b[39m\u001b[39mmetadata\u001b[39m\u001b[39m\"\u001b[39m)\u001b[39m.\u001b[39mget(\u001b[39m\"\u001b[39m\u001b[39mheader_cuda_prefixes\u001b[39m\u001b[39m\"\u001b[39m))\n\u001b[1;32m     10\u001b[0m     \u001b[39mif\u001b[39;00m kernel_cuda_prefix \u001b[39mnot\u001b[39;00m \u001b[39min\u001b[39;00m prefix_group_count:\n\u001b[0;32m---> 11\u001b[0m         prefix_group_count[kernel_prefix_count] \u001b[39m=\u001b[39m \u001b[39m0\u001b[39m\n\u001b[1;32m     12\u001b[0m     prefix_group_count[kernel_prefix_count] \u001b[39m+\u001b[39m\u001b[39m=\u001b[39m \u001b[39m1\u001b[39m\n\u001b[1;32m     14\u001b[0m train_db\u001b[39m.\u001b[39mupdate_one({\u001b[39m\"\u001b[39m\u001b[39m_id\u001b[39m\u001b[39m\"\u001b[39m : kernel\u001b[39m.\u001b[39mget(\u001b[39m\"\u001b[39m\u001b[39m_id\u001b[39m\u001b[39m\"\u001b[39m)}, {\u001b[39m\"\u001b[39m\u001b[39m$set\u001b[39m\u001b[39m\"\u001b[39m : {\u001b[39m\"\u001b[39m\u001b[39mmetadata.uses_local_mem\u001b[39m\u001b[39m\"\u001b[39m : uses_local_mem}})\n",
      "\u001b[0;31mNameError\u001b[0m: name 'kernel_prefix_count' is not defined"
     ]
    }
   ],
   "source": [
    "def find_and_mark_optimized_kernels() -> dict:\n",
    "    def find_and_mark_optimized_kernels_db(db) -> list:\n",
    "        prefix_group_count = {}\n",
    "        local_mem_re = re.compile(\".*__(shared|constant)__\")\n",
    "        \n",
    "        for kernel in tqdm(db.find({})):\n",
    "            body = kernel.get(\"body\").replace(\"\\n\", \" \")\n",
    "            if uses_local_mem := (local_mem_re.match(body) != None):\n",
    "                kernel_cuda_prefix = \"\".join(kernel.get(\"metadata\").get(\"header_cuda_prefixes\"))\n",
    "                if kernel_cuda_prefix not in prefix_group_count:\n",
    "                    prefix_group_count[kernel_cuda_prefix] = 0\n",
    "                prefix_group_count[kernel_cuda_prefix] += 1\n",
    "            \n",
    "            train_db.update_one({\"_id\" : kernel.get(\"_id\")}, {\"$set\" : {\"metadata.uses_local_mem\" : uses_local_mem}})\n",
    "        \n",
    "        return prefix_group_count\n",
    "    \n",
    "    return sum_dicts(find_and_mark_optimized_kernels_db(train_db), find_and_mark_optimized_kernels_db(validation_db))\n",
    "\n",
    "\n",
    "prefixes_group_count = find_and_mark_optimized_kernels()\n",
    "pprint(prefixes_group_count)\n",
    "print(f\"Total optimized kernels : {sum(prefixes_group_count.values())}\") "
   ]
  },
  {
   "attachments": {},
   "cell_type": "markdown",
   "metadata": {},
   "source": [
    "### Kernels with generated comment"
   ]
  },
  {
   "cell_type": "code",
   "execution_count": 3,
   "metadata": {},
   "outputs": [
    {
     "name": "stdout",
     "output_type": "stream",
     "text": [
      "Total: 486400\n",
      "Original  comment: 95116 (19.56%)\n",
      "Generated comment: 391284 (80.44%)\n"
     ]
    }
   ],
   "source": [
    "total = train_db.count_documents({}) + validation_db.count_documents({})\n",
    "\n",
    "generated_comment_count = train_db.count_documents({\"has_generated_comment\" : True}) + \\\n",
    "    validation_db.count_documents({\"has_generated_comment\" : True})\n",
    "    \n",
    "print(f\"Total: {total}\")\n",
    "print(f\"Original  comment: {total-generated_comment_count} ({(total-generated_comment_count)/total:.2%})\")\n",
    "print(f\"Generated comment: {generated_comment_count} ({generated_comment_count/total:.2%})\")\n",
    "\n",
    "    "
   ]
  }
 ],
 "metadata": {
  "kernelspec": {
   "display_name": "diplomka",
   "language": "python",
   "name": "python3"
  },
  "language_info": {
   "codemirror_mode": {
    "name": "ipython",
    "version": 3
   },
   "file_extension": ".py",
   "mimetype": "text/x-python",
   "name": "python",
   "nbconvert_exporter": "python",
   "pygments_lexer": "ipython3",
   "version": "3.8.13"
  },
  "orig_nbformat": 4
 },
 "nbformat": 4,
 "nbformat_minor": 2
}
