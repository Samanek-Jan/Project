{
 "cells": [
  {
   "cell_type": "code",
   "execution_count": 1,
   "metadata": {},
   "outputs": [],
   "source": [
    "import numpy as np\n",
    "import re, json, csv\n",
    "import torch\n",
    "from matplotlib import pyplot as plt\n",
    "from pymongo import MongoClient\n",
    "from tqdm.notebook import tqdm\n",
    "from pprint import PrettyPrinter\n",
    "from typing import Union, Iterable\n",
    "from bson.objectid import ObjectId\n",
    "from torchmetrics.text.bert import BERTScore\n",
    "from torchmetrics.text.rouge import ROUGEScore\n",
    "from torchmetrics.text.bleu import BLEUScore\n",
    "from transformers import AutoModelForSeq2SeqLM, AutoModelForCausalLM, AutoConfig, AutoTokenizer\n",
    "from torchmetrics.functional import pairwise_cosine_similarity\n",
    "from torchmetrics.functional.text.bert import _get_precision_recall_f1\n",
    "from functools import partial\n",
    "from collections import Counter, defaultdict\n",
    "from itertools import chain\n",
    "from math import log\n",
    "from multiprocessing import Pool\n",
    "from typing import List\n",
    "from pymongo import MongoClient\n",
    "from typing import Set\n",
    "\n",
    "from src.baseline.model import Model\n",
    "from src.baseline.search import GreedySearch\n",
    "\n",
    "pprint = PrettyPrinter().pprint"
   ]
  },
  {
   "cell_type": "code",
   "execution_count": 2,
   "metadata": {},
   "outputs": [],
   "source": [
    "DEVICE = \"cpu\""
   ]
  },
  {
   "cell_type": "code",
   "execution_count": 3,
   "metadata": {},
   "outputs": [],
   "source": [
    "db = MongoClient(\"mongodb://localhost:27017\")[\"cuda_snippets\"]\n",
    "train_db = db[\"train\"]\n",
    "validation_db = db[\"validation\"]"
   ]
  },
  {
   "attachments": {},
   "cell_type": "markdown",
   "metadata": {},
   "source": [
    "### Get model"
   ]
  },
  {
   "attachments": {},
   "cell_type": "markdown",
   "metadata": {},
   "source": [
    "### Calculate ROUGE"
   ]
  },
  {
   "cell_type": "code",
   "execution_count": 4,
   "metadata": {},
   "outputs": [],
   "source": [
    "def compute_rouge_score(target_sentences : Iterable[str], pred_senteces : Iterable[str], tokenizer):\n",
    "    tokenizer_fn = lambda x: tokenizer.convert_ids_to_tokens(tokenizer.encode(x))\n",
    "    rouge_metric = ROUGEScore(tokenizer=tokenizer_fn)\n",
    "    # rouge_metric.update(pred_senteces, target_sentences)\n",
    "    return rouge_metric(pred_senteces, target_sentences)"
   ]
  },
  {
   "attachments": {},
   "cell_type": "markdown",
   "metadata": {},
   "source": [
    "### Calculate BLEU"
   ]
  },
  {
   "cell_type": "code",
   "execution_count": 5,
   "metadata": {},
   "outputs": [],
   "source": [
    "def compute_bleu_score(target_sentences : Iterable[str], pred_senteces : Iterable[str], tokenizer):\n",
    "    bleu_metric = BLEUScore(tokenizer=tokenizer)\n",
    "    bleu_metric.update(pred_senteces, [[s] for s in target_sentences])\n",
    "    return bleu_metric.compute()"
   ]
  },
  {
   "attachments": {},
   "cell_type": "markdown",
   "metadata": {},
   "source": [
    "### Calculate BERT score"
   ]
  },
  {
   "cell_type": "code",
   "execution_count": 6,
   "metadata": {},
   "outputs": [],
   "source": [
    "def update(self, preds: List[str], targets: List[str]) -> None:\n",
    "        \"\"\"Store predictions/references for computing BERT scores.\n",
    "\n",
    "        It is necessary to store sentences in a tokenized form to ensure the DDP mode working.\n",
    "        \"\"\"\n",
    "        \n",
    "        preds_tokenized_data = self.tokenizer(preds, max_length=1024, truncation=True, return_tensors=\"pt\", padding=True)\n",
    "        preds_dict = {\"input_ids\": preds_tokenized_data[\"input_ids\"], \"attention_mask\": preds_tokenized_data[\"attention_mask\"]}\n",
    "        target_tokenized_data = self.tokenizer(targets, max_length=1024, truncation=True, return_tensors=\"pt\", padding=True)\n",
    "        target_dict = {\"input_ids\": target_tokenized_data[\"input_ids\"], \"attention_mask\": target_tokenized_data[\"attention_mask\"]}\n",
    "\n",
    "        self.preds_input_ids.append(preds_dict[\"input_ids\"])\n",
    "        self.preds_attention_mask.append(preds_dict[\"attention_mask\"])\n",
    "        self.target_input_ids.append(target_dict[\"input_ids\"])\n",
    "        self.target_attention_mask.append(target_dict[\"attention_mask\"])\n",
    "        \n",
    "def compute_bert_score2(target_sentences : Iterable[str], pred_senteces : Iterable[str], tokenizer, model : torch.nn.Module, *args, **kwargs):\n",
    "    BERTScore.update = update\n",
    "    user_forward_fn = lambda model, d: model.get_input_embeddings()(d[\"input_ids\"])\n",
    "    bert_metric = BERTScore(model=model, user_tokenizer=tokenizer, user_forward_fn=user_forward_fn, device=DEVICE, verbose=True, num_layers=0, max_length=600)\n",
    "    # bert_metric.update = update\n",
    "    output = {}\n",
    "    for key, vals in bert_metric(preds=pred_senteces, targets=target_sentences).items():\n",
    "        output[key] = float(np.mean(vals))\n",
    "    \n",
    "    return output\n",
    "#     bert_metric.update(bert_metric, pred_senteces, target_sentences)\n",
    "#     return bert_metric.compute()"
   ]
  },
  {
   "cell_type": "code",
   "execution_count": 7,
   "metadata": {},
   "outputs": [],
   "source": [
    "def get_kernel_prefixes(kernel : str) -> Set[str]:\n",
    "    prefixes = set()\n",
    "    one_line_kernel = kernel.replace(\"\\n\", \" \")\n",
    "    cuda_header_prefix_re = re.compile(\"__(host|global|device)__\")\n",
    "    \n",
    "    prefixes.update(cuda_header_prefix_re.findall(one_line_kernel))\n",
    "    return prefixes\n",
    "        "
   ]
  },
  {
   "cell_type": "code",
   "execution_count": 8,
   "metadata": {},
   "outputs": [],
   "source": [
    "def compute_metrics(sources : List[str], targets : List[str], preds : List[str], tokenizer, model : torch.nn.Module, used_ratio : float = 1.0):\n",
    "    assert used_ratio > 0 and used_ratio <= 1\n",
    "    assert len(targets) == len(preds)\n",
    "    \n",
    "    samples = list(zip(targets, preds))\n",
    "    np.random.shuffle(samples)\n",
    "    n = round(len(samples) * used_ratio)\n",
    "    \n",
    "    print(f\"Using random {n} samples\")\n",
    "        \n",
    "    metrics_d = {\n",
    "        \"device\" : {},\n",
    "        \"host\" : {},\n",
    "        \"global\" : {}\n",
    "    }\n",
    "    \n",
    "    device_sentences = []\n",
    "    host_sentences = []\n",
    "    global_sentences = []\n",
    "    \n",
    "    pb = tqdm(zip(sources, targets, preds))\n",
    "    i = 0\n",
    "    for src, target, pred in pb:\n",
    "        found = False\n",
    "        \n",
    "        if found := (src.find(\"__device__\") != -1):\n",
    "            device_sentences.append((target, pred))\n",
    "        if found := (src.find(\"__host__\") != -1):\n",
    "            host_sentences.append((target, pred))\n",
    "        if found := (src.find(\"__global__\") != -1):\n",
    "            global_sentences.append((target, pred))\n",
    "        \n",
    "        if not found:\n",
    "            continue\n",
    "        \n",
    "        i += 1\n",
    "        pb.set_description_str(f\"{i}\")\n",
    "        if i >= n:\n",
    "            break\n",
    "    \n",
    "    if len(device_sentences) == 0:\n",
    "        print(\"WARNING: no device sample\")\n",
    "        # metrics_d[\"__device__\"] = {\"rouge\" : 0, \"bleu\" : 0, \"bert\" : 0}\n",
    "    else:\n",
    "        device_targets, device_preds = zip(*device_sentences)\n",
    "        metrics_d[\"device\"] = {\n",
    "            \"rouge\" : compute_rouge_score(device_targets, device_preds, tokenizer),\n",
    "            \"bleu\" : compute_bleu_score(device_targets, device_preds, tokenizer),\n",
    "            \"bert\" : compute_bert_score2(device_targets, device_preds, tokenizer, model)\n",
    "        }\n",
    "        print(f\"__device__ ({len(device_sentences)})\")\n",
    "        pprint(metrics_d[\"device\"])\n",
    "        \n",
    "    if len(host_sentences) == 0:\n",
    "        print(\"WARNING: no host samples\")\n",
    "        # metrics_d[\"__host__\"] = {\"rouge\" : 0, \"bleu\" : 0, \"bert\" : 0}\n",
    "    else:\n",
    "        host_targets, host_preds = zip(*host_sentences)\n",
    "        metrics_d[\"host\"] = {\n",
    "            \"rouge\" : compute_rouge_score(host_targets, host_preds, tokenizer),\n",
    "            \"bleu\" : compute_bleu_score(host_targets, host_preds, tokenizer),\n",
    "            \"bert\" : compute_bert_score2(host_targets, host_preds, tokenizer, model)\n",
    "        }\n",
    "        print(f\"__host__ ({len(host_sentences)})\")\n",
    "        pprint(metrics_d[\"host\"])\n",
    "        \n",
    "    if len(global_sentences) == 0:\n",
    "        print(\"WARNING: no global samples\")\n",
    "        # metrics_d[\"__global__\"] = {\"rouge\" : 0, \"bleu\" : 0, \"bert\" : 0}\n",
    "    else:\n",
    "        global_targets, global_preds = zip(*global_sentences)\n",
    "        metrics_d[\"global\"] = {\n",
    "            \"rouge\" : compute_rouge_score(global_targets, global_preds, tokenizer),\n",
    "            \"bleu\" : compute_bleu_score(global_targets, global_preds, tokenizer),\n",
    "            \"bert\" : compute_bert_score2(global_targets, global_preds, tokenizer, model)\n",
    "        }\n",
    "        print(f\"__global__ ({len(global_sentences)})\")\n",
    "        pprint(metrics_d[\"global\"])\n",
    "        \n",
    "    # Weights \n",
    "    total = len(device_sentences) + len(host_sentences) + len(global_sentences)\n",
    "    d_w = len(device_sentences) / total\n",
    "    h_w = len(host_sentences) / total\n",
    "    g_w = len(global_sentences) / total\n",
    "    \n",
    "    def calculate_total_metric(ds : List[dict], ws : List[float]):        \n",
    "        def calculate(ds : List[dict], ws : List[float], key : str):\n",
    "            r = 0\n",
    "            for d, w in zip(ds, ws):\n",
    "                if d is None:\n",
    "                    continue\n",
    "                \n",
    "                r += d.get(key, 0) * w\n",
    "            return r\n",
    "        \n",
    "        total_rouge = {}\n",
    "        \n",
    "        for d in ds:\n",
    "            if d is None:\n",
    "                continue\n",
    "            for key in d.keys():\n",
    "                if key in total_rouge:\n",
    "                    continue\n",
    "                \n",
    "                total_rouge[key] = calculate(ds, ws, key)\n",
    "        return total_rouge\n",
    "    \n",
    "    metrics_d[\"total\"] = {\"rouge\" : {}, \"bleu\" : -1, \"bert\" : {}}\n",
    "    metrics_d[\"total\"][\"rouge\"] = calculate_total_metric(\n",
    "        [metrics_d[\"device\"].get(\"rouge\"), metrics_d[\"host\"].get(\"rouge\"), metrics_d[\"global\"].get(\"rouge\")],\n",
    "        [d_w, h_w, g_w]\n",
    "    )\n",
    "    \n",
    "    metrics_d[\"total\"][\"bleu\"] = metrics_d[\"device\"].get(\"bleu\",0)*d_w + metrics_d[\"host\"].get(\"bleu\",0)*h_w + metrics_d[\"global\"].get(\"bleu\",0)*g_w\n",
    "\n",
    "    \n",
    "    metrics_d[\"total\"][\"bert\"] = calculate_total_metric(\n",
    "        [metrics_d[\"device\"].get(\"bert\"), metrics_d[\"host\"].get(\"bert\"), metrics_d[\"global\"].get(\"bert\")],\n",
    "        [d_w, h_w, g_w]\n",
    "    )\n",
    "    \n",
    "    print(\"total\")\n",
    "    pprint(metrics_d[\"total\"])\n",
    "    \n",
    "    # rouge = compute_rouge_score(targets, preds, tokenizer)\n",
    "    # pprint({\"rouge\" : rouge})\n",
    "\n",
    "    # bleu = compute_bleu_score(targets, preds, tokenizer)\n",
    "    # pprint({\"bleu\" : bleu})\n",
    "\n",
    "    # bert = compute_bert_score2(targets, preds, tokenizer, model)\n",
    "    # pprint({\"bert\" : bert})\n",
    "    \n",
    "    return metrics_d"
   ]
  },
  {
   "attachments": {},
   "cell_type": "markdown",
   "metadata": {},
   "source": [
    "# Baseline"
   ]
  },
  {
   "cell_type": "code",
   "execution_count": 9,
   "metadata": {},
   "outputs": [],
   "source": [
    "\n",
    "def get_baseline_model(model_path : str, tokenizer):\n",
    "    model_dict = torch.load(model_path, map_location=DEVICE)\n",
    "    configuration = model_dict.get(\"configuration\")\n",
    "\n",
    "    model = Model(len(tokenizer), configuration.get(\"d_model\"), torch.nn.CrossEntropyLoss(ignore_index=-1), tokenizer.pad_token_id, tokenizer.bos_token_id, configuration).to(DEVICE)\n",
    "    model.load_state_dict(model_dict[\"model_dict\"])\n",
    "    model = model.to(DEVICE)\n",
    "    return model, model_dict"
   ]
  },
  {
   "cell_type": "code",
   "execution_count": 10,
   "metadata": {},
   "outputs": [],
   "source": [
    "tokenizer = AutoTokenizer.from_pretrained(\"distilgpt2\", use_fast=False, model_max_length=600, add_bos_token=True)\n",
    "# tokenizer.add_tokens([\"{\", \"}\", \"<\", \">\", \";\", \"[\", \"]\", \"&\", \"*\"])\n",
    "tokenizer.add_special_tokens({\n",
    "    \"pad_token\" : \"<pad>\"\n",
    "})\n",
    "model_path = \"/tmp/xsaman02/models/baseline/baseline.evaluated.pt\"\n",
    "model, model_d = get_baseline_model(model_path, tokenizer)\n"
   ]
  },
  {
   "cell_type": "code",
   "execution_count": 19,
   "metadata": {},
   "outputs": [
    {
     "name": "stderr",
     "output_type": "stream",
     "text": [
      "Exception in thread QueueFeederThread:\n",
      "Traceback (most recent call last):\n",
      "  File \"/home/xsaman02/miniconda3/envs/diplomka/lib/python3.8/multiprocessing/queues.py\", line 235, in _feed\n",
      "    close()\n",
      "  File \"/home/xsaman02/miniconda3/envs/diplomka/lib/python3.8/multiprocessing/connection.py\", line 177, in close\n",
      "    self._close()\n",
      "  File \"/home/xsaman02/miniconda3/envs/diplomka/lib/python3.8/multiprocessing/connection.py\", line 361, in _close\n",
      "    _close(self._handle)\n",
      "OSError: [Errno 9] Bad file descriptor\n",
      "\n",
      "During handling of the above exception, another exception occurred:\n",
      "\n",
      "Traceback (most recent call last):\n",
      "  File \"/home/xsaman02/miniconda3/envs/diplomka/lib/python3.8/threading.py\", line 932, in _bootstrap_inner\n",
      "    self.run()\n",
      "  File \"/home/xsaman02/miniconda3/envs/diplomka/lib/python3.8/threading.py\", line 870, in run\n",
      "    self._target(*self._args, **self._kwargs)\n",
      "  File \"/home/xsaman02/miniconda3/envs/diplomka/lib/python3.8/multiprocessing/queues.py\", line 266, in _feed\n",
      "    queue_sem.release()\n",
      "ValueError: semaphore or lock released too many times\n"
     ]
    },
    {
     "name": "stdout",
     "output_type": "stream",
     "text": [
      "Using random 389 samples\n"
     ]
    },
    {
     "data": {
      "application/vnd.jupyter.widget-view+json": {
       "model_id": "98e17cafaa414bbb948dd384fef9ae5b",
       "version_major": 2,
       "version_minor": 0
      },
      "text/plain": [
       "0it [00:00, ?it/s]"
      ]
     },
     "metadata": {},
     "output_type": "display_data"
    },
    {
     "data": {
      "application/vnd.jupyter.widget-view+json": {
       "model_id": "ba292de462b243e0920a10ea1afda337",
       "version_major": 2,
       "version_minor": 0
      },
      "text/plain": [
       "  0%|          | 0/9 [00:00<?, ?it/s]"
      ]
     },
     "metadata": {},
     "output_type": "display_data"
    },
    {
     "name": "stderr",
     "output_type": "stream",
     "text": [
      "Exception ignored in: <function _MultiProcessingDataLoaderIter.__del__ at 0x7f038f7fbdc0>\n",
      "Traceback (most recent call last):\n",
      "  File \"/home/xsaman02/miniconda3/envs/diplomka/lib/python3.8/site-packages/torch/utils/data/dataloader.py\", line 1466, in __del__\n",
      "    self._shutdown_workers()\n",
      "  File \"/home/xsaman02/miniconda3/envs/diplomka/lib/python3.8/site-packages/torch/utils/data/dataloader.py\", line 1449, in _shutdown_workers\n",
      "    if w.is_alive():\n",
      "  File \"/home/xsaman02/miniconda3/envs/diplomka/lib/python3.8/multiprocessing/process.py\", line 160, in is_alive\n",
      "    assert self._parent_pid == os.getpid(), 'can only test a child process'\n",
      "AssertionError: can only test a child process\n"
     ]
    },
    {
     "data": {
      "application/vnd.jupyter.widget-view+json": {
       "model_id": "5b42aca51a5448e3afea4ade110711c3",
       "version_major": 2,
       "version_minor": 0
      },
      "text/plain": [
       "  0%|          | 0/9 [00:20<?, ?it/s]"
      ]
     },
     "metadata": {},
     "output_type": "display_data"
    },
    {
     "name": "stdout",
     "output_type": "stream",
     "text": [
      "__device__ (520)\n",
      "{'bert': {'f1': 0.587616716325283,\n",
      "          'precision': 0.5443727339689548,\n",
      "          'recall': 0.6573521455320028},\n",
      " 'bleu': tensor(0.0190),\n",
      " 'rouge': {'rouge1_fmeasure': tensor(0.2733),\n",
      "           'rouge1_precision': tensor(0.1807),\n",
      "           'rouge1_recall': tensor(1.),\n",
      "           'rouge2_fmeasure': tensor(0.1231),\n",
      "           'rouge2_precision': tensor(0.0855),\n",
      "           'rouge2_recall': tensor(0.5154),\n",
      "           'rougeL_fmeasure': tensor(0.2733),\n",
      "           'rougeL_precision': tensor(0.1807),\n",
      "           'rougeL_recall': tensor(1.),\n",
      "           'rougeLsum_fmeasure': tensor(0.2706),\n",
      "           'rougeLsum_precision': tensor(0.1788),\n",
      "           'rougeLsum_recall': tensor(1.)}}\n"
     ]
    },
    {
     "data": {
      "application/vnd.jupyter.widget-view+json": {
       "model_id": "75e20aa953e4472cb875b0ed8974b58d",
       "version_major": 2,
       "version_minor": 0
      },
      "text/plain": [
       "  0%|          | 0/5 [00:00<?, ?it/s]"
      ]
     },
     "metadata": {},
     "output_type": "display_data"
    },
    {
     "data": {
      "application/vnd.jupyter.widget-view+json": {
       "model_id": "080111d46e124086ac2611dd40492373",
       "version_major": 2,
       "version_minor": 0
      },
      "text/plain": [
       "  0%|          | 0/5 [00:00<?, ?it/s]"
      ]
     },
     "metadata": {},
     "output_type": "display_data"
    },
    {
     "name": "stdout",
     "output_type": "stream",
     "text": [
      "__host__ (264)\n",
      "{'bert': {'f1': 0.5618912665681406,\n",
      "          'precision': 0.5053239637477831,\n",
      "          'recall': 0.662569123461391},\n",
      " 'bleu': tensor(0.0113),\n",
      " 'rouge': {'rouge1_fmeasure': tensor(0.3063),\n",
      "           'rouge1_precision': tensor(0.2009),\n",
      "           'rouge1_recall': tensor(1.),\n",
      "           'rouge2_fmeasure': tensor(0.1300),\n",
      "           'rouge2_precision': tensor(0.0861),\n",
      "           'rouge2_recall': tensor(0.5095),\n",
      "           'rougeL_fmeasure': tensor(0.3063),\n",
      "           'rougeL_precision': tensor(0.2009),\n",
      "           'rougeL_recall': tensor(1.),\n",
      "           'rougeLsum_fmeasure': tensor(0.3026),\n",
      "           'rougeLsum_precision': tensor(0.1981),\n",
      "           'rougeLsum_recall': tensor(1.)}}\n"
     ]
    },
    {
     "data": {
      "application/vnd.jupyter.widget-view+json": {
       "model_id": "ce75b1b0d07f46b88eea11e46b1d52f1",
       "version_major": 2,
       "version_minor": 0
      },
      "text/plain": [
       "  0%|          | 0/7 [00:00<?, ?it/s]"
      ]
     },
     "metadata": {},
     "output_type": "display_data"
    },
    {
     "data": {
      "application/vnd.jupyter.widget-view+json": {
       "model_id": "ce7ba058bd2f4e799c8d34f60d6481a9",
       "version_major": 2,
       "version_minor": 0
      },
      "text/plain": [
       "  0%|          | 0/7 [00:00<?, ?it/s]"
      ]
     },
     "metadata": {},
     "output_type": "display_data"
    },
    {
     "name": "stdout",
     "output_type": "stream",
     "text": [
      "__global__ (389)\n",
      "{'bert': {'f1': 0.7075400108083661,\n",
      "          'precision': 0.7115276986804904,\n",
      "          'recall': 0.7132776129061887},\n",
      " 'bleu': tensor(0.0067),\n",
      " 'rouge': {'rouge1_fmeasure': tensor(0.1463),\n",
      "           'rouge1_precision': tensor(0.0829),\n",
      "           'rouge1_recall': tensor(1.),\n",
      "           'rouge2_fmeasure': tensor(0.0527),\n",
      "           'rouge2_precision': tensor(0.0291),\n",
      "           'rouge2_recall': tensor(0.4987),\n",
      "           'rougeL_fmeasure': tensor(0.1463),\n",
      "           'rougeL_precision': tensor(0.0829),\n",
      "           'rougeL_recall': tensor(1.),\n",
      "           'rougeLsum_fmeasure': tensor(0.1456),\n",
      "           'rougeLsum_precision': tensor(0.0825),\n",
      "           'rougeLsum_recall': tensor(1.)}}\n",
      "total\n",
      "{'bert': {'f1': 0.6215968039791907,\n",
      "          'precision': 0.5910175813128576,\n",
      "          'recall': 0.6770727669999625},\n",
      " 'bleu': tensor(0.0132),\n",
      " 'rouge': {'rouge1_fmeasure': tensor(0.2386),\n",
      "           'rouge1_precision': tensor(0.1528),\n",
      "           'rouge1_recall': tensor(1.),\n",
      "           'rouge2_fmeasure': tensor(0.1013),\n",
      "           'rouge2_precision': tensor(0.0669),\n",
      "           'rouge2_recall': tensor(0.5085),\n",
      "           'rougeL_fmeasure': tensor(0.2386),\n",
      "           'rougeL_precision': tensor(0.1528),\n",
      "           'rougeL_recall': tensor(1.),\n",
      "           'rougeLsum_fmeasure': tensor(0.2364),\n",
      "           'rougeLsum_precision': tensor(0.1512),\n",
      "           'rougeLsum_recall': tensor(1.)}}\n"
     ]
    }
   ],
   "source": [
    "used_ratio = 0.01\n",
    "metrics = compute_metrics(model_d.get(\"source_sentences\"), model_d.get(\"target_sentences\"), model_d.get(\"pred_sentences\"), tokenizer, model, used_ratio)"
   ]
  },
  {
   "cell_type": "code",
   "execution_count": 14,
   "metadata": {},
   "outputs": [
    {
     "data": {
      "image/png": "[encoded data removed]",
      "text/plain": [
       "<Figure size 640x480 with 1 Axes>"
      ]
     },
     "metadata": {},
     "output_type": "display_data"
    },
    {
     "name": "stdout",
     "output_type": "stream",
     "text": [
      "Epochs: 40\n",
      "Max: 10.806319688697931, epoch: 0\n",
      "Min: 0.3576966806393737, epoch: 39\n"
     ]
    }
   ],
   "source": [
    "loss_list = model_d.get(\"loss_list\")\n",
    "plt.figure()\n",
    "plt.title(\"baseline loss\")\n",
    "plt.ylabel(\"Cross-entropy loss\")\n",
    "plt.xlabel(\"Epoch\")\n",
    "plt.plot(loss_list)\n",
    "plt.show()\n",
    "\n",
    "print(f\"Epochs: {len(loss_list)}\")\n",
    "print(f\"Max: {max(loss_list)}, epoch: {np.argmax(loss_list)}\")\n",
    "print(f\"Min: {min(loss_list)}, epoch: {np.argmin(loss_list)}\")"
   ]
  },
  {
   "attachments": {},
   "cell_type": "markdown",
   "metadata": {},
   "source": [
    "### Average lengths"
   ]
  },
  {
   "cell_type": "code",
   "execution_count": 15,
   "metadata": {},
   "outputs": [
    {
     "data": {
      "application/vnd.jupyter.widget-view+json": {
       "model_id": "1c22e31618684a3fb8d655f71a3d4931",
       "version_major": 2,
       "version_minor": 0
      },
      "text/plain": [
       "0it [00:00, ?it/s]"
      ]
     },
     "metadata": {},
     "output_type": "display_data"
    },
    {
     "name": "stdout",
     "output_type": "stream",
     "text": [
      "Average target lines per sample: 5.284\n",
      "Average predic lines per sample: 27.398\n",
      "Average target sample size: 272.834\n",
      "Average predic sample size: 970.676\n"
     ]
    }
   ],
   "source": [
    "tgr_ls = 0\n",
    "tgr_cs = 0\n",
    "prd_ls = 0\n",
    "prd_cs = 0\n",
    "s = len(model_d.get(\"source_sentences\"))\n",
    "for tgr, prd in tqdm(zip(model_d.get(\"source_sentences\"), model_d.get(\"target_sentences\"))):\n",
    "    # tgr = tgr.replace(\";\", \";\\n\").replace(\"{\", \"{\\n\").replace(\"}\", \"}\\n\").replace(\"int\", \"\\nint\").replace(\"float\", \"\\nfloat\")\n",
    "    # prd = prd.replace(\";\", \";\\n\").replace(\"{\", \"{\\n\").replace(\"}\", \"}\\n\").replace(\"int\", \"\\nint\").replace(\"float\", \"\\nfloat\")\n",
    "    \n",
    "    tgr_ls += tgr.count(\"\\n\")\n",
    "    prd_ls += prd.count(\"\\n\")\n",
    "    \n",
    "    tgr_cs += len(tgr)\n",
    "    prd_cs += len(prd)\n",
    "    \n",
    "print(\"Average target lines per sample: {:.3f}\".format(tgr_ls/s))\n",
    "print(\"Average predic lines per sample: {:.3f}\".format(prd_ls/s))\n",
    "print(\"Average target sample size: {:.3f}\".format(tgr_cs/s))\n",
    "print(\"Average predic sample size: {:.3f}\".format(prd_cs/s))\n"
   ]
  },
  {
   "attachments": {},
   "cell_type": "markdown",
   "metadata": {},
   "source": [
    "### Examples"
   ]
  },
  {
   "cell_type": "code",
   "execution_count": 30,
   "metadata": {},
   "outputs": [
    {
     "name": "stdout",
     "output_type": "stream",
     "text": [
      "SOURCE:\n",
      "// value\n",
      "\n",
      "__global__ void VoteAllKernel2(unsigned int *input, unsigned int *result,\n",
      "                               int size)<mask>\n",
      "\n",
      "TARGET:\n",
      "{\n",
      "  int tx = threadIdx.x;\n",
      "\n",
      "  int mask = 0xffffffff;\n",
      "  result[tx] = __all_sync(mask, input[tx]);\n",
      "}\n",
      "\n",
      "PREDICT:\n",
      "{\n",
      "  int tid = threadIdx.x + blockDim.x*blockIdxreads();\n",
      "\n",
      "  if (tid < size) return;\n",
      "\n",
      "  printf(\"set World!ree!\\n\", a,id],�em[tid], tid, tid, stoping_op, stop[t]);\n",
      "  // stop in sharedizes!\\tid] = %0000[id + s, gridDim.  //\n",
      "   if(tid == 1) {\n",
      "  ) return;\n",
      "  }\n",
      "  else {\n",
      "}\n",
      "#--------------------------#\n"
     ]
    }
   ],
   "source": [
    "# Generate random example from evaluation\n",
    "samples = list(zip(model_d.get(\"source_sentences\"), model_d.get(\"target_sentences\"), model_d.get(\"pred_sentences\")))\n",
    "np.random.shuffle(samples)\n",
    "for src, tgr, prd in zip(*zip(*samples)):\n",
    "    \n",
    "    if (len(tgr) > 100):\n",
    "        continue\n",
    "    \n",
    "    print(\"SOURCE:\")\n",
    "    print(src)\n",
    "    print(\"\\nTARGET:\")\n",
    "    print(tgr)\n",
    "    print(\"\\nPREDICT:\")\n",
    "    # print(prd.replace(\";\", \";\\n\").replace(\"{\", \"{\\n\").replace(\"}\", \"}\\n\").replace(\"int\", \"\\nint\").replace(\"float\", \"\\nfloat\"))\n",
    "    print(prd)\n",
    "    print(\"#--------------------------#\")\n",
    "    break"
   ]
  },
  {
   "cell_type": "code",
   "execution_count": 52,
   "metadata": {},
   "outputs": [
    {
     "name": "stdout",
     "output_type": "stream",
     "text": [
      "INPUT:\n",
      "// Initialize privatized bin counters.  Specialized for privatized shared-memory counters\n",
      "__device__ __forceinline__ void InitBinCounters()<mask>\n",
      "\n",
      "TARGET:\n",
      "{\n",
      "    if (prefer_smem)\n",
      "        InitSmemBinCounters();\n",
      "    else\n",
      "        InitGmemBinCounters();\n",
      "}\n",
      "\n",
      "PREDICT:\n",
      "{\n",
      "    if (smem_raking_ptr > linear_tid / blockDim.raizedPLNon_SPNon_2)\n",
      "  { The smem: % num_full and zero and grid-I >= 0\\n\", g_PER_TRACKed(0], linear_index, (SPASGetMENT, linear_SPVEC) + (RGB_THREAD)) + local_TYPE) * 0) * num_REERS_VEC_RGB_TYPE> << num_valid_blocks, 0) + src_TYPE_V_dimRow_dim << 3, stream);\n",
      "\n",
      "   // Copy from the local_share[threadIdx.y + block_rows, 0, input.y;\n",
      "\n",
      "  }\n",
      "\n",
      "  int for (int i = 0; col<int i < gridDim.x < 0; i)\n",
      "}\n"
     ]
    }
   ],
   "source": [
    "from transformers import pipeline, set_seed\n",
    "model = model.eval()\n",
    "\n",
    "while True:\n",
    "    kernel = list(train_db.aggregate([\n",
    "        {\"$match\" : {\"metadata.correct_syntax\" : True}},\n",
    "        {\"$sample\" : {\"size\": 1}}\n",
    "    ]))[0]\n",
    "    \n",
    "    if len(kernel[\"body\"]) > 200:\n",
    "        continue\n",
    "\n",
    "    text_input = \"{}{}<mask>\".format(kernel[\"comment\"], kernel[\"header\"])\n",
    "\n",
    "    print(\"INPUT:\")\n",
    "    print(text_input)\n",
    "\n",
    "    print(\"\\nTARGET:\")\n",
    "    print(kernel[\"body\"])\n",
    "\n",
    "    print(\"\\nPREDICT:\")\n",
    "    x = tokenizer(text_input, return_tensors=\"pt\")\n",
    "    print(tokenizer.batch_decode(model.generate(**x, max_new_tokens=256), skip_special_tokens=True)[0])\n",
    "    break\n",
    "\n",
    "    # print(generator(text_input, max_length=256, num_return_sequences=1)[0][\"generated_text\"])\n"
   ]
  },
  {
   "cell_type": "code",
   "execution_count": 11,
   "metadata": {},
   "outputs": [],
   "source": [
    "prompt = \"\"\"\n",
    "// Kernel for dividing by two\n",
    "__device__ float divideByTwo(float v)\n",
    "\"\"\".strip()\n",
    "\n",
    "target = \"\"\"\n",
    "{\n",
    "    return v / 2;\n",
    "}\n",
    "\"\"\".strip()"
   ]
  },
  {
   "cell_type": "code",
   "execution_count": 12,
   "metadata": {},
   "outputs": [
    {
     "name": "stdout",
     "output_type": "stream",
     "text": [
      "Loss: 4.464\n",
      "//\n",
      "Two return   two\n",
      " two)\n",
      "__\n"
     ]
    }
   ],
   "source": [
    "x = tokenizer(prompt, max_length=500, padding=True, truncation=True, return_tensors=\"pt\").to(DEVICE)\n",
    "x[\"input_ids\"] = x[\"input_ids\"].type(torch.long)\n",
    "x[\"attention_mask\"] = ~x[\"attention_mask\"].type(torch.bool)\n",
    "y = tokenizer(target, max_length=500, padding=True, truncation=True, return_tensors=\"pt\").to(DEVICE)\n",
    "y[\"input_ids\"] = y[\"input_ids\"].type(torch.long)\n",
    "y[\"attention_mask\"] = ~y[\"attention_mask\"].type(torch.bool)\n",
    "\n",
    "input_tokens = [token for token in tokenizer.convert_ids_to_tokens(x[\"input_ids\"][0], skip_special_tokens=True)]\n",
    "target_tokens = [token for token in tokenizer.convert_ids_to_tokens(y[\"input_ids\"][0], skip_special_tokens=True)]\n",
    "\n",
    "logits, loss = model(x.values(), y.values())\n",
    "pred = torch.argmax(logits, dim=-1)\n",
    "pred_tokens = [token for token in tokenizer.convert_ids_to_tokens(pred[0])]\n",
    "print(f\"Loss: {loss:.3f}\")\n",
    "print(tokenizer.batch_decode(pred, skip_special_tokens=True)[0])"
   ]
  },
  {
   "cell_type": "code",
   "execution_count": null,
   "metadata": {},
   "outputs": [
    {
     "data": {
      "application/vnd.jupyter.widget-view+json": {
       "model_id": "3ef75a24c60c49849bc8e92322d32a7a",
       "version_major": 2,
       "version_minor": 0
      },
      "text/plain": [
       "0it [00:00, ?it/s]"
      ]
     },
     "metadata": {},
     "output_type": "display_data"
    }
   ],
   "source": [
    "from random import shuffle \n",
    "\n",
    "searcher = GreedySearch(model, tokenizer, 256)\n",
    "\n",
    "model = model.train()\n",
    "losses = []\n",
    "sample = 1000\n",
    "l = list(zip(model_d.get(\"source_sentences\"), model_d.get(\"target_sentences\")))\n",
    "pred_sentences = []\n",
    "sample_size_loss_list = []\n",
    "shuffle(l)\n",
    "for i, (src, tgr) in tqdm(enumerate(l[:sample])):\n",
    "    x = tokenizer(prompt, max_length=500, padding=True, truncation=True, return_tensors=\"pt\").to(DEVICE)\n",
    "    x[\"input_ids\"] = x[\"input_ids\"].type(torch.long)\n",
    "    x[\"attention_mask\"] = ~x[\"attention_mask\"].type(torch.bool)\n",
    "    y = tokenizer(target, max_length=500, padding=True, truncation=True, return_tensors=\"pt\").to(DEVICE)\n",
    "    y[\"input_ids\"] = y[\"input_ids\"].type(torch.long)\n",
    "    y[\"attention_mask\"] = ~y[\"attention_mask\"].type(torch.bool)\n",
    "    \n",
    "    \n",
    "    pred_sentences.append(searcher(*x.values()))\n",
    "    logits, loss = model(x.values(), y.values())\n",
    "    pred = torch.max(logits, dim=-1)[1][0]\n",
    "    \n",
    "    losses.append(np.random.random()*15)\n",
    "    pred_sentences.append(tokenizer.decode(pred, skip_special_tokens=True))\n",
    "    "
   ]
  },
  {
   "cell_type": "code",
   "execution_count": 20,
   "metadata": {},
   "outputs": [],
   "source": [
    "loss_list = losses\n",
    "input_len_list = []\n",
    "target_len_list = []\n",
    "\n",
    "for (src, tgr), prd in zip(l[:sample], pred_sentences):\n",
    "    input_len_list.append(len(tokenizer.encode(src)))\n",
    "    target_len_list.append(len(tokenizer.encode(tgr)))\n",
    "    "
   ]
  },
  {
   "cell_type": "code",
   "execution_count": 23,
   "metadata": {},
   "outputs": [
    {
     "name": "stderr",
     "output_type": "stream",
     "text": [
      "/home/samis/miniconda3/envs/diplomka/lib/python3.8/site-packages/scipy/stats/_stats_py.py:4424: ConstantInputWarning: An input array is constant; the correlation coefficient is not defined.\n",
      "  warnings.warn(stats.ConstantInputWarning(msg))\n"
     ]
    },
    {
     "data": {
      "image/png": "[encoded data removed]",
      "text/plain": [
       "<Figure size 600x600 with 3 Axes>"
      ]
     },
     "metadata": {},
     "output_type": "display_data"
    },
    {
     "name": "stderr",
     "output_type": "stream",
     "text": [
      "/home/samis/miniconda3/envs/diplomka/lib/python3.8/site-packages/scipy/stats/_stats_py.py:4424: ConstantInputWarning: An input array is constant; the correlation coefficient is not defined.\n",
      "  warnings.warn(stats.ConstantInputWarning(msg))\n"
     ]
    },
    {
     "data": {
      "image/png": "[encoded data removed]",
      "text/plain": [
       "<Figure size 600x600 with 3 Axes>"
      ]
     },
     "metadata": {},
     "output_type": "display_data"
    }
   ],
   "source": [
    "from sklearn.linear_model import LinearRegression \n",
    "from scipy.stats import pearsonr\n",
    "\n",
    "def scatter_hist(x, y, ax, ax_histx, ax_histy, title):\n",
    "    # no labels\n",
    "    ax_histx.tick_params(axis=\"x\", labelbottom=False)\n",
    "    ax_histy.tick_params(axis=\"y\", labelleft=False)\n",
    "\n",
    "    # the scatter plot:\n",
    "    ax.scatter(x, y)\n",
    "    \n",
    "    regressor = LinearRegression() \n",
    "    regressor.fit(np.array(x).reshape((len(x),1)), y)\n",
    "    p_y = regressor.predict(np.array(x).reshape((len(x),1)))\n",
    "    corr, _ = pearsonr(x, y)\n",
    "    ax.plot(x, p_y, linewidth=0.75, color=\"orange\")\n",
    "    ax.text(max(x)*0.8, p_y[-1], f\"Pear. corr={corr:.2f}\")\n",
    "\n",
    "    # now determine nice limits by hand:\n",
    "    binwidth = 0.25\n",
    "    \n",
    "    xmax = np.max(np.abs(x))\n",
    "    xlim = (int(xmax/binwidth) + 1) * binwidth\n",
    "    xbins = np.linspace(-xlim, xlim + binwidth, 50)\n",
    "    \n",
    "    ymax = np.max(np.abs(y))\n",
    "    ylim = (int(ymax/binwidth) + 1) * binwidth\n",
    "    ybins = np.linspace(-ylim, ylim + binwidth, 50)\n",
    "\n",
    "    ax_histx.hist(x, bins=xbins)\n",
    "    ax_histx.set_title(title)\n",
    "    ax_histy.hist(y, bins=ybins, orientation='horizontal')\n",
    "\n",
    "def plot_scatter_with_dist(x, y, title, xlabel, ylabel):\n",
    "    x = np.array(x)\n",
    "    y = np.array(y)\n",
    "    \n",
    "    # Start with a square Figure.\n",
    "    fig = plt.figure(figsize=(6, 6))\n",
    "    gs = fig.add_gridspec(2, 2,  width_ratios=(4, 1), height_ratios=(1, 4),\n",
    "                        left=0.1, right=0.9, bottom=0.1, top=0.9,\n",
    "                        wspace=0.05, hspace=0.05)\n",
    "    # Create the Axes.\n",
    "    ax = fig.add_subplot(gs[1, 0])\n",
    "    ax_histx = fig.add_subplot(gs[0, 0], sharex=ax)\n",
    "    ax_histy = fig.add_subplot(gs[1, 1], sharey=ax)\n",
    "    \n",
    "    min_x = np.quantile(x, 0.05)\n",
    "    max_x = np.quantile(x, 0.95)\n",
    "    min_y = np.quantile(y, 0.05)\n",
    "    max_y = np.quantile(y, 0.95)\n",
    "    \n",
    "    # x_mask = ((x > min_x) & (x < max_x))\n",
    "    # x = x[x_mask]\n",
    "    # y = y[x_mask]\n",
    "    # y_mask = ((y > min_y) & (y < max_y))\n",
    "    # x = x[y_mask]\n",
    "    # y = y[y_mask]\n",
    "    \n",
    "    # Draw the scatter plot and marginals.\n",
    "    scatter_hist(x, y, ax, ax_histx, ax_histy, title)\n",
    "    ax.set_xlabel(xlabel)\n",
    "    ax.set_ylabel(ylabel)\n",
    "    \n",
    "    ax.set_xlim(min_x*0.9, max_x*1.1)\n",
    "    ax.set_ylim(min_y*0.9, max_y*1.1)\n",
    "    plt.show()\n",
    "    \n",
    "    \n",
    "target_len_list = np.array(target_len_list)\n",
    "input_len_list = np.array(input_len_list)\n",
    "loss_list = np.array(loss_list)\n",
    "\n",
    "plot_scatter_with_dist(input_len_list, loss_list, \"Kernel input length & loss\", \"Input length\", \"Loss value\")\n",
    "plot_scatter_with_dist(target_len_list, loss_list, \"Kernel target length & loss\", \"Target length\", \"Loss value\")\n"
   ]
  },
  {
   "cell_type": "code",
   "execution_count": 25,
   "metadata": {},
   "outputs": [
    {
     "name": "stderr",
     "output_type": "stream",
     "text": [
      "/home/samis/miniconda3/envs/diplomka/lib/python3.8/site-packages/scipy/stats/_stats_py.py:4424: ConstantInputWarning: An input array is constant; the correlation coefficient is not defined.\n",
      "  warnings.warn(stats.ConstantInputWarning(msg))\n"
     ]
    },
    {
     "data": {
      "image/png": "[encoded data removed]",
      "text/plain": [
       "<Figure size 600x600 with 3 Axes>"
      ]
     },
     "metadata": {},
     "output_type": "display_data"
    }
   ],
   "source": [
    "prd_sample_len = []\n",
    "tgr_sample_len = []\n",
    "\n",
    "for prd, (_, tgr) in zip(pred_sentences, l[len(pred_sentences):]):\n",
    "    prd_sample_len.append(len(prd))\n",
    "    tgr_sample_len.append(len(tgr))\n",
    "\n",
    "plot_scatter_with_dist(prd_sample_len, tgr_sample_len, \"Prediction & target length\", \"Predic. length\", \"Target length\")\n"
   ]
  }
 ],
 "metadata": {
  "kernelspec": {
   "display_name": "diplomka",
   "language": "python",
   "name": "python3"
  },
  "language_info": {
   "codemirror_mode": {
    "name": "ipython",
    "version": 3
   },
   "file_extension": ".py",
   "mimetype": "text/x-python",
   "name": "python",
   "nbconvert_exporter": "python",
   "pygments_lexer": "ipython3",
   "version": "3.8.13"
  },
  "orig_nbformat": 4
 },
 "nbformat": 4,
 "nbformat_minor": 2
}
