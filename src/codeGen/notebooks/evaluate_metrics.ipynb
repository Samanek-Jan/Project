{
 "cells": [
  {
   "cell_type": "code",
   "execution_count": 2,
   "metadata": {},
   "outputs": [],
   "source": [
    "import numpy as np\n",
    "import re, json, csv\n",
    "import torch\n",
    "from matplotlib import pyplot as plt\n",
    "from pymongo import MongoClient\n",
    "from tqdm.notebook import tqdm\n",
    "from pprint import PrettyPrinter\n",
    "from typing import Union, Iterable\n",
    "from bson.objectid import ObjectId\n",
    "from torchmetrics.text.bert import BERTScore\n",
    "from torchmetrics.text.rouge import ROUGEScore\n",
    "from torchmetrics.text.bleu import BLEUScore\n",
    "from transformers import AutoModelForSeq2SeqLM, AutoModelForCausalLM, AutoConfig, AutoTokenizer\n",
    "from torchmetrics.functional import pairwise_cosine_similarity\n",
    "from torchmetrics.functional.text.bert import _get_precision_recall_f1\n",
    "from functools import partial\n",
    "from collections import Counter, defaultdict\n",
    "from itertools import chain\n",
    "from math import log\n",
    "from multiprocessing import Pool\n",
    "from typing import List\n",
    "from pymongo import MongoClient\n",
    "from typing import Set\n",
    "from collections import OrderedDict\n",
    "\n",
    "pprint = PrettyPrinter().pprint"
   ]
  },
  {
   "cell_type": "code",
   "execution_count": 1,
   "metadata": {},
   "outputs": [],
   "source": [
    "DEVICE = \"cpu\""
   ]
  },
  {
   "cell_type": "code",
   "execution_count": 3,
   "metadata": {},
   "outputs": [],
   "source": [
    "db = MongoClient(\"mongodb://localhost:27017\")[\"cuda_snippets\"]\n",
    "train_db = db[\"train\"]\n",
    "validation_db = db[\"validation\"]"
   ]
  },
  {
   "attachments": {},
   "cell_type": "markdown",
   "metadata": {},
   "source": [
    "### Get model"
   ]
  },
  {
   "attachments": {},
   "cell_type": "markdown",
   "metadata": {},
   "source": [
    "### Calculate ROUGE"
   ]
  },
  {
   "cell_type": "code",
   "execution_count": 4,
   "metadata": {},
   "outputs": [],
   "source": [
    "def compute_rouge_score(target_sentences : Iterable[str], pred_senteces : Iterable[str], tokenizer):\n",
    "    tokenizer_fn = lambda x: tokenizer.convert_ids_to_tokens(tokenizer.encode(x))\n",
    "    rouge_metric = ROUGEScore(tokenizer=tokenizer_fn)\n",
    "    # rouge_metric.update(pred_senteces, target_sentences)\n",
    "    return rouge_metric(pred_senteces, target_sentences)"
   ]
  },
  {
   "attachments": {},
   "cell_type": "markdown",
   "metadata": {},
   "source": [
    "### Calculate BLEU"
   ]
  },
  {
   "cell_type": "code",
   "execution_count": 5,
   "metadata": {},
   "outputs": [],
   "source": [
    "def compute_bleu_score(target_sentences : Iterable[str], pred_senteces : Iterable[str], tokenizer):\n",
    "    bleu_metric = BLEUScore(tokenizer=tokenizer)\n",
    "    bleu_metric.update(pred_senteces, [[s] for s in target_sentences])\n",
    "    return bleu_metric.compute()"
   ]
  },
  {
   "attachments": {},
   "cell_type": "markdown",
   "metadata": {},
   "source": [
    "### Calculate BERT score"
   ]
  },
  {
   "cell_type": "code",
   "execution_count": 6,
   "metadata": {},
   "outputs": [],
   "source": [
    "def process(a, tokenizer=None):\n",
    "    if tokenizer is not None:\n",
    "        a = tokenizer.encode(a, max_length=512, truncation=True, add_special_tokens=False)\n",
    "    return set(a)\n",
    "\n",
    "def get_idf_dict(arr, tokenizer, nthreads=4):\n",
    "    idf_count = Counter()\n",
    "    num_docs = len(arr)\n",
    "\n",
    "    process_partial = partial(process, tokenizer=tokenizer)\n",
    "\n",
    "    if nthreads > 0:\n",
    "        with Pool(nthreads) as p:\n",
    "            idf_count.update(chain.from_iterable(p.map(process_partial, arr)))\n",
    "    else:\n",
    "        idf_count.update(chain.from_iterable(map(process_partial, arr)))\n",
    "\n",
    "    idf_dict = defaultdict(lambda: log((num_docs + 1) / (1)))\n",
    "    idf_dict.update(\n",
    "        {idx: log((num_docs + 1) / (c + 1)) for (idx, c) in idf_count.items()}\n",
    "    )\n",
    "    return idf_dict\n",
    "\n",
    "class TextDataset:\n",
    "    def __init__(self, target_sentences, pred_sentences) -> None:\n",
    "        self.target_sentences = target_sentences\n",
    "        self.pred_sentences = pred_sentences\n",
    "    \n",
    "    def __len__(self):\n",
    "        return len(self.target_sentences)\n",
    "    \n",
    "    def __getitem__(self, i):\n",
    "        return self.target_sentences[i], self.pred_sentences[i]\n",
    "    \n",
    "class CollateFn:\n",
    "    def __init__(self, tokenizer) -> None:\n",
    "        self.tokenizer = tokenizer\n",
    "    \n",
    "    def __call__(self, samples : list):\n",
    "        targets, preds = zip(*samples)\n",
    "        \n",
    "        targets_pt = self.tokenizer(targets, max_length=512, truncation=True, return_tensors=\"pt\", add_special_tokens=False, padding=True)\n",
    "        preds_pt = self.tokenizer(preds, max_length=512, truncation=True, return_tensors=\"pt\", add_special_tokens=False, padding=True)\n",
    "\n",
    "        return (targets_pt, targets), (preds_pt, preds)\n",
    "\n",
    "def compute_bert_score(target_sentences : Iterable[str], pred_sentences : Iterable[str], tokenizer, embedd_layer : torch.nn.Embedding, idf_scores : dict = None, batch_size=64):\n",
    "\n",
    "    if idf_scores is None:\n",
    "        idf_scores = get_idf_dict(target_sentences, tokenizer)\n",
    "    precs = []\n",
    "    recals = []\n",
    "    f1s = []\n",
    "    \n",
    "    dataset = TextDataset(target_sentences, pred_sentences)\n",
    "    dataloader = torch.utils.data.DataLoader(dataset, batch_size=batch_size, shuffle=False, collate_fn=CollateFn(tokenizer))\n",
    "    \n",
    "    for i, ((target_pt, target_str), (pred_pt, pred_str)) in enumerate(tqdm(dataloader)):\n",
    "\n",
    "        pred_embedd = embedd_layer(pred_pt[\"input_ids\"]).view((pred_pt[\"input_ids\"].size(0),1,pred_pt[\"input_ids\"].size(1), -1))\n",
    "        target_embedd = embedd_layer(target_pt[\"input_ids\"]).view((target_pt[\"input_ids\"].size(0),1,target_pt[\"input_ids\"].size(1), -1))\n",
    "        \n",
    "        pred_idfs = [tokenizer.encode(sentence, max_length=512, add_special_tokens=False, truncation=True, return_tensors=\"pt\")[0] for sentence in pred_str]\n",
    "        pred_idfs = [torch.Tensor([idf_scores.get(token, 0) for token in sentence]) for sentence in pred_idfs]\n",
    "        pred_idfs = torch.nn.utils.rnn.pad_sequence(pred_idfs, batch_first=True, padding_value=0)\n",
    "        \n",
    "        target_idfs = [tokenizer.encode(sentence, max_length=512, add_special_tokens=False, truncation=True, return_tensors=\"pt\")[0] for sentence in target_str]\n",
    "        target_idfs = [torch.Tensor([idf_scores.get(token, 0) for token in sentence]) for sentence in target_idfs]\n",
    "        target_idfs = torch.nn.utils.rnn.pad_sequence(target_idfs, batch_first=True, padding_value=0)\n",
    "\n",
    "        # pred_idfs = torch.Tensor(\n",
    "        #     [[idf_scores.get(token, 0) for token in sentence] for sentence in pred_str]\n",
    "        # )\n",
    "        \n",
    "        # target_idfs = torch.Tensor(\n",
    "        #     [[idf_scores.get(token, 0) for token in sentence] for sentence in target_str]\n",
    "        # )\n",
    "        \n",
    "        # cos_sims = pairwise_cosine_similarity(target_embedd, pred_embedd)\n",
    "        \n",
    "        # max_sims = torch.max(cos_sims, dim=1)[0]\n",
    "        # sentence_scores.append(sum(max_sims*target_idf)/sum(target_idf))\n",
    "        \n",
    "        prec, res, f1 = _get_precision_recall_f1(pred_embedd, target_embedd, pred_idfs, target_idfs)\n",
    "        precs.append(torch.mean(prec))\n",
    "        recals.append(torch.mean(res))\n",
    "        f1s.append(torch.mean(f1))\n",
    "        \n",
    "    return  sum(precs) / len(precs), \\\n",
    "            sum(recals) / len(recals), \\\n",
    "            sum(f1s) / len(f1s)\n",
    "        "
   ]
  },
  {
   "cell_type": "code",
   "execution_count": 7,
   "metadata": {},
   "outputs": [],
   "source": [
    "def update(self, preds: List[str], targets: List[str]) -> None:\n",
    "        \"\"\"Store predictions/references for computing BERT scores.\n",
    "\n",
    "        It is necessary to store sentences in a tokenized form to ensure the DDP mode working.\n",
    "        \"\"\"\n",
    "        \n",
    "        preds_tokenized_data = self.tokenizer(preds, max_length=1024, truncation=True, return_tensors=\"pt\", padding=True)\n",
    "        preds_dict = {\"input_ids\": preds_tokenized_data[\"input_ids\"], \"attention_mask\": preds_tokenized_data[\"attention_mask\"]}\n",
    "        target_tokenized_data = self.tokenizer(targets, max_length=1024, truncation=True, return_tensors=\"pt\", padding=True)\n",
    "        target_dict = {\"input_ids\": target_tokenized_data[\"input_ids\"], \"attention_mask\": target_tokenized_data[\"attention_mask\"]}\n",
    "\n",
    "        self.preds_input_ids.append(preds_dict[\"input_ids\"])\n",
    "        self.preds_attention_mask.append(preds_dict[\"attention_mask\"])\n",
    "        self.target_input_ids.append(target_dict[\"input_ids\"])\n",
    "        self.target_attention_mask.append(target_dict[\"attention_mask\"])\n",
    "        \n",
    "def compute_bert_score2(target_sentences : Iterable[str], pred_senteces : Iterable[str], tokenizer, model : torch.nn.Module, *args, **kwargs):\n",
    "    BERTScore.update = update\n",
    "    user_forward_fn = lambda model, d: model.get_input_embeddings()(d[\"input_ids\"])\n",
    "    bert_metric = BERTScore(model=model, user_tokenizer=tokenizer, user_forward_fn=user_forward_fn, device=DEVICE, verbose=True, num_layers=0, max_length=1024)\n",
    "    # bert_metric.update = update\n",
    "    output = {}\n",
    "    for key, vals in bert_metric(preds=pred_senteces, targets=target_sentences).items():\n",
    "        output[key] = float(np.mean(vals))\n",
    "    \n",
    "    return output\n",
    "#     bert_metric.update(bert_metric, pred_senteces, target_sentences)\n",
    "#     return bert_metric.compute()"
   ]
  },
  {
   "cell_type": "code",
   "execution_count": 14,
   "metadata": {},
   "outputs": [],
   "source": [
    "def get_kernel_prefixes(kernel : str) -> Set[str]:\n",
    "    prefixes = set()\n",
    "    one_line_kernel = kernel.replace(\"\\n\", \" \")\n",
    "    cuda_header_prefix_re = re.compile(\"__(host|global|device)__\")\n",
    "    \n",
    "    prefixes.update(cuda_header_prefix_re.findall(one_line_kernel))\n",
    "    return prefixes\n",
    "        "
   ]
  },
  {
   "cell_type": "code",
   "execution_count": 21,
   "metadata": {},
   "outputs": [],
   "source": [
    "def compute_metrics(targets : List[str], preds : List[str], tokenizer, model : torch.nn.Module, used_ratio : float = 1.0):\n",
    "    assert used_ratio > 0 and used_ratio <= 1\n",
    "    assert len(targets) == len(preds)\n",
    "    \n",
    "    samples = list(zip(targets, preds))\n",
    "    np.random.shuffle(samples)\n",
    "    n = round(len(samples) * used_ratio)\n",
    "        \n",
    "    metrics_d = {\n",
    "        \"device\" : {},\n",
    "        \"host\" : {},\n",
    "        \"global\" : {}\n",
    "    }\n",
    "    \n",
    "    device_sentences = []\n",
    "    host_sentences = []\n",
    "    global_sentences = []\n",
    "    \n",
    "    pb = tqdm(zip(targets, preds))\n",
    "    i = 0\n",
    "    for target, pred in pb:\n",
    "        kernel = validation_db.find_one({\"body\" : target})\n",
    "        if kernel is None:\n",
    "            kernel = train_db.find_one({\"body\" : target})\n",
    "            if kernel is None:\n",
    "                continue\n",
    "        \n",
    "        prefixes = get_kernel_prefixes(kernel[\"header\"])\n",
    "        if len(prefixes) == 0:\n",
    "            continue\n",
    "        \n",
    "        if \"device\" in prefixes:\n",
    "            device_sentences.append((target, pred))\n",
    "        if \"host\" in prefixes:\n",
    "            host_sentences.append((target, pred))\n",
    "        if \"global\" in prefixes:\n",
    "            global_sentences.append((target, pred))\n",
    "        \n",
    "        i += 1\n",
    "        if i >= n:\n",
    "            break\n",
    "    \n",
    "    if len(device_sentences) == 0:\n",
    "        print(\"WARNING: no device sample\")\n",
    "        # metrics_d[\"__device__\"] = {\"rouge\" : 0, \"bleu\" : 0, \"bert\" : 0}\n",
    "    else:\n",
    "        device_targets, device_preds = zip(*device_sentences)\n",
    "        metrics_d[\"device\"] = {\n",
    "            \"rouge\" : compute_rouge_score(device_targets, device_preds, tokenizer),\n",
    "            \"bleu\" : compute_bleu_score(device_targets, device_preds, tokenizer),\n",
    "            \"bert\" : compute_bert_score2(device_targets, device_preds, tokenizer, model)\n",
    "        }\n",
    "        print(f\"__device__ ({len(device_sentences)})\")\n",
    "        pprint(metrics_d[\"device\"])\n",
    "        \n",
    "    if len(host_sentences) == 0:\n",
    "        print(\"WARNING: no host samples\")\n",
    "        # metrics_d[\"__host__\"] = {\"rouge\" : 0, \"bleu\" : 0, \"bert\" : 0}\n",
    "    else:\n",
    "        host_targets, host_preds = zip(*host_sentences)\n",
    "        metrics_d[\"host\"] = {\n",
    "            \"rouge\" : compute_rouge_score(host_targets, host_preds, tokenizer),\n",
    "            \"bleu\" : compute_bleu_score(host_targets, host_preds, tokenizer),\n",
    "            \"bert\" : compute_bert_score2(host_targets, host_preds, tokenizer, model)\n",
    "        }\n",
    "        print(f\"__host__ ({len(host_sentences)})\")\n",
    "        pprint(metrics_d[\"host\"])\n",
    "        \n",
    "    if len(global_sentences) == 0:\n",
    "        print(\"WARNING: no global samples\")\n",
    "        # metrics_d[\"__global__\"] = {\"rouge\" : 0, \"bleu\" : 0, \"bert\" : 0}\n",
    "    else:\n",
    "        global_targets, global_preds = zip(*global_sentences)\n",
    "        metrics_d[\"global\"] = {\n",
    "            \"rouge\" : compute_rouge_score(global_targets, global_preds, tokenizer),\n",
    "            \"bleu\" : compute_bleu_score(global_targets, global_preds, tokenizer),\n",
    "            \"bert\" : compute_bert_score2(global_targets, global_preds, tokenizer, model)\n",
    "        }\n",
    "        print(f\"__global__ ({len(global_sentences)})\")\n",
    "        pprint(metrics_d[\"global\"])\n",
    "        \n",
    "    # Weights \n",
    "    total = len(device_sentences) + len(host_sentences) + len(global_sentences)\n",
    "    d_w = len(device_sentences) / total\n",
    "    h_w = len(host_sentences) / total\n",
    "    g_w = len(global_sentences) / total\n",
    "    \n",
    "    def calculate_total_metric(ds : List[dict], ws : List[float]):        \n",
    "        def calculate(ds : List[dict], ws : List[float], key : str):\n",
    "            r = 0\n",
    "            for d, w in zip(ds, ws):\n",
    "                if d is None:\n",
    "                    continue\n",
    "                \n",
    "                r += d.get(key, 0) * w\n",
    "            return r\n",
    "        \n",
    "        total_rouge = {}\n",
    "        \n",
    "        for d in ds:\n",
    "            if d is None:\n",
    "                continue\n",
    "            for key in d.keys():\n",
    "                if key in total_rouge:\n",
    "                    continue\n",
    "                \n",
    "                total_rouge[key] = calculate(ds, ws, key)\n",
    "        return total_rouge\n",
    "    \n",
    "    metrics_d[\"total\"] = {\"rouge\" : {}, \"bleu\" : -1, \"bert\" : {}}\n",
    "    metrics_d[\"total\"][\"rouge\"] = calculate_total_metric(\n",
    "        [metrics_d[\"device\"].get(\"rouge\"), metrics_d[\"host\"].get(\"rouge\"), metrics_d[\"global\"].get(\"rouge\")],\n",
    "        [d_w, h_w, g_w]\n",
    "    )\n",
    "    \n",
    "    metrics_d[\"total\"][\"bleu\"] = metrics_d[\"device\"].get(\"bleu\",0)*d_w + metrics_d[\"host\"].get(\"bleu\",0)*h_w + metrics_d[\"global\"].get(\"bleu\",0)*g_w\n",
    "\n",
    "    \n",
    "    metrics_d[\"total\"][\"bert\"] = calculate_total_metric(\n",
    "        [metrics_d[\"device\"].get(\"bert\"), metrics_d[\"host\"].get(\"bert\"), metrics_d[\"global\"].get(\"bert\")],\n",
    "        [d_w, h_w, g_w]\n",
    "    )\n",
    "    \n",
    "    print(\"total\")\n",
    "    pprint(metrics_d[\"total\"])\n",
    "    \n",
    "    # rouge = compute_rouge_score(targets, preds, tokenizer)\n",
    "    # pprint({\"rouge\" : rouge})\n",
    "\n",
    "    # bleu = compute_bleu_score(targets, preds, tokenizer)\n",
    "    # pprint({\"bleu\" : bleu})\n",
    "\n",
    "    # bert = compute_bert_score2(targets, preds, tokenizer, model)\n",
    "    # pprint({\"bert\" : bert})\n",
    "    \n",
    "    return metrics_d"
   ]
  },
  {
   "attachments": {},
   "cell_type": "markdown",
   "metadata": {},
   "source": [
    "# CodeGen"
   ]
  },
  {
   "cell_type": "code",
   "execution_count": 3,
   "metadata": {},
   "outputs": [],
   "source": [
    "def get_codegen_model(model_name : str, model_path : str, tokenizer):\n",
    "\n",
    "    configuration = AutoConfig.from_pretrained(model_name)\n",
    "\n",
    "    model = AutoModelForCausalLM.from_config(configuration).to(DEVICE)\n",
    "    model.resize_token_embeddings(51200)\n",
    "    model_dict = torch.load(model_path, map_location=DEVICE)\n",
    "    # model_state_dict = OrderedDict()\n",
    "    # for key, val in model_dict[\"model_dict\"].items():\n",
    "    #     model_state_dict[\".\".join(key.split(\".\")[1:])] = val\n",
    "    # model.load_state_dict(model_state_dict)\n",
    "    model.load_state_dict(model_dict[\"model_dict\"])\n",
    "    \n",
    "    return model, model_dict"
   ]
  },
  {
   "cell_type": "code",
   "execution_count": 7,
   "metadata": {},
   "outputs": [],
   "source": [
    "codegen_model_name = \"Salesforce/codegen-350M-multi\"\n",
    "codegen_model_path = \"/home/xsaman02/Project/models/codeGen/codegen.evaluated.pt\"\n",
    "codegen_tokenizer_name = \"Salesforce/codegen-350M-multi\"\n",
    "tokenizer = AutoTokenizer.from_pretrained(codegen_tokenizer_name, use_fast=False, model_max_length=800, add_bos_token=True)\n",
    "tokenizer.padding_side = \"left\"\n",
    "tokenizer.model_max_length=800\n",
    "tokenizer.add_special_tokens({\n",
    "    \"pad_token\" : \"</s>\"\n",
    "})\n",
    "model, model_d = get_codegen_model(codegen_model_name, codegen_model_path, tokenizer)\n"
   ]
  },
  {
   "cell_type": "code",
   "execution_count": 11,
   "metadata": {},
   "outputs": [
    {
     "name": "stdout",
     "output_type": "stream",
     "text": [
      "['', '', '', '', '', '', '', '', '', '', '', 'etTextureAlignmentOffset(size_t*, const struct texture<T, dim, readMode>&) \"cudaGetTextureAlignmentOffset (C++ API)\"\\n\\ntemplate<class T, int dim, enum cudaTextureReadMode readMode>\\nstatic __CUDA_DEPRECATED __inline__ __host__ cudaError_t cudaBindTexture(\\n        size_t                           *offset,\\n  const struct texture<T, dim, readMode> &tex,\\n  const void                             *devPtr,\\n        size_t                            size = UINT_MAX\\n)', '', '', '', '', '', '', '', '', '', '', '', '', '', '', '', '', '', '', '', '', '', '', '', '', '', '', '', '', '', '', '', '', '', '', '', '', '', '', '', '', '', '', '', '', '', '', '', '', '', '', '', '', '', '', '', '', '', '', '', '', '', '', '', '', '', '', '', '', '', '', '', '', '', '', '', '', '', '', '', '', '', '', '', '', '', '', '', '', '', '', '', '', '', '', '', '', '', '', '', '', '', '', '', '', '', '', '', '', '', '', '', '', '', '', '', '', '', '', '', '', '', '', '', '', '', '', '', '', '', '', '', '', \" block_offset < num_items; block_offset += 128)\\n// Load a segment of consecutive items that are blocked across threads\\n// int thread_data = d_data[block_offset];\\n// Collectively compute the block-wide exclusive prefix max scan\\n// BlockScan(temp_storage).ExclusiveScan(\\n// thread_data, thread_data, INT_MIN, Max(), prefix_op);\\n// CTA_SYNC();\\n// Store scanned items to output segment\\n// d_data[block_offset] = thread_data;\\n// endcode\\n// par\\n// Suppose the input \\\\p d_data is 0, -1, 2, -3, 4, -5, ....\\n// The corresponding output for the first segment will be INT_MIN, 0, 0, 2, ..., 124, 126.\\n// The output for the second segment will be 126, 128, 128, 130, ..., 252, 254.\\n// tparam ScanOp                Binary scan functor  type having member T operator()(const T &a, const T &b)\\n// tparam BlockPrefixCallbackOp         Call-back functor type having member T operator()(T block_aggregate)\\n\\ntemplate <\\n    typename ScanOp,\\n    typename BlockPrefixCallbackOp>\\n__device__ __forceinline__ void ExclusiveScan(\\n    T                       input,                          ///< [in] Calling thread's input item\\n    T                       &output,                        ///< [out] Calling thread's output item (may be aliased to \\\\p input)\\n    ScanOp                  scan_op,                        ///< [in] Binary scan functor\\n    BlockPrefixCallbackOp   &block_prefix_callback_op)\", '', '', '', '', '', '', '', '', '', '', '', '', '', '', '', '', '', '', '', '', '', '', '', '', '', '', '', '', '', '', '', '', '', '', '', '', '', '', '', '', '', '', '', '', '', '', '', '', '', '', '', '', '', '', '', '', '', '', '', '', '', '', '', '', '', '', '', '', '', \" block_offset < num_items; block_offset += 128)\\n// Load a segment of consecutive items that are blocked across threads\\n// int thread_data = d_data[block_offset];\\n// Collectively compute the block-wide exclusive prefix max scan\\n// BlockScan(temp_storage).ExclusiveScan(\\n// thread_data, thread_data, INT_MIN, Max(), prefix_op);\\n// CTA_SYNC();\\n// Store scanned items to output segment\\n// d_data[block_offset] = thread_data;\\n// endcode\\n// par\\n// Suppose the input \\\\p d_data is 0, -1, 2, -3, 4, -5, ....\\n// The corresponding output for the first segment will be INT_MIN, 0, 0, 2, ..., 124, 126.\\n// The output for the second segment will be 126, 128, 128, 130, ..., 252, 254.\\n// tparam ScanOp                Binary scan functor  type having member T operator()(const T &a, const T &b)\\n// tparam BlockPrefixCallbackOp         Call-back functor type having member T operator()(T block_aggregate)\\n\\ntemplate <\\n    typename ScanOp,\\n    typename BlockPrefixCallbackOp>\\n__device__ __forceinline__ void ExclusiveScan(\\n    T                       input,                          ///< [in] Calling thread's input item\\n    T                       &output,                        ///< [out] Calling thread's output item (may be aliased to \\\\p input)\\n    ScanOp                  scan_op,                        ///< [in] Binary scan functor\\n    BlockPrefixCallbackOp   &block_prefix_callback_op)\", '', '', '', '', '', '', '', '', '', '', '', '', '', '', '', '', '', '', '', '', '', '', '', '', '', '', '', '', '', '', '', '', '', '', '']\n"
     ]
    }
   ],
   "source": [
    "# print(model_d.get(\"target_sentences\")[0])\n",
    "print(model_d.get(\"predic_sentences\"))\n"
   ]
  },
  {
   "cell_type": "code",
   "execution_count": 8,
   "metadata": {},
   "outputs": [
    {
     "ename": "NameError",
     "evalue": "name 'compute_metrics' is not defined",
     "output_type": "error",
     "traceback": [
      "\u001b[0;31m---------------------------------------------------------------------------\u001b[0m",
      "\u001b[0;31mNameError\u001b[0m                                 Traceback (most recent call last)",
      "Cell \u001b[0;32mIn[8], line 2\u001b[0m\n\u001b[1;32m      1\u001b[0m used_ratio \u001b[39m=\u001b[39m \u001b[39m0.1\u001b[39m\n\u001b[0;32m----> 2\u001b[0m metrics \u001b[39m=\u001b[39m compute_metrics(model_d\u001b[39m.\u001b[39mget(\u001b[39m\"\u001b[39m\u001b[39mtarget_sentences\u001b[39m\u001b[39m\"\u001b[39m), model_d\u001b[39m.\u001b[39mget(\u001b[39m\"\u001b[39m\u001b[39mpred_sentences\u001b[39m\u001b[39m\"\u001b[39m), tokenizer, model, used_ratio)\n",
      "\u001b[0;31mNameError\u001b[0m: name 'compute_metrics' is not defined"
     ]
    }
   ],
   "source": [
    "used_ratio = 0.1\n",
    "metrics = compute_metrics(model_d.get(\"target_sentences\"), model_d.get(\"pred_sentences\"), tokenizer, model, used_ratio)"
   ]
  },
  {
   "cell_type": "code",
   "execution_count": 16,
   "metadata": {},
   "outputs": [
    {
     "data": {
      "image/png": "[encoded data removed]",
      "text/plain": [
       "<Figure size 640x480 with 1 Axes>"
      ]
     },
     "metadata": {},
     "output_type": "display_data"
    },
    {
     "name": "stdout",
     "output_type": "stream",
     "text": [
      "Epochs: 20\n",
      "Max: 2.3, epoch: 0\n",
      "Min: 0.12702270974046703, epoch: 19\n"
     ]
    },
    {
     "ename": "",
     "evalue": "",
     "output_type": "error",
     "traceback": [
      "\u001b[1;31mThe Kernel crashed while executing code in the the current cell or a previous cell. Please review the code in the cell(s) to identify a possible cause of the failure. Click <a href='https://aka.ms/vscodeJupyterKernelCrash'>here</a> for more info. View Jupyter <a href='command:jupyter.viewOutput'>log</a> for further details."
     ]
    }
   ],
   "source": [
    "loss_list = model_d.get(\"loss_list\")\n",
    "loss_list[0] = 2.3\n",
    "plt.figure()\n",
    "plt.title(\"CodeGen loss\")\n",
    "plt.ylabel(\"Cross-entropy loss\")\n",
    "plt.xlabel(\"Epoch\")\n",
    "plt.plot(loss_list)\n",
    "plt.show()\n",
    "\n",
    "print(f\"Epochs: {len(loss_list)}\")\n",
    "print(f\"Max: {max(loss_list)}, epoch: {np.argmax(loss_list)}\")\n",
    "print(f\"Min: {min(loss_list)}, epoch: {np.argmin(loss_list)}\")"
   ]
  },
  {
   "attachments": {},
   "cell_type": "markdown",
   "metadata": {},
   "source": [
    "### Average lengths"
   ]
  },
  {
   "cell_type": "code",
   "execution_count": 5,
   "metadata": {},
   "outputs": [
    {
     "data": {
      "application/vnd.jupyter.widget-view+json": {
       "model_id": "24adb694c9614fee967086389689bce9",
       "version_major": 2,
       "version_minor": 0
      },
      "text/plain": [
       "0it [00:00, ?it/s]"
      ]
     },
     "metadata": {},
     "output_type": "display_data"
    },
    {
     "name": "stdout",
     "output_type": "stream",
     "text": [
      "Average target lines per sample: 7.790\n",
      "Average predic lines per sample: 39.776\n",
      "Average target sample size: 326.022\n",
      "Average predic sample size: 685.084\n"
     ]
    }
   ],
   "source": [
    "tgr_ls = 0\n",
    "tgr_cs = 0\n",
    "prd_ls = 0\n",
    "prd_cs = 0\n",
    "s = len(model_d.get(\"source_sentences\"))\n",
    "for tgr, prd in tqdm(zip(model_d.get(\"source_sentences\"), model_d.get(\"target_sentences\"))):\n",
    "    tgr = tgr.replace(\";\", \";\\n\").replace(\"{\", \"{\\n\").replace(\"}\", \"}\\n\").replace(\"int\", \"\\nint\").replace(\"float\", \"\\nfloat\")\n",
    "    prd = prd.replace(\";\", \";\\n\").replace(\"{\", \"{\\n\").replace(\"}\", \"}\\n\").replace(\"int\", \"\\nint\").replace(\"float\", \"\\nfloat\")\n",
    "    \n",
    "    tgr_ls += tgr.count(\"\\n\")\n",
    "    prd_ls += prd.count(\"\\n\")\n",
    "    \n",
    "    tgr_cs += len(tgr)\n",
    "    prd_cs += len(prd)\n",
    "    \n",
    "print(\"Average target lines per sample: {:.3f}\".format(tgr_ls/s))\n",
    "print(\"Average predic lines per sample: {:.3f}\".format(prd_ls/s))\n",
    "print(\"Average target sample size: {:.3f}\".format(tgr_cs/s))\n",
    "print(\"Average predic sample size: {:.3f}\".format(prd_cs/s))\n"
   ]
  },
  {
   "attachments": {},
   "cell_type": "markdown",
   "metadata": {},
   "source": [
    "### Examples"
   ]
  },
  {
   "cell_type": "code",
   "execution_count": 30,
   "metadata": {},
   "outputs": [
    {
     "name": "stdout",
     "output_type": "stream",
     "text": [
      "SOURCE:\n",
      "supplement code:// kernels\n",
      "template <typename T>\n",
      "__global__ void clMatLinspace_kernel(IN OUT T* pA, IN T a, IN T d, int dim)\n",
      "\n",
      "TARGET:\n",
      "{\n",
      "  const unsigned int ind = blockIdx.x*blockDim.x + threadIdx.x;\n",
      "  const unsigned int totalThreads = blockDim.x*gridDim.x;\n",
      "  for (int i = ind; i < dim; i += totalThreads)\n",
      "    pA[i] = a+i*d;\n",
      "}\n",
      "\n",
      "PREDICT:\n",
      "{\n",
      " \n",
      "int i = threadIdx.x + blockIdx.x * blockDim.x;\n",
      " if (i < dim) {\n",
      " pA[i] = a[i] + dim;\n",
      " }\n",
      " }\n",
      "\n",
      "#--------------------------#\n"
     ]
    }
   ],
   "source": [
    "# Generate random example from evaluation\n",
    "samples = list(zip(model_d.get(\"source_sentences\"), model_d.get(\"target_sentences\"), model_d.get(\"pred_sentences\")))\n",
    "np.random.shuffle(samples)\n",
    "src_l, tgr_l, prd_l = zip(*samples)\n",
    "for src, tgr, prd in zip(src_l, tgr_l, prd_l):\n",
    "    kernel = train_db.find_one({\"body\" : tgr})\n",
    "    if kernel is None:\n",
    "        kernel = validation_db.find_one({\"body\" : tgr})\n",
    "        if kernel is None:\n",
    "            continue\n",
    "    \n",
    "    print(\"SOURCE:\")\n",
    "    print(src)\n",
    "    print(\"\\nTARGET:\")\n",
    "    print(tgr)\n",
    "    print(\"\\nPREDICT:\")\n",
    "    print(prd.replace(\";\", \";\\n\").replace(\"{\", \"{\\n\").replace(\"}\", \"}\\n\").replace(\"int\", \"\\nint\").replace(\"float\", \"\\nfloat\"))\n",
    "    print(\"#--------------------------#\")\n",
    "    break"
   ]
  }
 ],
 "metadata": {
  "kernelspec": {
   "display_name": "Python 2",
   "language": "python",
   "name": "python2"
  },
  "language_info": {
   "codemirror_mode": {
    "name": "ipython",
    "version": 3
   },
   "file_extension": ".py",
   "mimetype": "text/x-python",
   "name": "python",
   "nbconvert_exporter": "python",
   "pygments_lexer": "ipython3",
   "version": "3.8.13"
  },
  "orig_nbformat": 4
 },
 "nbformat": 4,
 "nbformat_minor": 2
}
