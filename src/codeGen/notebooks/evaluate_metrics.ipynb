{
 "cells": [
  {
   "cell_type": "code",
   "execution_count": 2,
   "metadata": {},
   "outputs": [],
   "source": [
    "import numpy as np\n",
    "import re, json, csv\n",
    "import torch\n",
    "from matplotlib import pyplot as plt\n",
    "from pymongo import MongoClient\n",
    "from tqdm.notebook import tqdm\n",
    "from pprint import PrettyPrinter\n",
    "from typing import Union, Iterable\n",
    "from bson.objectid import ObjectId\n",
    "from torchmetrics.text.bert import BERTScore\n",
    "from torchmetrics.text.rouge import ROUGEScore\n",
    "from torchmetrics.text.bleu import BLEUScore\n",
    "from transformers import AutoModelForSeq2SeqLM, AutoModelForCausalLM, AutoConfig, AutoTokenizer, pipeline, set_seed\n",
    "from torchmetrics.functional import pairwise_cosine_similarity\n",
    "from torchmetrics.functional.text.bert import _get_precision_recall_f1\n",
    "from functools import partial\n",
    "from collections import Counter, defaultdict\n",
    "from itertools import chain\n",
    "from math import log\n",
    "from multiprocessing import Pool\n",
    "from typing import List\n",
    "from pymongo import MongoClient\n",
    "from typing import Set\n",
    "from collections import OrderedDict\n",
    "\n",
    "pprint = PrettyPrinter().pprint"
   ]
  },
  {
   "cell_type": "code",
   "execution_count": null,
   "metadata": {},
   "outputs": [],
   "source": [
    "DEVICE = \"cpu\""
   ]
  },
  {
   "cell_type": "code",
   "execution_count": null,
   "metadata": {},
   "outputs": [],
   "source": [
    "db = MongoClient(\"mongodb://localhost:27017\")[\"cuda_snippets\"]\n",
    "train_db = db[\"train\"]\n",
    "validation_db = db[\"validation\"]"
   ]
  },
  {
   "attachments": {},
   "cell_type": "markdown",
   "metadata": {},
   "source": [
    "### Get model"
   ]
  },
  {
   "attachments": {},
   "cell_type": "markdown",
   "metadata": {},
   "source": [
    "### Calculate ROUGE"
   ]
  },
  {
   "cell_type": "code",
   "execution_count": null,
   "metadata": {},
   "outputs": [],
   "source": [
    "def compute_rouge_score(target_sentences : Iterable[str], pred_senteces : Iterable[str], tokenizer):\n",
    "    tokenizer_fn = lambda x: tokenizer.convert_ids_to_tokens(tokenizer.encode(x))\n",
    "    rouge_metric = ROUGEScore(tokenizer=tokenizer_fn)\n",
    "    # rouge_metric.update(pred_senteces, target_sentences)\n",
    "    return rouge_metric(pred_senteces, target_sentences)"
   ]
  },
  {
   "attachments": {},
   "cell_type": "markdown",
   "metadata": {},
   "source": [
    "### Calculate BLEU"
   ]
  },
  {
   "cell_type": "code",
   "execution_count": null,
   "metadata": {},
   "outputs": [],
   "source": [
    "def compute_bleu_score(target_sentences : Iterable[str], pred_senteces : Iterable[str], tokenizer):\n",
    "    bleu_metric = BLEUScore(tokenizer=tokenizer)\n",
    "    bleu_metric.update(pred_senteces, [[s] for s in target_sentences])\n",
    "    return bleu_metric.compute()"
   ]
  },
  {
   "attachments": {},
   "cell_type": "markdown",
   "metadata": {},
   "source": [
    "### Calculate BERT score"
   ]
  },
  {
   "cell_type": "code",
   "execution_count": null,
   "metadata": {},
   "outputs": [],
   "source": [
    "def process(a, tokenizer=None):\n",
    "    if tokenizer is not None:\n",
    "        a = tokenizer.encode(a, max_length=512, truncation=True, add_special_tokens=False)\n",
    "    return set(a)\n",
    "\n",
    "def get_idf_dict(arr, tokenizer, nthreads=4):\n",
    "    idf_count = Counter()\n",
    "    num_docs = len(arr)\n",
    "\n",
    "    process_partial = partial(process, tokenizer=tokenizer)\n",
    "\n",
    "    if nthreads > 0:\n",
    "        with Pool(nthreads) as p:\n",
    "            idf_count.update(chain.from_iterable(p.map(process_partial, arr)))\n",
    "    else:\n",
    "        idf_count.update(chain.from_iterable(map(process_partial, arr)))\n",
    "\n",
    "    idf_dict = defaultdict(lambda: log((num_docs + 1) / (1)))\n",
    "    idf_dict.update(\n",
    "        {idx: log((num_docs + 1) / (c + 1)) for (idx, c) in idf_count.items()}\n",
    "    )\n",
    "    return idf_dict\n",
    "\n",
    "class TextDataset:\n",
    "    def __init__(self, target_sentences, pred_sentences) -> None:\n",
    "        self.target_sentences = target_sentences\n",
    "        self.pred_sentences = pred_sentences\n",
    "    \n",
    "    def __len__(self):\n",
    "        return len(self.target_sentences)\n",
    "    \n",
    "    def __getitem__(self, i):\n",
    "        return self.target_sentences[i], self.pred_sentences[i]\n",
    "    \n",
    "class CollateFn:\n",
    "    def __init__(self, tokenizer) -> None:\n",
    "        self.tokenizer = tokenizer\n",
    "    \n",
    "    def __call__(self, samples : list):\n",
    "        targets, preds = zip(*samples)\n",
    "        \n",
    "        targets_pt = self.tokenizer(targets, max_length=512, truncation=True, return_tensors=\"pt\", add_special_tokens=False, padding=True)\n",
    "        preds_pt = self.tokenizer(preds, max_length=512, truncation=True, return_tensors=\"pt\", add_special_tokens=False, padding=True)\n",
    "\n",
    "        return (targets_pt, targets), (preds_pt, preds)\n",
    "\n",
    "def compute_bert_score(target_sentences : Iterable[str], pred_sentences : Iterable[str], tokenizer, embedd_layer : torch.nn.Embedding, idf_scores : dict = None, batch_size=64):\n",
    "\n",
    "    if idf_scores is None:\n",
    "        idf_scores = get_idf_dict(target_sentences, tokenizer)\n",
    "    precs = []\n",
    "    recals = []\n",
    "    f1s = []\n",
    "    \n",
    "    dataset = TextDataset(target_sentences, pred_sentences)\n",
    "    dataloader = torch.utils.data.DataLoader(dataset, batch_size=batch_size, shuffle=False, collate_fn=CollateFn(tokenizer))\n",
    "    \n",
    "    for i, ((target_pt, target_str), (pred_pt, pred_str)) in enumerate(tqdm(dataloader)):\n",
    "\n",
    "        pred_embedd = embedd_layer(pred_pt[\"input_ids\"]).view((pred_pt[\"input_ids\"].size(0),1,pred_pt[\"input_ids\"].size(1), -1))\n",
    "        target_embedd = embedd_layer(target_pt[\"input_ids\"]).view((target_pt[\"input_ids\"].size(0),1,target_pt[\"input_ids\"].size(1), -1))\n",
    "        \n",
    "        pred_idfs = [tokenizer.encode(sentence, max_length=512, add_special_tokens=False, truncation=True, return_tensors=\"pt\")[0] for sentence in pred_str]\n",
    "        pred_idfs = [torch.Tensor([idf_scores.get(token, 0) for token in sentence]) for sentence in pred_idfs]\n",
    "        pred_idfs = torch.nn.utils.rnn.pad_sequence(pred_idfs, batch_first=True, padding_value=0)\n",
    "        \n",
    "        target_idfs = [tokenizer.encode(sentence, max_length=512, add_special_tokens=False, truncation=True, return_tensors=\"pt\")[0] for sentence in target_str]\n",
    "        target_idfs = [torch.Tensor([idf_scores.get(token, 0) for token in sentence]) for sentence in target_idfs]\n",
    "        target_idfs = torch.nn.utils.rnn.pad_sequence(target_idfs, batch_first=True, padding_value=0)\n",
    "\n",
    "        # pred_idfs = torch.Tensor(\n",
    "        #     [[idf_scores.get(token, 0) for token in sentence] for sentence in pred_str]\n",
    "        # )\n",
    "        \n",
    "        # target_idfs = torch.Tensor(\n",
    "        #     [[idf_scores.get(token, 0) for token in sentence] for sentence in target_str]\n",
    "        # )\n",
    "        \n",
    "        # cos_sims = pairwise_cosine_similarity(target_embedd, pred_embedd)\n",
    "        \n",
    "        # max_sims = torch.max(cos_sims, dim=1)[0]\n",
    "        # sentence_scores.append(sum(max_sims*target_idf)/sum(target_idf))\n",
    "        \n",
    "        prec, res, f1 = _get_precision_recall_f1(pred_embedd, target_embedd, pred_idfs, target_idfs)\n",
    "        precs.append(torch.mean(prec))\n",
    "        recals.append(torch.mean(res))\n",
    "        f1s.append(torch.mean(f1))\n",
    "        \n",
    "    return  sum(precs) / len(precs), \\\n",
    "            sum(recals) / len(recals), \\\n",
    "            sum(f1s) / len(f1s)\n",
    "        "
   ]
  },
  {
   "cell_type": "code",
   "execution_count": null,
   "metadata": {},
   "outputs": [],
   "source": [
    "def update(self, preds: List[str], targets: List[str]) -> None:\n",
    "        \"\"\"Store predictions/references for computing BERT scores.\n",
    "\n",
    "        It is necessary to store sentences in a tokenized form to ensure the DDP mode working.\n",
    "        \"\"\"\n",
    "        \n",
    "        preds_tokenized_data = self.tokenizer(preds, max_length=1024, truncation=True, return_tensors=\"pt\", padding=True)\n",
    "        preds_dict = {\"input_ids\": preds_tokenized_data[\"input_ids\"], \"attention_mask\": preds_tokenized_data[\"attention_mask\"]}\n",
    "        target_tokenized_data = self.tokenizer(targets, max_length=1024, truncation=True, return_tensors=\"pt\", padding=True)\n",
    "        target_dict = {\"input_ids\": target_tokenized_data[\"input_ids\"], \"attention_mask\": target_tokenized_data[\"attention_mask\"]}\n",
    "\n",
    "        self.preds_input_ids.append(preds_dict[\"input_ids\"])\n",
    "        self.preds_attention_mask.append(preds_dict[\"attention_mask\"])\n",
    "        self.target_input_ids.append(target_dict[\"input_ids\"])\n",
    "        self.target_attention_mask.append(target_dict[\"attention_mask\"])\n",
    "        \n",
    "def compute_bert_score2(target_sentences : Iterable[str], pred_senteces : Iterable[str], tokenizer, model : torch.nn.Module, *args, **kwargs):\n",
    "    BERTScore.update = update\n",
    "    user_forward_fn = lambda model, d: model.get_input_embeddings()(d[\"input_ids\"])\n",
    "    bert_metric = BERTScore(model=model, user_tokenizer=tokenizer, user_forward_fn=user_forward_fn, device=DEVICE, verbose=True, num_layers=0, max_length=1024)\n",
    "    # bert_metric.update = update\n",
    "    output = {}\n",
    "    for key, vals in bert_metric(preds=pred_senteces, targets=target_sentences).items():\n",
    "        output[key] = float(np.mean(vals))\n",
    "    \n",
    "    return output\n",
    "#     bert_metric.update(bert_metric, pred_senteces, target_sentences)\n",
    "#     return bert_metric.compute()"
   ]
  },
  {
   "cell_type": "code",
   "execution_count": null,
   "metadata": {},
   "outputs": [],
   "source": [
    "def get_kernel_prefixes(kernel : str) -> Set[str]:\n",
    "    prefixes = set()\n",
    "    one_line_kernel = kernel.replace(\"\\n\", \" \")\n",
    "    cuda_header_prefix_re = re.compile(\"__(host|global|device)__\")\n",
    "    \n",
    "    prefixes.update(cuda_header_prefix_re.findall(one_line_kernel))\n",
    "    return prefixes\n",
    "        "
   ]
  },
  {
   "cell_type": "code",
   "execution_count": null,
   "metadata": {},
   "outputs": [],
   "source": [
    "def compute_metrics(sources : List[str], targets : List[str], preds : List[str], tokenizer, model : torch.nn.Module, used_ratio : float = 1.0):\n",
    "    assert used_ratio > 0 and used_ratio <= 1\n",
    "    assert len(targets) == len(preds)\n",
    "    \n",
    "    samples = list(zip(targets, preds))\n",
    "    np.random.shuffle(samples)\n",
    "    n = round(len(samples) * used_ratio)\n",
    "        \n",
    "    metrics_d = {\n",
    "        \"device\" : {},\n",
    "        \"host\" : {},\n",
    "        \"global\" : {}\n",
    "    }\n",
    "    \n",
    "    device_sentences = []\n",
    "    host_sentences = []\n",
    "    global_sentences = []\n",
    "    \n",
    "    pb = tqdm(zip(sources, targets, preds))\n",
    "    i = 0\n",
    "    for src, target, pred in pb:\n",
    "        \n",
    "        found = False\n",
    "        \n",
    "        if found := (src.find(\"__device__\") != -1):\n",
    "            device_sentences.append((target, pred))\n",
    "        if found := (src.find(\"__host__\") != -1):\n",
    "            host_sentences.append((target, pred))\n",
    "        if found := (src.find(\"__global__\") != -1):\n",
    "            global_sentences.append((target, pred))\n",
    "        \n",
    "        if not found:\n",
    "            continue\n",
    "        \n",
    "        i += 1\n",
    "        if i >= n:\n",
    "            break\n",
    "    \n",
    "    if len(device_sentences) == 0:\n",
    "        print(\"WARNING: no device sample\")\n",
    "        # metrics_d[\"__device__\"] = {\"rouge\" : 0, \"bleu\" : 0, \"bert\" : 0}\n",
    "    else:\n",
    "        device_targets, device_preds = zip(*device_sentences)\n",
    "        metrics_d[\"device\"] = {\n",
    "            \"rouge\" : compute_rouge_score(device_targets, device_preds, tokenizer),\n",
    "            \"bleu\" : compute_bleu_score(device_targets, device_preds, tokenizer),\n",
    "            \"bert\" : compute_bert_score2(device_targets, device_preds, tokenizer, model)\n",
    "        }\n",
    "        print(f\"__device__ ({len(device_sentences)})\")\n",
    "        pprint(metrics_d[\"device\"])\n",
    "        \n",
    "    if len(host_sentences) == 0:\n",
    "        print(\"WARNING: no host samples\")\n",
    "        # metrics_d[\"__host__\"] = {\"rouge\" : 0, \"bleu\" : 0, \"bert\" : 0}\n",
    "    else:\n",
    "        host_targets, host_preds = zip(*host_sentences)\n",
    "        metrics_d[\"host\"] = {\n",
    "            \"rouge\" : compute_rouge_score(host_targets, host_preds, tokenizer),\n",
    "            \"bleu\" : compute_bleu_score(host_targets, host_preds, tokenizer),\n",
    "            \"bert\" : compute_bert_score2(host_targets, host_preds, tokenizer, model)\n",
    "        }\n",
    "        print(f\"__host__ ({len(host_sentences)})\")\n",
    "        pprint(metrics_d[\"host\"])\n",
    "        \n",
    "    if len(global_sentences) == 0:\n",
    "        print(\"WARNING: no global samples\")\n",
    "        # metrics_d[\"__global__\"] = {\"rouge\" : 0, \"bleu\" : 0, \"bert\" : 0}\n",
    "    else:\n",
    "        global_targets, global_preds = zip(*global_sentences)\n",
    "        metrics_d[\"global\"] = {\n",
    "            \"rouge\" : compute_rouge_score(global_targets, global_preds, tokenizer),\n",
    "            \"bleu\" : compute_bleu_score(global_targets, global_preds, tokenizer),\n",
    "            \"bert\" : compute_bert_score2(global_targets, global_preds, tokenizer, model)\n",
    "        }\n",
    "        print(f\"__global__ ({len(global_sentences)})\")\n",
    "        pprint(metrics_d[\"global\"])\n",
    "        \n",
    "    # Weights \n",
    "    total = len(device_sentences) + len(host_sentences) + len(global_sentences)\n",
    "    d_w = len(device_sentences) / total\n",
    "    h_w = len(host_sentences) / total\n",
    "    g_w = len(global_sentences) / total\n",
    "    \n",
    "    def calculate_total_metric(ds : List[dict], ws : List[float]):        \n",
    "        def calculate(ds : List[dict], ws : List[float], key : str):\n",
    "            r = 0\n",
    "            for d, w in zip(ds, ws):\n",
    "                if d is None:\n",
    "                    continue\n",
    "                \n",
    "                r += d.get(key, 0) * w\n",
    "            return r\n",
    "        \n",
    "        total_rouge = {}\n",
    "        \n",
    "        for d in ds:\n",
    "            if d is None:\n",
    "                continue\n",
    "            for key in d.keys():\n",
    "                if key in total_rouge:\n",
    "                    continue\n",
    "                \n",
    "                total_rouge[key] = calculate(ds, ws, key)\n",
    "        return total_rouge\n",
    "    \n",
    "    metrics_d[\"total\"] = {\"rouge\" : {}, \"bleu\" : -1, \"bert\" : {}}\n",
    "    metrics_d[\"total\"][\"rouge\"] = calculate_total_metric(\n",
    "        [metrics_d[\"device\"].get(\"rouge\"), metrics_d[\"host\"].get(\"rouge\"), metrics_d[\"global\"].get(\"rouge\")],\n",
    "        [d_w, h_w, g_w]\n",
    "    )\n",
    "    \n",
    "    metrics_d[\"total\"][\"bleu\"] = metrics_d[\"device\"].get(\"bleu\",0)*d_w + metrics_d[\"host\"].get(\"bleu\",0)*h_w + metrics_d[\"global\"].get(\"bleu\",0)*g_w\n",
    "\n",
    "    \n",
    "    metrics_d[\"total\"][\"bert\"] = calculate_total_metric(\n",
    "        [metrics_d[\"device\"].get(\"bert\"), metrics_d[\"host\"].get(\"bert\"), metrics_d[\"global\"].get(\"bert\")],\n",
    "        [d_w, h_w, g_w]\n",
    "    )\n",
    "    \n",
    "    print(\"total\")\n",
    "    pprint(metrics_d[\"total\"])\n",
    "    \n",
    "    # rouge = compute_rouge_score(targets, preds, tokenizer)\n",
    "    # pprint({\"rouge\" : rouge})\n",
    "\n",
    "    # bleu = compute_bleu_score(targets, preds, tokenizer)\n",
    "    # pprint({\"bleu\" : bleu})\n",
    "\n",
    "    # bert = compute_bert_score2(targets, preds, tokenizer, model)\n",
    "    # pprint({\"bert\" : bert})\n",
    "    \n",
    "    return metrics_d"
   ]
  },
  {
   "attachments": {},
   "cell_type": "markdown",
   "metadata": {},
   "source": [
    "# CodeGen"
   ]
  },
  {
   "cell_type": "code",
   "execution_count": null,
   "metadata": {},
   "outputs": [],
   "source": [
    "def get_codegen_model(model_name : str, model_path : str, tokenizer):\n",
    "\n",
    "    configuration = AutoConfig.from_pretrained(model_name)\n",
    "\n",
    "    model = AutoModelForCausalLM.from_config(configuration).to(DEVICE)\n",
    "    model.resize_token_embeddings(51200)\n",
    "    model_dict = torch.load(model_path, map_location=DEVICE)\n",
    "    # model_state_dict = OrderedDict()\n",
    "    # for key, val in model_dict[\"model_dict\"].items():\n",
    "    #     model_state_dict[\".\".join(key.split(\".\")[1:])] = val\n",
    "    # model.load_state_dict(model_state_dict)\n",
    "    model.load_state_dict(model_dict[\"model_dict\"])\n",
    "    \n",
    "    return model, model_dict"
   ]
  },
  {
   "cell_type": "code",
   "execution_count": null,
   "metadata": {},
   "outputs": [],
   "source": [
    "codegen_model_name = \"Salesforce/codegen-350M-multi\"\n",
    "codegen_model_path = \"/home/xsaman02/Project/models/codeGen/codegen.evaluated.pt\"\n",
    "codegen_tokenizer_name = \"Salesforce/codegen-350M-multi\"\n",
    "tokenizer = AutoTokenizer.from_pretrained(codegen_model_name, use_fast=False, model_max_length=700, add_bos_token=True)\n",
    "tokenizer.add_special_tokens({\n",
    "    \"pad_token\" : \"</s>\"\n",
    "})\n",
    "model, model_d = get_codegen_model(codegen_model_name, codegen_model_path, tokenizer)\n"
   ]
  },
  {
   "cell_type": "code",
   "execution_count": 13,
   "metadata": {},
   "outputs": [
    {
     "data": {
      "application/vnd.jupyter.widget-view+json": {
       "model_id": "976083fd45eb42d3b96dfc9739140105",
       "version_major": 2,
       "version_minor": 0
      },
      "text/plain": [
       "0it [00:00, ?it/s]"
      ]
     },
     "metadata": {},
     "output_type": "display_data"
    },
    {
     "name": "stderr",
     "output_type": "stream",
     "text": [
      "Token indices sequence length is longer than the specified maximum sequence length for this model (906 > 700). Running this sequence through the model will result in indexing errors\n"
     ]
    },
    {
     "data": {
      "application/vnd.jupyter.widget-view+json": {
       "model_id": "6e2707e4e9d54853afb5df86506a118b",
       "version_major": 2,
       "version_minor": 0
      },
      "text/plain": [
       "  0%|          | 0/36 [00:00<?, ?it/s]"
      ]
     },
     "metadata": {},
     "output_type": "display_data"
    },
    {
     "data": {
      "application/vnd.jupyter.widget-view+json": {
       "model_id": "7e60822fce78420a880a5df2c0f241fd",
       "version_major": 2,
       "version_minor": 0
      },
      "text/plain": [
       "  0%|          | 0/36 [00:00<?, ?it/s]"
      ]
     },
     "metadata": {},
     "output_type": "display_data"
    },
    {
     "name": "stderr",
     "output_type": "stream",
     "text": [
      "Exception ignored in: <function _MultiProcessingDataLoaderIter.__del__ at 0x7f536e0d5af0>\n",
      "Traceback (most recent call last):\n",
      "  File \"/home/xsaman02/miniconda3/envs/diplomka/lib/python3.8/site-packages/torch/utils/data/dataloader.py\", line 1466, in __del__\n",
      "    self._shutdown_workers()\n",
      "  File \"/home/xsaman02/miniconda3/envs/diplomka/lib/python3.8/site-packages/torch/utils/data/dataloader.py\", line 1449, in _shutdown_workers\n",
      "    if w.is_alive():\n",
      "  File \"/home/xsaman02/miniconda3/envs/diplomka/lib/python3.8/multiprocessing/process.py\", line 160, in is_alive\n",
      "    assert self._parent_pid == os.getpid(), 'can only test a child process'\n",
      "AssertionError: can only test a child process\n",
      "Exception ignored in: <function _MultiProcessingDataLoaderIter.__del__ at 0x7f536e0d5af0>\n",
      "Traceback (most recent call last):\n",
      "  File \"/home/xsaman02/miniconda3/envs/diplomka/lib/python3.8/site-packages/torch/utils/data/dataloader.py\", line 1466, in __del__\n",
      "    self._shutdown_workers()\n",
      "  File \"/home/xsaman02/miniconda3/envs/diplomka/lib/python3.8/site-packages/torch/utils/data/dataloader.py\", line 1449, in _shutdown_workers\n",
      "    if w.is_alive():\n",
      "  File \"/home/xsaman02/miniconda3/envs/diplomka/lib/python3.8/multiprocessing/process.py\", line 160, in is_alive\n",
      "    assert self._parent_pid == os.getpid(), 'can only test a child process'\n",
      "AssertionError: can only test a child process\n"
     ]
    },
    {
     "name": "stdout",
     "output_type": "stream",
     "text": [
      "__device__ (2289)\n",
      "{'bert': {'f1': 0.5419530822309984,\n",
      "          'precision': 0.533098743348832,\n",
      "          'recall': 0.566545169177197},\n",
      " 'bleu': tensor(0.3015),\n",
      " 'rouge': {'rouge1_fmeasure': tensor(0.2923),\n",
      "           'rouge1_precision': tensor(0.2223),\n",
      "           'rouge1_recall': tensor(1.),\n",
      "           'rouge2_fmeasure': tensor(0.1079),\n",
      "           'rouge2_precision': tensor(0.1079),\n",
      "           'rouge2_recall': tensor(0.1079),\n",
      "           'rougeL_fmeasure': tensor(0.2923),\n",
      "           'rougeL_precision': tensor(0.2223),\n",
      "           'rougeL_recall': tensor(1.),\n",
      "           'rougeLsum_fmeasure': tensor(0.2918),\n",
      "           'rougeLsum_precision': tensor(0.2220),\n",
      "           'rougeLsum_recall': tensor(1.)}}\n"
     ]
    },
    {
     "data": {
      "application/vnd.jupyter.widget-view+json": {
       "model_id": "458a1281a19848a48f64dde94b9f1aa9",
       "version_major": 2,
       "version_minor": 0
      },
      "text/plain": [
       "  0%|          | 0/19 [00:00<?, ?it/s]"
      ]
     },
     "metadata": {},
     "output_type": "display_data"
    },
    {
     "data": {
      "application/vnd.jupyter.widget-view+json": {
       "model_id": "c7001f3edb124549ac40a0551222648d",
       "version_major": 2,
       "version_minor": 0
      },
      "text/plain": [
       "  0%|          | 0/19 [00:00<?, ?it/s]"
      ]
     },
     "metadata": {},
     "output_type": "display_data"
    },
    {
     "name": "stdout",
     "output_type": "stream",
     "text": [
      "__host__ (1182)\n",
      "{'bert': {'f1': 0.5948891153593757,\n",
      "          'precision': 0.5704177752414532,\n",
      "          'recall': 0.6423766957170467},\n",
      " 'bleu': tensor(0.1369),\n",
      " 'rouge': {'rouge1_fmeasure': tensor(0.4302),\n",
      "           'rouge1_precision': tensor(0.3492),\n",
      "           'rouge1_recall': tensor(1.),\n",
      "           'rouge2_fmeasure': tensor(0.2064),\n",
      "           'rouge2_precision': tensor(0.2064),\n",
      "           'rouge2_recall': tensor(0.2064),\n",
      "           'rougeL_fmeasure': tensor(0.4302),\n",
      "           'rougeL_precision': tensor(0.3492),\n",
      "           'rougeL_recall': tensor(1.),\n",
      "           'rougeLsum_fmeasure': tensor(0.4297),\n",
      "           'rougeLsum_precision': tensor(0.3489),\n",
      "           'rougeLsum_recall': tensor(1.)}}\n"
     ]
    },
    {
     "ename": "KeyboardInterrupt",
     "evalue": "",
     "output_type": "error",
     "traceback": [
      "\u001b[0;31m---------------------------------------------------------------------------\u001b[0m",
      "\u001b[0;31mKeyboardInterrupt\u001b[0m                         Traceback (most recent call last)",
      "Cell \u001b[0;32mIn[13], line 2\u001b[0m\n\u001b[1;32m      1\u001b[0m used_ratio \u001b[39m=\u001b[39m \u001b[39m0.1\u001b[39m\n\u001b[0;32m----> 2\u001b[0m metrics \u001b[39m=\u001b[39m compute_metrics(model_d\u001b[39m.\u001b[39;49mget(\u001b[39m\"\u001b[39;49m\u001b[39mtarget_sentences\u001b[39;49m\u001b[39m\"\u001b[39;49m), model_d\u001b[39m.\u001b[39;49mget(\u001b[39m\"\u001b[39;49m\u001b[39mpredic_sentences\u001b[39;49m\u001b[39m\"\u001b[39;49m), tokenizer, model, used_ratio)\n",
      "Cell \u001b[0;32mIn[9], line 75\u001b[0m, in \u001b[0;36mcompute_metrics\u001b[0;34m(targets, preds, tokenizer, model, used_ratio)\u001b[0m\n\u001b[1;32m     71\u001b[0m     \u001b[39m# metrics_d[\"__global__\"] = {\"rouge\" : 0, \"bleu\" : 0, \"bert\" : 0}\u001b[39;00m\n\u001b[1;32m     72\u001b[0m \u001b[39melse\u001b[39;00m:\n\u001b[1;32m     73\u001b[0m     global_targets, global_preds \u001b[39m=\u001b[39m \u001b[39mzip\u001b[39m(\u001b[39m*\u001b[39mglobal_sentences)\n\u001b[1;32m     74\u001b[0m     metrics_d[\u001b[39m\"\u001b[39m\u001b[39mglobal\u001b[39m\u001b[39m\"\u001b[39m] \u001b[39m=\u001b[39m {\n\u001b[0;32m---> 75\u001b[0m         \u001b[39m\"\u001b[39m\u001b[39mrouge\u001b[39m\u001b[39m\"\u001b[39m : compute_rouge_score(global_targets, global_preds, tokenizer),\n\u001b[1;32m     76\u001b[0m         \u001b[39m\"\u001b[39m\u001b[39mbleu\u001b[39m\u001b[39m\"\u001b[39m : compute_bleu_score(global_targets, global_preds, tokenizer),\n\u001b[1;32m     77\u001b[0m         \u001b[39m\"\u001b[39m\u001b[39mbert\u001b[39m\u001b[39m\"\u001b[39m : compute_bert_score2(global_targets, global_preds, tokenizer, model)\n\u001b[1;32m     78\u001b[0m     }\n\u001b[1;32m     79\u001b[0m     \u001b[39mprint\u001b[39m(\u001b[39mf\u001b[39m\u001b[39m\"\u001b[39m\u001b[39m__global__ (\u001b[39m\u001b[39m{\u001b[39;00m\u001b[39mlen\u001b[39m(global_sentences)\u001b[39m}\u001b[39;00m\u001b[39m)\u001b[39m\u001b[39m\"\u001b[39m)\n\u001b[1;32m     80\u001b[0m     pprint(metrics_d[\u001b[39m\"\u001b[39m\u001b[39mglobal\u001b[39m\u001b[39m\"\u001b[39m])\n",
      "Cell \u001b[0;32mIn[4], line 5\u001b[0m, in \u001b[0;36mcompute_rouge_score\u001b[0;34m(target_sentences, pred_senteces, tokenizer)\u001b[0m\n\u001b[1;32m      3\u001b[0m rouge_metric \u001b[39m=\u001b[39m ROUGEScore(tokenizer\u001b[39m=\u001b[39mtokenizer_fn)\n\u001b[1;32m      4\u001b[0m \u001b[39m# rouge_metric.update(pred_senteces, target_sentences)\u001b[39;00m\n\u001b[0;32m----> 5\u001b[0m \u001b[39mreturn\u001b[39;00m rouge_metric(pred_senteces, target_sentences)\n",
      "File \u001b[0;32m~/miniconda3/envs/diplomka/lib/python3.8/site-packages/torch/nn/modules/module.py:1190\u001b[0m, in \u001b[0;36mModule._call_impl\u001b[0;34m(self, *input, **kwargs)\u001b[0m\n\u001b[1;32m   1186\u001b[0m \u001b[39m# If we don't have any hooks, we want to skip the rest of the logic in\u001b[39;00m\n\u001b[1;32m   1187\u001b[0m \u001b[39m# this function, and just call forward.\u001b[39;00m\n\u001b[1;32m   1188\u001b[0m \u001b[39mif\u001b[39;00m \u001b[39mnot\u001b[39;00m (\u001b[39mself\u001b[39m\u001b[39m.\u001b[39m_backward_hooks \u001b[39mor\u001b[39;00m \u001b[39mself\u001b[39m\u001b[39m.\u001b[39m_forward_hooks \u001b[39mor\u001b[39;00m \u001b[39mself\u001b[39m\u001b[39m.\u001b[39m_forward_pre_hooks \u001b[39mor\u001b[39;00m _global_backward_hooks\n\u001b[1;32m   1189\u001b[0m         \u001b[39mor\u001b[39;00m _global_forward_hooks \u001b[39mor\u001b[39;00m _global_forward_pre_hooks):\n\u001b[0;32m-> 1190\u001b[0m     \u001b[39mreturn\u001b[39;00m forward_call(\u001b[39m*\u001b[39;49m\u001b[39minput\u001b[39;49m, \u001b[39m*\u001b[39;49m\u001b[39m*\u001b[39;49mkwargs)\n\u001b[1;32m   1191\u001b[0m \u001b[39m# Do not call functions when jit is used\u001b[39;00m\n\u001b[1;32m   1192\u001b[0m full_backward_hooks, non_full_backward_hooks \u001b[39m=\u001b[39m [], []\n",
      "File \u001b[0;32m~/miniconda3/envs/diplomka/lib/python3.8/site-packages/torchmetrics/metric.py:234\u001b[0m, in \u001b[0;36mMetric.forward\u001b[0;34m(self, *args, **kwargs)\u001b[0m\n\u001b[1;32m    228\u001b[0m     \u001b[39mraise\u001b[39;00m TorchMetricsUserError(\n\u001b[1;32m    229\u001b[0m         \u001b[39m\"\u001b[39m\u001b[39mThe Metric shouldn\u001b[39m\u001b[39m'\u001b[39m\u001b[39mt be synced when performing ``forward``. \u001b[39m\u001b[39m\"\u001b[39m\n\u001b[1;32m    230\u001b[0m         \u001b[39m\"\u001b[39m\u001b[39mHINT: Did you forget to call ``unsync`` ?.\u001b[39m\u001b[39m\"\u001b[39m\n\u001b[1;32m    231\u001b[0m     )\n\u001b[1;32m    233\u001b[0m \u001b[39mif\u001b[39;00m \u001b[39mself\u001b[39m\u001b[39m.\u001b[39mfull_state_update \u001b[39mor\u001b[39;00m \u001b[39mself\u001b[39m\u001b[39m.\u001b[39mfull_state_update \u001b[39mis\u001b[39;00m \u001b[39mNone\u001b[39;00m \u001b[39mor\u001b[39;00m \u001b[39mself\u001b[39m\u001b[39m.\u001b[39mdist_sync_on_step:\n\u001b[0;32m--> 234\u001b[0m     \u001b[39mself\u001b[39m\u001b[39m.\u001b[39m_forward_cache \u001b[39m=\u001b[39m \u001b[39mself\u001b[39;49m\u001b[39m.\u001b[39;49m_forward_full_state_update(\u001b[39m*\u001b[39;49margs, \u001b[39m*\u001b[39;49m\u001b[39m*\u001b[39;49mkwargs)\n\u001b[1;32m    235\u001b[0m \u001b[39melse\u001b[39;00m:\n\u001b[1;32m    236\u001b[0m     \u001b[39mself\u001b[39m\u001b[39m.\u001b[39m_forward_cache \u001b[39m=\u001b[39m \u001b[39mself\u001b[39m\u001b[39m.\u001b[39m_forward_reduce_state_update(\u001b[39m*\u001b[39margs, \u001b[39m*\u001b[39m\u001b[39m*\u001b[39mkwargs)\n",
      "File \u001b[0;32m~/miniconda3/envs/diplomka/lib/python3.8/site-packages/torchmetrics/metric.py:247\u001b[0m, in \u001b[0;36mMetric._forward_full_state_update\u001b[0;34m(self, *args, **kwargs)\u001b[0m\n\u001b[1;32m    241\u001b[0m \u001b[39m\u001b[39m\u001b[39m\"\"\"forward computation using two calls to `update` to calculate the metric value on the current batch and\u001b[39;00m\n\u001b[1;32m    242\u001b[0m \u001b[39maccumulate global state.\u001b[39;00m\n\u001b[1;32m    243\u001b[0m \n\u001b[1;32m    244\u001b[0m \u001b[39mDoing this secures that metrics that need access to the full metric state during `update` works as expected.\u001b[39;00m\n\u001b[1;32m    245\u001b[0m \u001b[39m\"\"\"\u001b[39;00m\n\u001b[1;32m    246\u001b[0m \u001b[39m# global accumulation\u001b[39;00m\n\u001b[0;32m--> 247\u001b[0m \u001b[39mself\u001b[39;49m\u001b[39m.\u001b[39;49mupdate(\u001b[39m*\u001b[39;49margs, \u001b[39m*\u001b[39;49m\u001b[39m*\u001b[39;49mkwargs)\n\u001b[1;32m    248\u001b[0m _update_count \u001b[39m=\u001b[39m \u001b[39mself\u001b[39m\u001b[39m.\u001b[39m_update_count\n\u001b[1;32m    250\u001b[0m \u001b[39mself\u001b[39m\u001b[39m.\u001b[39m_to_sync \u001b[39m=\u001b[39m \u001b[39mself\u001b[39m\u001b[39m.\u001b[39mdist_sync_on_step\n",
      "File \u001b[0;32m~/miniconda3/envs/diplomka/lib/python3.8/site-packages/torchmetrics/metric.py:390\u001b[0m, in \u001b[0;36mMetric._wrap_update.<locals>.wrapped_func\u001b[0;34m(*args, **kwargs)\u001b[0m\n\u001b[1;32m    388\u001b[0m \u001b[39mwith\u001b[39;00m torch\u001b[39m.\u001b[39mset_grad_enabled(\u001b[39mself\u001b[39m\u001b[39m.\u001b[39m_enable_grad):\n\u001b[1;32m    389\u001b[0m     \u001b[39mtry\u001b[39;00m:\n\u001b[0;32m--> 390\u001b[0m         update(\u001b[39m*\u001b[39;49margs, \u001b[39m*\u001b[39;49m\u001b[39m*\u001b[39;49mkwargs)\n\u001b[1;32m    391\u001b[0m     \u001b[39mexcept\u001b[39;00m \u001b[39mRuntimeError\u001b[39;00m \u001b[39mas\u001b[39;00m err:\n\u001b[1;32m    392\u001b[0m         \u001b[39mif\u001b[39;00m \u001b[39m\"\u001b[39m\u001b[39mExpected all tensors to be on\u001b[39m\u001b[39m\"\u001b[39m \u001b[39min\u001b[39;00m \u001b[39mstr\u001b[39m(err):\n",
      "File \u001b[0;32m~/miniconda3/envs/diplomka/lib/python3.8/site-packages/torchmetrics/text/rouge.py:150\u001b[0m, in \u001b[0;36mROUGEScore.update\u001b[0;34m(self, preds, target)\u001b[0m\n\u001b[1;32m    147\u001b[0m \u001b[39mif\u001b[39;00m \u001b[39misinstance\u001b[39m(target, \u001b[39mstr\u001b[39m):\n\u001b[1;32m    148\u001b[0m     target \u001b[39m=\u001b[39m [[target]]\n\u001b[0;32m--> 150\u001b[0m output: Dict[Union[\u001b[39mint\u001b[39m, \u001b[39mstr\u001b[39m], List[Dict[\u001b[39mstr\u001b[39m, Tensor]]] \u001b[39m=\u001b[39m _rouge_score_update(\n\u001b[1;32m    151\u001b[0m     preds,\n\u001b[1;32m    152\u001b[0m     target,\n\u001b[1;32m    153\u001b[0m     \u001b[39mself\u001b[39;49m\u001b[39m.\u001b[39;49mrouge_keys_values,\n\u001b[1;32m    154\u001b[0m     stemmer\u001b[39m=\u001b[39;49m\u001b[39mself\u001b[39;49m\u001b[39m.\u001b[39;49mstemmer,\n\u001b[1;32m    155\u001b[0m     normalizer\u001b[39m=\u001b[39;49m\u001b[39mself\u001b[39;49m\u001b[39m.\u001b[39;49mnormalizer,\n\u001b[1;32m    156\u001b[0m     tokenizer\u001b[39m=\u001b[39;49m\u001b[39mself\u001b[39;49m\u001b[39m.\u001b[39;49mtokenizer,\n\u001b[1;32m    157\u001b[0m     accumulate\u001b[39m=\u001b[39;49m\u001b[39mself\u001b[39;49m\u001b[39m.\u001b[39;49maccumulate,\n\u001b[1;32m    158\u001b[0m )\n\u001b[1;32m    159\u001b[0m \u001b[39mfor\u001b[39;00m rouge_key, metrics \u001b[39min\u001b[39;00m output\u001b[39m.\u001b[39mitems():\n\u001b[1;32m    160\u001b[0m     \u001b[39mfor\u001b[39;00m metric \u001b[39min\u001b[39;00m metrics:\n",
      "File \u001b[0;32m~/miniconda3/envs/diplomka/lib/python3.8/site-packages/torchmetrics/functional/text/rouge.py:358\u001b[0m, in \u001b[0;36m_rouge_score_update\u001b[0;34m(preds, target, rouge_keys_values, accumulate, stemmer, normalizer, tokenizer)\u001b[0m\n\u001b[1;32m    356\u001b[0m     score \u001b[39m=\u001b[39m _rouge_l_score(pred, tgt)\n\u001b[1;32m    357\u001b[0m \u001b[39melif\u001b[39;00m rouge_key \u001b[39m==\u001b[39m \u001b[39m\"\u001b[39m\u001b[39mLsum\u001b[39m\u001b[39m\"\u001b[39m:\n\u001b[0;32m--> 358\u001b[0m     score \u001b[39m=\u001b[39m _rouge_lsum_score(pred_lsum, target_lsum)\n\u001b[1;32m    359\u001b[0m result_inner[rouge_key] \u001b[39m=\u001b[39m score\n\u001b[1;32m    360\u001b[0m result_avg[rouge_key]\u001b[39m.\u001b[39mappend(score)\n",
      "File \u001b[0;32m~/miniconda3/envs/diplomka/lib/python3.8/site-packages/torchmetrics/functional/text/rouge.py:269\u001b[0m, in \u001b[0;36m_rouge_lsum_score\u001b[0;34m(pred, target)\u001b[0m\n\u001b[1;32m    267\u001b[0m hits \u001b[39m=\u001b[39m \u001b[39m0\u001b[39m\n\u001b[1;32m    268\u001b[0m \u001b[39mfor\u001b[39;00m tgt \u001b[39min\u001b[39;00m target:\n\u001b[0;32m--> 269\u001b[0m     lcs \u001b[39m=\u001b[39m _union_lcs(pred, tgt)\n\u001b[1;32m    270\u001b[0m     \u001b[39mfor\u001b[39;00m token \u001b[39min\u001b[39;00m lcs:\n\u001b[1;32m    271\u001b[0m         \u001b[39mif\u001b[39;00m pred_tokens_count[token] \u001b[39m>\u001b[39m \u001b[39m0\u001b[39m \u001b[39mand\u001b[39;00m target_tokens_count[token] \u001b[39m>\u001b[39m \u001b[39m0\u001b[39m:\n",
      "File \u001b[0;32m~/miniconda3/envs/diplomka/lib/python3.8/site-packages/torchmetrics/functional/text/rouge.py:157\u001b[0m, in \u001b[0;36m_union_lcs\u001b[0;34m(pred_tokens_list, target_tokens)\u001b[0m\n\u001b[1;32m    154\u001b[0m \u001b[39m    \u001b[39m\u001b[39m\"\"\"Find union LCS given a list of LCS.\"\"\"\u001b[39;00m\n\u001b[1;32m    155\u001b[0m     \u001b[39mreturn\u001b[39;00m \u001b[39msorted\u001b[39m(\u001b[39mlist\u001b[39m(\u001b[39mset\u001b[39m()\u001b[39m.\u001b[39munion(\u001b[39m*\u001b[39mlcs_tables)))\n\u001b[0;32m--> 157\u001b[0m lcs_tables \u001b[39m=\u001b[39m [lcs_ind(pred_tokens, target_tokens) \u001b[39mfor\u001b[39;00m pred_tokens \u001b[39min\u001b[39;00m pred_tokens_list]\n\u001b[1;32m    158\u001b[0m union_lcs \u001b[39m=\u001b[39m [target_tokens[i] \u001b[39mfor\u001b[39;00m i \u001b[39min\u001b[39;00m find_union(lcs_tables)]\n\u001b[1;32m    159\u001b[0m \u001b[39mreturn\u001b[39;00m union_lcs\n",
      "File \u001b[0;32m~/miniconda3/envs/diplomka/lib/python3.8/site-packages/torchmetrics/functional/text/rouge.py:157\u001b[0m, in \u001b[0;36m<listcomp>\u001b[0;34m(.0)\u001b[0m\n\u001b[1;32m    154\u001b[0m \u001b[39m    \u001b[39m\u001b[39m\"\"\"Find union LCS given a list of LCS.\"\"\"\u001b[39;00m\n\u001b[1;32m    155\u001b[0m     \u001b[39mreturn\u001b[39;00m \u001b[39msorted\u001b[39m(\u001b[39mlist\u001b[39m(\u001b[39mset\u001b[39m()\u001b[39m.\u001b[39munion(\u001b[39m*\u001b[39mlcs_tables)))\n\u001b[0;32m--> 157\u001b[0m lcs_tables \u001b[39m=\u001b[39m [lcs_ind(pred_tokens, target_tokens) \u001b[39mfor\u001b[39;00m pred_tokens \u001b[39min\u001b[39;00m pred_tokens_list]\n\u001b[1;32m    158\u001b[0m union_lcs \u001b[39m=\u001b[39m [target_tokens[i] \u001b[39mfor\u001b[39;00m i \u001b[39min\u001b[39;00m find_union(lcs_tables)]\n\u001b[1;32m    159\u001b[0m \u001b[39mreturn\u001b[39;00m union_lcs\n",
      "File \u001b[0;32m~/miniconda3/envs/diplomka/lib/python3.8/site-packages/torchmetrics/functional/text/rouge.py:149\u001b[0m, in \u001b[0;36m_union_lcs.<locals>.lcs_ind\u001b[0;34m(pred_tokens, target_tokens)\u001b[0m\n\u001b[1;32m    147\u001b[0m \u001b[39mdef\u001b[39;00m \u001b[39mlcs_ind\u001b[39m(pred_tokens: Sequence[\u001b[39mstr\u001b[39m], target_tokens: Sequence[\u001b[39mstr\u001b[39m]) \u001b[39m-\u001b[39m\u001b[39m>\u001b[39m Sequence[\u001b[39mint\u001b[39m]:\n\u001b[1;32m    148\u001b[0m \u001b[39m    \u001b[39m\u001b[39m\"\"\"Returns one of the longest of longest common subsequence via backtracked lcs table.\"\"\"\u001b[39;00m\n\u001b[0;32m--> 149\u001b[0m     lcs_table: Sequence[Sequence[\u001b[39mint\u001b[39m]] \u001b[39m=\u001b[39m _lcs(pred_tokens, target_tokens, return_full_table\u001b[39m=\u001b[39;49m\u001b[39mTrue\u001b[39;49;00m)  \u001b[39m# type: ignore\u001b[39;00m\n\u001b[1;32m    150\u001b[0m     backtracked_lcs_table \u001b[39m=\u001b[39m _backtracked_lcs(lcs_table, pred_tokens, target_tokens)\n\u001b[1;32m    151\u001b[0m     \u001b[39mreturn\u001b[39;00m backtracked_lcs_table\n",
      "File \u001b[0;32m~/miniconda3/envs/diplomka/lib/python3.8/site-packages/torchmetrics/functional/text/rouge.py:106\u001b[0m, in \u001b[0;36m_lcs\u001b[0;34m(pred_tokens, target_tokens, return_full_table)\u001b[0m\n\u001b[1;32m    104\u001b[0m             lcs[i][j] \u001b[39m=\u001b[39m lcs[i \u001b[39m-\u001b[39m \u001b[39m1\u001b[39m][j \u001b[39m-\u001b[39m \u001b[39m1\u001b[39m] \u001b[39m+\u001b[39m \u001b[39m1\u001b[39m\n\u001b[1;32m    105\u001b[0m         \u001b[39melse\u001b[39;00m:\n\u001b[0;32m--> 106\u001b[0m             lcs[i][j] \u001b[39m=\u001b[39m \u001b[39mmax\u001b[39m(lcs[i \u001b[39m-\u001b[39;49m \u001b[39m1\u001b[39;49m][j], lcs[i][j \u001b[39m-\u001b[39m \u001b[39m1\u001b[39m])\n\u001b[1;32m    107\u001b[0m \u001b[39mif\u001b[39;00m return_full_table:\n\u001b[1;32m    108\u001b[0m     \u001b[39mreturn\u001b[39;00m lcs\n",
      "\u001b[0;31mKeyboardInterrupt\u001b[0m: "
     ]
    }
   ],
   "source": [
    "used_ratio = 0.1\n",
    "metrics = compute_metrics(model_d.get(\"target_sentences\"), model_d.get(\"predic_sentences\"), tokenizer, model, used_ratio)"
   ]
  },
  {
   "cell_type": "code",
   "execution_count": 17,
   "metadata": {},
   "outputs": [
    {
     "data": {
      "image/png": "[encoded data removed]",
      "text/plain": [
       "<Figure size 640x480 with 1 Axes>"
      ]
     },
     "metadata": {},
     "output_type": "display_data"
    },
    {
     "name": "stdout",
     "output_type": "stream",
     "text": [
      "Epochs: 20\n",
      "Max: 2.3, epoch: 0\n",
      "Min: 0.12702270974046703, epoch: 19\n"
     ]
    }
   ],
   "source": [
    "loss_list = model_d.get(\"loss_list\")\n",
    "plt.figure()\n",
    "plt.title(\"CodeGen loss\")\n",
    "plt.ylabel(\"Cross-entropy loss\")\n",
    "plt.xlabel(\"Epoch\")\n",
    "plt.plot(loss_list)\n",
    "plt.show()\n",
    "\n",
    "print(f\"Epochs: {len(loss_list)}\")\n",
    "print(f\"Max: {max(loss_list)}, epoch: {np.argmax(loss_list)}\")\n",
    "print(f\"Min: {min(loss_list)}, epoch: {np.argmin(loss_list)}\")"
   ]
  },
  {
   "attachments": {},
   "cell_type": "markdown",
   "metadata": {},
   "source": [
    "### Average lengths"
   ]
  },
  {
   "cell_type": "code",
   "execution_count": 19,
   "metadata": {},
   "outputs": [
    {
     "data": {
      "application/vnd.jupyter.widget-view+json": {
       "model_id": "352155d0597c4d3d96bbf25a1ff595a4",
       "version_major": 2,
       "version_minor": 0
      },
      "text/plain": [
       "0it [00:00, ?it/s]"
      ]
     },
     "metadata": {},
     "output_type": "display_data"
    },
    {
     "name": "stdout",
     "output_type": "stream",
     "text": [
      "Average target lines per sample: 5.300\n",
      "Average predic lines per sample: 22.008\n",
      "Average target sample size: 272.271\n",
      "Average predic sample size: 727.209\n"
     ]
    }
   ],
   "source": [
    "tgr_ls = 0\n",
    "tgr_cs = 0\n",
    "prd_ls = 0\n",
    "prd_cs = 0\n",
    "s = len(model_d.get(\"source_sentences\"))\n",
    "for tgr, prd in tqdm(zip(model_d.get(\"source_sentences\"), model_d.get(\"target_sentences\"))):\n",
    "    # tgr = tgr.replace(\";\", \";\\n\").replace(\"{\", \"{\\n\").replace(\"}\", \"}\\n\").replace(\"int\", \"\\nint\").replace(\"float\", \"\\nfloat\")\n",
    "    # prd = prd.replace(\";\", \";\\n\").replace(\"{\", \"{\\n\").replace(\"}\", \"}\\n\").replace(\"int\", \"\\nint\").replace(\"float\", \"\\nfloat\")\n",
    "    \n",
    "    tgr_ls += tgr.count(\"\\n\")\n",
    "    prd_ls += prd.count(\"\\n\")\n",
    "    \n",
    "    tgr_cs += len(tgr)\n",
    "    prd_cs += len(prd)\n",
    "    \n",
    "print(\"Average target lines per sample: {:.3f}\".format(tgr_ls/s))\n",
    "print(\"Average predic lines per sample: {:.3f}\".format(prd_ls/s))\n",
    "print(\"Average target sample size: {:.3f}\".format(tgr_cs/s))\n",
    "print(\"Average predic sample size: {:.3f}\".format(prd_cs/s))\n"
   ]
  },
  {
   "attachments": {},
   "cell_type": "markdown",
   "metadata": {},
   "source": [
    "### Examples"
   ]
  },
  {
   "cell_type": "code",
   "execution_count": 43,
   "metadata": {},
   "outputs": [
    {
     "name": "stdout",
     "output_type": "stream",
     "text": [
      "SOURCE:\n",
      "// grid 1D block 1D\n",
      "\n",
      "__global__ void sumMatrixOnGPU1D(float *MatA, float *MatB, float *MatC, int nx,\n",
      "                                 int ny)\n",
      "\n",
      "TARGET:\n",
      "{\n",
      "    unsigned int ix = threadIdx.x + blockIdx.x * blockDim.x;\n",
      "\n",
      "    if (ix < nx )\n",
      "        for (int iy = 0; iy < ny; iy++)\n",
      "        {\n",
      "            int idx = iy * nx + ix;\n",
      "            MatC[idx] = MatA[idx] + MatB[idx];\n",
      "        }\n",
      "\n",
      "\n",
      "}\n",
      "\n",
      "PREDICT:\n",
      "\n",
      "{\n",
      "      unsigned int ix = threadIdx.x + blockIdx.x * blockDim.x;\n",
      "      if (ix < nx )          for (int iy = 0;\n",
      " iy < ny;\n",
      " iy++)          {\n",
      "              int idx = iy * nx + ix;\n",
      "              MatC[idx] = MatA[idx] + MatB[idx];\n",
      "          }\n",
      "\n",
      "\n",
      "}\n",
      "#--------------------------#\n"
     ]
    }
   ],
   "source": [
    "# Generate random example from evaluation\n",
    "samples = list(zip(model_d.get(\"source_sentences\"), model_d.get(\"target_sentences\"), model_d.get(\"predic_sentences\")))\n",
    "np.random.shuffle(samples)\n",
    "src_l, tgr_l, prd_l = zip(*samples)\n",
    "for src, tgr, prd in zip(src_l, tgr_l, prd_l):\n",
    "\n",
    "    if len(tgr) > 300:\n",
    "        continue\n",
    "    \n",
    "    print(\"SOURCE:\")\n",
    "    print(src)\n",
    "    print(\"\\nTARGET:\")\n",
    "    print(tgr)\n",
    "    print(\"\\nPREDICT:\")\n",
    "    print(prd)\n",
    "    print(\"#--------------------------#\")\n",
    "    break"
   ]
  },
  {
   "cell_type": "code",
   "execution_count": 50,
   "metadata": {},
   "outputs": [],
   "source": [
    "prompt = \"\"\"\n",
    "// Kernel for dividing by two\n",
    "__device__ float divideByTwo(float v)\n",
    "\"\"\".strip()\n",
    "\n",
    "target = \"\"\"\n",
    "{\n",
    "    return v / 2;\n",
    "}\n",
    "\"\"\".strip()"
   ]
  },
  {
   "cell_type": "code",
   "execution_count": 52,
   "metadata": {},
   "outputs": [
    {
     "name": "stderr",
     "output_type": "stream",
     "text": [
      "Keyword arguments {'ax_length': 500} not recognized.\n"
     ]
    },
    {
     "name": "stdout",
     "output_type": "stream",
     "text": [
      "Loss: 4.239\n",
      " Function Function for operator by reduction\n",
      "//device__ void2ByTwo(float3, returnreturn f / f.\n",
      "}\n"
     ]
    }
   ],
   "source": [
    "model = model.eval()\n",
    "x = tokenizer(prompt, max_length=500, padding=True, truncation=True, return_tensors=\"pt\").to(DEVICE)\n",
    "x[\"attention_mask\"] = x[\"attention_mask\"].type(torch.bool)\n",
    "y = tokenizer(target, max_length=500, padding=True, truncation=True, return_tensors=\"pt\").to(DEVICE)\n",
    "\n",
    "xy_str = f\"{prompt}{target}\"\n",
    "xy = tokenizer(xy_str, ax_length=500, padding=True, truncation=True, return_tensors=\"pt\").to(DEVICE)\n",
    "# xy[\"attention_mask\"] = xy[\"attention_mask\"].type(torch.bool)\n",
    "\n",
    "input_tokens = [token for token in tokenizer.convert_ids_to_tokens(x[\"input_ids\"][0], skip_special_tokens=True)]\n",
    "target_tokens = [token for token in tokenizer.convert_ids_to_tokens(y[\"input_ids\"][0], skip_special_tokens=True)]\n",
    "\n",
    "output = model(**xy, labels=xy[\"input_ids\"], output_attentions=True)\n",
    "pred = torch.argmax(output.logits, dim=-1)\n",
    "pred_tokens = [token for token in tokenizer.convert_ids_to_tokens(pred[0])]\n",
    "print(f\"Loss: {output.loss:.3f}\")\n",
    "print(tokenizer.batch_decode(pred, skip_special_tokens=True)[0])"
   ]
  },
  {
   "cell_type": "code",
   "execution_count": 1,
   "metadata": {},
   "outputs": [
    {
     "ename": "NameError",
     "evalue": "name 'model' is not defined",
     "output_type": "error",
     "traceback": [
      "\u001b[0;31m---------------------------------------------------------------------------\u001b[0m",
      "\u001b[0;31mNameError\u001b[0m                                 Traceback (most recent call last)",
      "Cell \u001b[0;32mIn[1], line 3\u001b[0m\n\u001b[1;32m      1\u001b[0m \u001b[39mfrom\u001b[39;00m \u001b[39mrandom\u001b[39;00m \u001b[39mimport\u001b[39;00m shuffle \n\u001b[0;32m----> 3\u001b[0m model \u001b[39m=\u001b[39m model\u001b[39m.\u001b[39mtrain()\n\u001b[1;32m      4\u001b[0m losses \u001b[39m=\u001b[39m []\n\u001b[1;32m      5\u001b[0m sample \u001b[39m=\u001b[39m \u001b[39m1000\u001b[39m\n",
      "\u001b[0;31mNameError\u001b[0m: name 'model' is not defined"
     ]
    }
   ],
   "source": [
    "from random import shuffle \n",
    "\n",
    "model = model.eval()\n",
    "losses = []\n",
    "sample = 1000\n",
    "l = list(zip(model_d.get(\"source_sentences\"), model_d.get(\"target_sentences\")))\n",
    "pred_sentences = []\n",
    "sample_size_loss_list = []\n",
    "shuffle(l)\n",
    "for i, (src, tgr) in tqdm(enumerate(l[:sample])):\n",
    "    xy = tokenizer(f\"{src}{tgr}\", max_length=700, padding=True, truncation=True, return_tensors=\"pt\").to(DEVICE)\n",
    "    xy[\"attention_mask\"] = xy[\"attention_mask\"].type(torch.bool)\n",
    "    \n",
    "    output = model(**xy, labels=xy[\"input_ids\"])\n",
    "    pred = torch.max(output.logits, dim=-1)[1][0]\n",
    "    \n",
    "    losses.append(output.loss)\n",
    "    pred_sentences.append(tokenizer.decode(pred, skip_special_tokens=True))\n",
    "    "
   ]
  },
  {
   "cell_type": "code",
   "execution_count": 14,
   "metadata": {},
   "outputs": [
    {
     "ename": "NameError",
     "evalue": "name 'losses' is not defined",
     "output_type": "error",
     "traceback": [
      "\u001b[0;31m---------------------------------------------------------------------------\u001b[0m",
      "\u001b[0;31mNameError\u001b[0m                                 Traceback (most recent call last)",
      "Cell \u001b[0;32mIn[14], line 1\u001b[0m\n\u001b[0;32m----> 1\u001b[0m loss_list \u001b[39m=\u001b[39m losses\n\u001b[1;32m      2\u001b[0m input_len_list \u001b[39m=\u001b[39m []\n\u001b[1;32m      3\u001b[0m target_len_list \u001b[39m=\u001b[39m []\n",
      "\u001b[0;31mNameError\u001b[0m: name 'losses' is not defined"
     ]
    }
   ],
   "source": [
    "loss_list = losses\n",
    "input_len_list = []\n",
    "target_len_list = []\n",
    "\n",
    "for (src, tgr), prd in zip(l[:sample], pred_sentences):\n",
    "    input_len_list.append(len(tokenizer.encode(src)))\n",
    "    target_len_list.append(len(tokenizer.encode(tgr)))\n",
    "    "
   ]
  },
  {
   "cell_type": "code",
   "execution_count": null,
   "metadata": {},
   "outputs": [],
   "source": [
    "from sklearn.linear_model import LinearRegression \n",
    "from scipy.stats import pearsonr\n",
    "\n",
    "def scatter_hist(x, y, ax, ax_histx, ax_histy, title):\n",
    "    # no labels\n",
    "    ax_histx.tick_params(axis=\"x\", labelbottom=False)\n",
    "    ax_histy.tick_params(axis=\"y\", labelleft=False)\n",
    "\n",
    "    # the scatter plot:\n",
    "    ax.scatter(x, y)\n",
    "    \n",
    "    regressor = LinearRegression() \n",
    "    regressor.fit(np.array(x).reshape((len(x),1)), y)\n",
    "    p_y = regressor.predict(np.array(x).reshape((len(x),1)))\n",
    "    corr, _ = pearsonr(x, y)\n",
    "    ax.plot(x, p_y, linewidth=0.75, color=\"orange\")\n",
    "    ax.text(max(x)*0.8, p_y[-1], f\"Pear. corr={corr:.2f}\")\n",
    "\n",
    "    # now determine nice limits by hand:\n",
    "    binwidth = 0.25\n",
    "    \n",
    "    xmax = np.max(np.abs(x))\n",
    "    xlim = (int(xmax/binwidth) + 1) * binwidth\n",
    "    xbins = np.linspace(-xlim, xlim + binwidth, 50)\n",
    "    \n",
    "    ymax = np.max(np.abs(y))\n",
    "    ylim = (int(ymax/binwidth) + 1) * binwidth\n",
    "    ybins = np.linspace(-ylim, ylim + binwidth, 50)\n",
    "\n",
    "    ax_histx.hist(x, bins=xbins)\n",
    "    ax_histx.set_title(title)\n",
    "    ax_histy.hist(y, bins=ybins, orientation='horizontal')\n",
    "\n",
    "def plot_scatter_with_dist(x, y, title, xlabel, ylabel):\n",
    "    x = np.array(x)\n",
    "    y = np.array(y)\n",
    "    \n",
    "    # Start with a square Figure.\n",
    "    fig = plt.figure(figsize=(6, 6))\n",
    "    gs = fig.add_gridspec(2, 2,  width_ratios=(4, 1), height_ratios=(1, 4),\n",
    "                        left=0.1, right=0.9, bottom=0.1, top=0.9,\n",
    "                        wspace=0.05, hspace=0.05)\n",
    "    # Create the Axes.\n",
    "    ax = fig.add_subplot(gs[1, 0])\n",
    "    ax_histx = fig.add_subplot(gs[0, 0], sharex=ax)\n",
    "    ax_histy = fig.add_subplot(gs[1, 1], sharey=ax)\n",
    "    \n",
    "    min_x = np.quantile(x, 0.05)\n",
    "    max_x = np.quantile(x, 0.95)\n",
    "    min_y = np.quantile(y, 0.05)\n",
    "    max_y = np.quantile(y, 0.95)\n",
    "    \n",
    "    # x_mask = ((x > min_x) & (x < max_x))\n",
    "    # x = x[x_mask]\n",
    "    # y = y[x_mask]\n",
    "    # y_mask = ((y > min_y) & (y < max_y))\n",
    "    # x = x[y_mask]\n",
    "    # y = y[y_mask]\n",
    "    \n",
    "    # Draw the scatter plot and marginals.\n",
    "    scatter_hist(x, y, ax, ax_histx, ax_histy, title)\n",
    "    ax.set_xlabel(xlabel)\n",
    "    ax.set_ylabel(ylabel)\n",
    "    \n",
    "    ax.set_xlim(min_x*0.9, max_x*1.1)\n",
    "    ax.set_ylim(min_y*0.9, max_y*1.1)\n",
    "    plt.show()\n",
    "    \n",
    "    \n",
    "target_len_list = np.array(target_len_list)\n",
    "input_len_list = np.array(input_len_list)\n",
    "loss_list = np.array(loss_list)\n",
    "\n",
    "plot_scatter_with_dist(input_len_list, loss_list, \"Kernel input length & loss\", \"Input length\", \"Loss value\")\n",
    "plot_scatter_with_dist(target_len_list, loss_list, \"Kernel target length & loss\", \"Target length\", \"Loss value\")\n"
   ]
  },
  {
   "cell_type": "code",
   "execution_count": null,
   "metadata": {},
   "outputs": [],
   "source": [
    "prd_sample_len = []\n",
    "tgr_sample_len = []\n",
    "\n",
    "for prd, (_, tgr) in zip(pred_sentences, l[len(pred_sentences):]):\n",
    "    prd_sample_len.append(len(prd))\n",
    "    tgr_sample_len.append(len(tgr))\n",
    "\n",
    "plot_scatter_with_dist(prd_sample_len, tgr_sample_len, \"Prediction & target length\", \"Predic. length\", \"Target length\")\n"
   ]
  },
  {
   "attachments": {},
   "cell_type": "markdown",
   "metadata": {},
   "source": [
    "### Analyze use of indices"
   ]
  },
  {
   "cell_type": "code",
   "execution_count": null,
   "metadata": {},
   "outputs": [],
   "source": [
    "global_c = 0\n",
    "global_f = 0\n",
    "other_c = 0\n",
    "other_f = 0\n",
    "\n",
    "for src, prd in tqdm(list(zip(model_d.get(\"source_sentences\"), model_d.get(\"pred_sentences\")))):\n",
    "    one_line_src = src.replace(\"\\n\", \" \")\n",
    "    is_global = one_line_src.find(\"__global__\") != -1\n",
    "    \n",
    "    prd_lines = prd.splitlines()\n",
    "    found = False\n",
    "    for line in prd_lines:\n",
    "        if line.find(\"threadIdx.\") != -1 and line.find(\"blockIdx.\") != -1 and line.find(\"blockDim.\") != -1:\n",
    "            if is_global:\n",
    "                global_c += 1\n",
    "            else:\n",
    "                other_f += 1\n",
    "            found = True\n",
    "            break\n",
    "        \n",
    "    if not found:\n",
    "        if is_global:\n",
    "            global_f += 1\n",
    "        else:\n",
    "            other_c += 1\n",
    "\n",
    "print(f\"global_c: {global_c} ({global_c/(global_c+global_f):.2%})\")\n",
    "print(f\"global_f: {global_f} ({global_f/(global_c+global_f):.2%})\")\n",
    "print(f\"others_c: {other_c} ({other_c/(other_c+other_f):.2%})\")\n",
    "print(f\"others_f: {other_f} ({other_f/(other_c+other_f):.2%})\")\n",
    "\n",
    "total = global_c + global_f + other_c + other_f\n",
    "correct = global_c + other_c\n",
    "incorrect = global_f + other_f\n",
    "print(f\"Correct: {correct} ({correct/total:.2%})\")\n",
    "print(f\"Incorrect: {incorrect}, ({incorrect/total:.2%})\")\n",
    "\n",
    "    "
   ]
  },
  {
   "attachments": {},
   "cell_type": "markdown",
   "metadata": {},
   "source": [
    "### Use of local memory analyses"
   ]
  },
  {
   "cell_type": "code",
   "execution_count": null,
   "metadata": {},
   "outputs": [],
   "source": [
    "from sklearn.metrics import precision_score, recall_score, f1_score\n",
    "t_p = 0\n",
    "t_n = 0\n",
    "f_p = 0\n",
    "f_n = 0\n",
    "\n",
    "t = []\n",
    "p = []\n",
    "\n",
    "for tgr, prd in tqdm(list(zip(model_d.get(\"target_sentences\"), model_d.get(\"pred_sentences\")))):\n",
    "    tgr_l_m_use = tgr.find(\"__shared__\") != -1 or tgr.find(\"__constant__\") != -1\n",
    "    prd_l_m_use = prd.find(\"__shared__\") != -1 or prd.find(\"__constant__\") != -1\n",
    "    \n",
    "    if tgr_l_m_use:\n",
    "        if prd_l_m_use:\n",
    "            t_p += 1\n",
    "        else:\n",
    "            f_n += 1\n",
    "    else:\n",
    "        if prd_l_m_use:\n",
    "            f_p += 1\n",
    "        else:\n",
    "            t_n += 1\n",
    "            \n",
    "    t.append(tgr_l_m_use)\n",
    "    p.append(prd_l_m_use)\n",
    "    \n",
    "total = t_p + t_n + f_p + f_n\n",
    "print(f\"True positive: {t_p}\\t({t_p/total:.2%})\")\n",
    "print(f\"True negative: {t_n}\\t({t_n/total:.2%})\")\n",
    "print(f\"False positive: {f_p}\\t({f_p/total:.2%})\")\n",
    "print(f\"False negative: {f_n}\\t({f_n/total:.2%})\")\n",
    "\n",
    "precision = precision_score(t, p)\n",
    "recall = recall_score(t, p)\n",
    "f1 = f1_score(t, p)\n",
    "\n",
    "print(f\"Precision: {precision:.3f}\")\n",
    "print(f\"Recall: {recall:.3f}\")\n",
    "print(f\"F1: {f1:.3f}\")\n"
   ]
  }
 ],
 "metadata": {
  "kernelspec": {
   "display_name": "diplomka",
   "language": "python",
   "name": "python3"
  },
  "language_info": {
   "codemirror_mode": {
    "name": "ipython",
    "version": 3
   },
   "file_extension": ".py",
   "mimetype": "text/x-python",
   "name": "python",
   "nbconvert_exporter": "python",
   "pygments_lexer": "ipython3",
   "version": "3.8.13"
  },
  "orig_nbformat": 4
 },
 "nbformat": 4,
 "nbformat_minor": 2
}
