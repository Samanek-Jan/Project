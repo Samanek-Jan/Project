{
 "cells": [
  {
   "cell_type": "code",
   "execution_count": null,
   "metadata": {},
   "outputs": [],
   "source": [
    "import numpy as np\n",
    "import re, json, csv\n",
    "import torch\n",
    "from matplotlib import pyplot as plt\n",
    "from pymongo import MongoClient\n",
    "from tqdm.notebook import tqdm\n",
    "from pprint import PrettyPrinter\n",
    "from typing import Union, Iterable\n",
    "from bson.objectid import ObjectId\n",
    "from torchmetrics.text.bert import BERTScore\n",
    "from torchmetrics.text.rouge import ROUGEScore\n",
    "from torchmetrics.text.bleu import BLEUScore\n",
    "from transformers import AutoModelForSeq2SeqLM, AutoModelForCausalLM, AutoConfig, AutoTokenizer\n",
    "from torchmetrics.functional import pairwise_cosine_similarity\n",
    "from torchmetrics.functional.text.bert import _get_precision_recall_f1\n",
    "from functools import partial\n",
    "from collections import Counter, defaultdict\n",
    "from itertools import chain\n",
    "from math import log\n",
    "from multiprocessing import Pool\n",
    "from typing import List\n",
    "from pymongo import MongoClient\n",
    "from typing import Set\n",
    "\n",
    "pprint = PrettyPrinter().pprint"
   ]
  },
  {
   "cell_type": "code",
   "execution_count": null,
   "metadata": {},
   "outputs": [],
   "source": [
    "DEVICE = \"cuda:0\""
   ]
  },
  {
   "cell_type": "code",
   "execution_count": null,
   "metadata": {},
   "outputs": [],
   "source": [
    "db = MongoClient(\"mongodb://localhost:27017\")[\"cuda_snippets\"]\n",
    "train_db = db[\"train\"]\n",
    "validation_db = db[\"validation\"]"
   ]
  },
  {
   "attachments": {},
   "cell_type": "markdown",
   "metadata": {},
   "source": [
    "### Get model"
   ]
  },
  {
   "attachments": {},
   "cell_type": "markdown",
   "metadata": {},
   "source": [
    "### Calculate ROUGE"
   ]
  },
  {
   "cell_type": "code",
   "execution_count": null,
   "metadata": {},
   "outputs": [],
   "source": [
    "def compute_rouge_score(target_sentences : Iterable[str], pred_senteces : Iterable[str], tokenizer):\n",
    "    tokenizer_fn = lambda x: tokenizer.convert_ids_to_tokens(tokenizer.encode(x))\n",
    "    rouge_metric = ROUGEScore(tokenizer=tokenizer_fn)\n",
    "    # rouge_metric.update(pred_senteces, target_sentences)\n",
    "    return rouge_metric(pred_senteces, target_sentences)"
   ]
  },
  {
   "attachments": {},
   "cell_type": "markdown",
   "metadata": {},
   "source": [
    "### Calculate BLEU"
   ]
  },
  {
   "cell_type": "code",
   "execution_count": null,
   "metadata": {},
   "outputs": [],
   "source": [
    "def compute_bleu_score(target_sentences : Iterable[str], pred_senteces : Iterable[str], tokenizer):\n",
    "    bleu_metric = BLEUScore(tokenizer=tokenizer)\n",
    "    bleu_metric.update(pred_senteces, [[s] for s in target_sentences])\n",
    "    return bleu_metric.compute()"
   ]
  },
  {
   "attachments": {},
   "cell_type": "markdown",
   "metadata": {},
   "source": [
    "### Calculate BERT score"
   ]
  },
  {
   "cell_type": "code",
   "execution_count": null,
   "metadata": {},
   "outputs": [],
   "source": [
    "def process(a, tokenizer=None):\n",
    "    if tokenizer is not None:\n",
    "        a = tokenizer.encode(a, max_length=512, truncation=True, add_special_tokens=False)\n",
    "    return set(a)\n",
    "\n",
    "def get_idf_dict(arr, tokenizer, nthreads=4):\n",
    "    idf_count = Counter()\n",
    "    num_docs = len(arr)\n",
    "\n",
    "    process_partial = partial(process, tokenizer=tokenizer)\n",
    "\n",
    "    if nthreads > 0:\n",
    "        with Pool(nthreads) as p:\n",
    "            idf_count.update(chain.from_iterable(p.map(process_partial, arr)))\n",
    "    else:\n",
    "        idf_count.update(chain.from_iterable(map(process_partial, arr)))\n",
    "\n",
    "    idf_dict = defaultdict(lambda: log((num_docs + 1) / (1)))\n",
    "    idf_dict.update(\n",
    "        {idx: log((num_docs + 1) / (c + 1)) for (idx, c) in idf_count.items()}\n",
    "    )\n",
    "    return idf_dict\n",
    "\n",
    "class TextDataset:\n",
    "    def __init__(self, target_sentences, pred_sentences) -> None:\n",
    "        self.target_sentences = target_sentences\n",
    "        self.pred_sentences = pred_sentences\n",
    "    \n",
    "    def __len__(self):\n",
    "        return len(self.target_sentences)\n",
    "    \n",
    "    def __getitem__(self, i):\n",
    "        return self.target_sentences[i], self.pred_sentences[i]\n",
    "    \n",
    "class CollateFn:\n",
    "    def __init__(self, tokenizer) -> None:\n",
    "        self.tokenizer = tokenizer\n",
    "    \n",
    "    def __call__(self, samples : list):\n",
    "        targets, preds = zip(*samples)\n",
    "        \n",
    "        targets_pt = self.tokenizer(targets, max_length=512, truncation=True, return_tensors=\"pt\", add_special_tokens=False, padding=True)\n",
    "        preds_pt = self.tokenizer(preds, max_length=512, truncation=True, return_tensors=\"pt\", add_special_tokens=False, padding=True)\n",
    "\n",
    "        return (targets_pt, targets), (preds_pt, preds)\n",
    "\n",
    "def compute_bert_score(target_sentences : Iterable[str], pred_sentences : Iterable[str], tokenizer, embedd_layer : torch.nn.Embedding, idf_scores : dict = None, batch_size=64):\n",
    "\n",
    "    if idf_scores is None:\n",
    "        idf_scores = get_idf_dict(target_sentences, tokenizer)\n",
    "    precs = []\n",
    "    recals = []\n",
    "    f1s = []\n",
    "    \n",
    "    dataset = TextDataset(target_sentences, pred_sentences)\n",
    "    dataloader = torch.utils.data.DataLoader(dataset, batch_size=batch_size, shuffle=False, collate_fn=CollateFn(tokenizer))\n",
    "    \n",
    "    for i, ((target_pt, target_str), (pred_pt, pred_str)) in enumerate(tqdm(dataloader)):\n",
    "\n",
    "        pred_embedd = embedd_layer(pred_pt[\"input_ids\"]).view((pred_pt[\"input_ids\"].size(0),1,pred_pt[\"input_ids\"].size(1), -1))\n",
    "        target_embedd = embedd_layer(target_pt[\"input_ids\"]).view((target_pt[\"input_ids\"].size(0),1,target_pt[\"input_ids\"].size(1), -1))\n",
    "        \n",
    "        pred_idfs = [tokenizer.encode(sentence, max_length=512, add_special_tokens=False, truncation=True, return_tensors=\"pt\")[0] for sentence in pred_str]\n",
    "        pred_idfs = [torch.Tensor([idf_scores.get(token, 0) for token in sentence]) for sentence in pred_idfs]\n",
    "        pred_idfs = torch.nn.utils.rnn.pad_sequence(pred_idfs, batch_first=True, padding_value=0)\n",
    "        \n",
    "        target_idfs = [tokenizer.encode(sentence, max_length=512, add_special_tokens=False, truncation=True, return_tensors=\"pt\")[0] for sentence in target_str]\n",
    "        target_idfs = [torch.Tensor([idf_scores.get(token, 0) for token in sentence]) for sentence in target_idfs]\n",
    "        target_idfs = torch.nn.utils.rnn.pad_sequence(target_idfs, batch_first=True, padding_value=0)\n",
    "\n",
    "        # pred_idfs = torch.Tensor(\n",
    "        #     [[idf_scores.get(token, 0) for token in sentence] for sentence in pred_str]\n",
    "        # )\n",
    "        \n",
    "        # target_idfs = torch.Tensor(\n",
    "        #     [[idf_scores.get(token, 0) for token in sentence] for sentence in target_str]\n",
    "        # )\n",
    "        \n",
    "        # cos_sims = pairwise_cosine_similarity(target_embedd, pred_embedd)\n",
    "        \n",
    "        # max_sims = torch.max(cos_sims, dim=1)[0]\n",
    "        # sentence_scores.append(sum(max_sims*target_idf)/sum(target_idf))\n",
    "        \n",
    "        prec, res, f1 = _get_precision_recall_f1(pred_embedd, target_embedd, pred_idfs, target_idfs)\n",
    "        precs.append(torch.mean(prec))\n",
    "        recals.append(torch.mean(res))\n",
    "        f1s.append(torch.mean(f1))\n",
    "        \n",
    "    return  sum(precs) / len(precs), \\\n",
    "            sum(recals) / len(recals), \\\n",
    "            sum(f1s) / len(f1s)\n",
    "        "
   ]
  },
  {
   "cell_type": "code",
   "execution_count": null,
   "metadata": {},
   "outputs": [],
   "source": [
    "def update(self, preds: List[str], targets: List[str]) -> None:\n",
    "        \"\"\"Store predictions/references for computing BERT scores.\n",
    "\n",
    "        It is necessary to store sentences in a tokenized form to ensure the DDP mode working.\n",
    "        \"\"\"\n",
    "        \n",
    "        preds_tokenized_data = self.tokenizer(preds, max_length=1024, truncation=True, return_tensors=\"pt\", padding=True)\n",
    "        preds_dict = {\"input_ids\": preds_tokenized_data[\"input_ids\"], \"attention_mask\": preds_tokenized_data[\"attention_mask\"]}\n",
    "        target_tokenized_data = self.tokenizer(targets, max_length=1024, truncation=True, return_tensors=\"pt\", padding=True)\n",
    "        target_dict = {\"input_ids\": target_tokenized_data[\"input_ids\"], \"attention_mask\": target_tokenized_data[\"attention_mask\"]}\n",
    "\n",
    "        self.preds_input_ids.append(preds_dict[\"input_ids\"])\n",
    "        self.preds_attention_mask.append(preds_dict[\"attention_mask\"])\n",
    "        self.target_input_ids.append(target_dict[\"input_ids\"])\n",
    "        self.target_attention_mask.append(target_dict[\"attention_mask\"])\n",
    "        \n",
    "def compute_bert_score2(target_sentences : Iterable[str], pred_senteces : Iterable[str], tokenizer, model : torch.nn.Module, *args, **kwargs):\n",
    "    BERTScore.update = update\n",
    "    user_forward_fn = lambda model, d: model.get_input_embeddings()(d[\"input_ids\"])\n",
    "    bert_metric = BERTScore(model=model, user_tokenizer=tokenizer, user_forward_fn=user_forward_fn, device=DEVICE, verbose=True, num_layers=0, max_length=1024)\n",
    "    # bert_metric.update = update\n",
    "    output = {}\n",
    "    for key, vals in bert_metric(preds=pred_senteces, targets=target_sentences).items():\n",
    "        output[key] = float(np.mean(vals))\n",
    "    \n",
    "    return output\n",
    "#     bert_metric.update(bert_metric, pred_senteces, target_sentences)\n",
    "#     return bert_metric.compute()"
   ]
  },
  {
   "cell_type": "code",
   "execution_count": 14,
   "metadata": {},
   "outputs": [],
   "source": [
    "def get_kernel_prefixes(kernel : str) -> Set[str]:\n",
    "    prefixes = set()\n",
    "    one_line_kernel = kernel.replace(\"\\n\", \" \")\n",
    "    cuda_header_prefix_re = re.compile(\"__(host|global|device)__\")\n",
    "    \n",
    "    prefixes.update(cuda_header_prefix_re.findall(one_line_kernel))\n",
    "    return prefixes\n",
    "        "
   ]
  },
  {
   "cell_type": "code",
   "execution_count": 21,
   "metadata": {},
   "outputs": [],
   "source": [
    "def compute_metrics(sources : List[str], targets : List[str], preds : List[str], tokenizer, model : torch.nn.Module, used_ratio : float = 1.0):\n",
    "    assert used_ratio > 0 and used_ratio <= 1\n",
    "    assert len(targets) == len(preds) and len(targets) == len(sources)\n",
    "    \n",
    "    samples = list(zip(targets, preds))\n",
    "    np.random.shuffle(samples)\n",
    "    n = round(len(samples) * used_ratio)\n",
    "        \n",
    "    metrics_d = {\n",
    "        \"device\" : {},\n",
    "        \"host\" : {},\n",
    "        \"global\" : {}\n",
    "    }\n",
    "    \n",
    "    device_sentences = []\n",
    "    host_sentences = []\n",
    "    global_sentences = []\n",
    "    \n",
    "    pb = tqdm(zip(sources, targets, preds))\n",
    "    i = 0\n",
    "    for sources, target, pred in pb:\n",
    "\n",
    "        found = False\n",
    "        \n",
    "        if found := (src.find(\"__device__\") != -1):\n",
    "            device_sentences.append((target, pred))\n",
    "        if found := (src.find(\"__host__\") != -1):\n",
    "            host_sentences.append((target, pred))\n",
    "        if found := (src.find(\"__global__\") != -1):\n",
    "            global_sentences.append((target, pred))\n",
    "        \n",
    "        if not found:\n",
    "            continue\n",
    "        \n",
    "        i += 1\n",
    "        if i >= n:\n",
    "            break\n",
    "    \n",
    "    if len(device_sentences) == 0:\n",
    "        print(\"WARNING: no device sample\")\n",
    "        # metrics_d[\"__device__\"] = {\"rouge\" : 0, \"bleu\" : 0, \"bert\" : 0}\n",
    "    else:\n",
    "        device_targets, device_preds = zip(*device_sentences)\n",
    "        metrics_d[\"device\"] = {\n",
    "            \"rouge\" : compute_rouge_score(device_targets, device_preds, tokenizer),\n",
    "            \"bleu\" : compute_bleu_score(device_targets, device_preds, tokenizer),\n",
    "            \"bert\" : compute_bert_score2(device_targets, device_preds, tokenizer, model)\n",
    "        }\n",
    "        print(f\"__device__ ({len(device_sentences)})\")\n",
    "        pprint(metrics_d[\"device\"])\n",
    "        \n",
    "    if len(host_sentences) == 0:\n",
    "        print(\"WARNING: no host samples\")\n",
    "        # metrics_d[\"__host__\"] = {\"rouge\" : 0, \"bleu\" : 0, \"bert\" : 0}\n",
    "    else:\n",
    "        host_targets, host_preds = zip(*host_sentences)\n",
    "        metrics_d[\"host\"] = {\n",
    "            \"rouge\" : compute_rouge_score(host_targets, host_preds, tokenizer),\n",
    "            \"bleu\" : compute_bleu_score(host_targets, host_preds, tokenizer),\n",
    "            \"bert\" : compute_bert_score2(host_targets, host_preds, tokenizer, model)\n",
    "        }\n",
    "        print(f\"__host__ ({len(host_sentences)})\")\n",
    "        pprint(metrics_d[\"host\"])\n",
    "        \n",
    "    if len(global_sentences) == 0:\n",
    "        print(\"WARNING: no global samples\")\n",
    "        # metrics_d[\"__global__\"] = {\"rouge\" : 0, \"bleu\" : 0, \"bert\" : 0}\n",
    "    else:\n",
    "        global_targets, global_preds = zip(*global_sentences)\n",
    "        metrics_d[\"global\"] = {\n",
    "            \"rouge\" : compute_rouge_score(global_targets, global_preds, tokenizer),\n",
    "            \"bleu\" : compute_bleu_score(global_targets, global_preds, tokenizer),\n",
    "            \"bert\" : compute_bert_score2(global_targets, global_preds, tokenizer, model)\n",
    "        }\n",
    "        print(f\"__global__ ({len(global_sentences)})\")\n",
    "        pprint(metrics_d[\"global\"])\n",
    "        \n",
    "    # Weights \n",
    "    total = len(device_sentences) + len(host_sentences) + len(global_sentences)\n",
    "    d_w = len(device_sentences) / total\n",
    "    h_w = len(host_sentences) / total\n",
    "    g_w = len(global_sentences) / total\n",
    "    \n",
    "    def calculate_total_metric(ds : List[dict], ws : List[float]):        \n",
    "        def calculate(ds : List[dict], ws : List[float], key : str):\n",
    "            r = 0\n",
    "            for d, w in zip(ds, ws):\n",
    "                if d is None:\n",
    "                    continue\n",
    "                \n",
    "                r += d.get(key, 0) * w\n",
    "            return r\n",
    "        \n",
    "        total_rouge = {}\n",
    "        \n",
    "        for d in ds:\n",
    "            if d is None:\n",
    "                continue\n",
    "            for key in d.keys():\n",
    "                if key in total_rouge:\n",
    "                    continue\n",
    "                \n",
    "                total_rouge[key] = calculate(ds, ws, key)\n",
    "        return total_rouge\n",
    "    \n",
    "    metrics_d[\"total\"] = {\"rouge\" : {}, \"bleu\" : -1, \"bert\" : {}}\n",
    "    metrics_d[\"total\"][\"rouge\"] = calculate_total_metric(\n",
    "        [metrics_d[\"device\"].get(\"rouge\"), metrics_d[\"host\"].get(\"rouge\"), metrics_d[\"global\"].get(\"rouge\")],\n",
    "        [d_w, h_w, g_w]\n",
    "    )\n",
    "    \n",
    "    metrics_d[\"total\"][\"bleu\"] = metrics_d[\"device\"].get(\"bleu\",0)*d_w + metrics_d[\"host\"].get(\"bleu\",0)*h_w + metrics_d[\"global\"].get(\"bleu\",0)*g_w\n",
    "\n",
    "    \n",
    "    metrics_d[\"total\"][\"bert\"] = calculate_total_metric(\n",
    "        [metrics_d[\"device\"].get(\"bert\"), metrics_d[\"host\"].get(\"bert\"), metrics_d[\"global\"].get(\"bert\")],\n",
    "        [d_w, h_w, g_w]\n",
    "    )\n",
    "    \n",
    "    print(\"total\")\n",
    "    pprint(metrics_d[\"total\"])\n",
    "    \n",
    "    # rouge = compute_rouge_score(targets, preds, tokenizer)\n",
    "    # pprint({\"rouge\" : rouge})\n",
    "\n",
    "    # bleu = compute_bleu_score(targets, preds, tokenizer)\n",
    "    # pprint({\"bleu\" : bleu})\n",
    "\n",
    "    # bert = compute_bert_score2(targets, preds, tokenizer, model)\n",
    "    # pprint({\"bert\" : bert})\n",
    "    \n",
    "    return metrics_d"
   ]
  },
  {
   "attachments": {},
   "cell_type": "markdown",
   "metadata": {},
   "source": [
    "# T5"
   ]
  },
  {
   "cell_type": "code",
   "execution_count": 3,
   "metadata": {},
   "outputs": [],
   "source": [
    "def get_t5_model(model_name : str, model_path : str, tokenizer):\n",
    "\n",
    "    configuration = AutoConfig.from_pretrained(model_name)\n",
    "\n",
    "    model = AutoModelForSeq2SeqLM.from_config(configuration).to(DEVICE)\n",
    "    model.resize_token_embeddings(len(tokenizer))\n",
    "    model_dict = torch.load(model_path, map_location=DEVICE)\n",
    "    model.load_state_dict(model_dict[\"model_dict\"])\n",
    "    \n",
    "    return model, model_dict"
   ]
  },
  {
   "cell_type": "code",
   "execution_count": 4,
   "metadata": {},
   "outputs": [],
   "source": [
    "t5_model_name = \"t5-small\"\n",
    "t5_model_path = \"/tmp/xsaman02/models/t5-small/t5-small_pretrained.best.pt\"\n",
    "t5_tokenizer_name = \"t5-small\"\n",
    "tokenizer = AutoTokenizer.from_pretrained(t5_tokenizer_name, use_fast=False, model_max_length=1500, add_bos_token=True)\n",
    "tokenizer.add_tokens([\"{\", \"}\", \"<\", \">\", \";\", \"[\", \"]\", \"&\", \"*\"])\n",
    "t5_model, t5_model_d = get_t5_model(t5_model_name, t5_model_path, tokenizer)\n"
   ]
  },
  {
   "cell_type": "code",
   "execution_count": 23,
   "metadata": {},
   "outputs": [
    {
     "data": {
      "application/vnd.jupyter.widget-view+json": {
       "model_id": "b43350787b5e4c4286a3311e7f4aea85",
       "version_major": 2,
       "version_minor": 0
      },
      "text/plain": [
       "0it [00:00, ?it/s]"
      ]
     },
     "metadata": {},
     "output_type": "display_data"
    },
    {
     "data": {
      "application/vnd.jupyter.widget-view+json": {
       "model_id": "6190350df4c449b68cc616d02c910fab",
       "version_major": 2,
       "version_minor": 0
      },
      "text/plain": [
       "  0%|          | 0/37 [00:00<?, ?it/s]"
      ]
     },
     "metadata": {},
     "output_type": "display_data"
    },
    {
     "data": {
      "application/vnd.jupyter.widget-view+json": {
       "model_id": "9f35559f252d4e1c8aaf706103ac947f",
       "version_major": 2,
       "version_minor": 0
      },
      "text/plain": [
       "  0%|          | 0/37 [00:00<?, ?it/s]"
      ]
     },
     "metadata": {},
     "output_type": "display_data"
    },
    {
     "name": "stdout",
     "output_type": "stream",
     "text": [
      "__device__ (2314)\n",
      "{'bert': {'f1': 0.5949350232025005,\n",
      "          'precision': 0.6144123906615796,\n",
      "          'recall': 0.5891296909083656},\n",
      " 'bleu': tensor(0.2106),\n",
      " 'rouge': {'rouge1_fmeasure': tensor(0.3028),\n",
      "           'rouge1_precision': tensor(0.2289),\n",
      "           'rouge1_recall': tensor(0.9870),\n",
      "           'rouge2_fmeasure': tensor(0.0524),\n",
      "           'rouge2_precision': tensor(0.0325),\n",
      "           'rouge2_recall': tensor(0.2844),\n",
      "           'rougeL_fmeasure': tensor(0.2988),\n",
      "           'rougeL_precision': tensor(0.2264),\n",
      "           'rougeL_recall': tensor(0.9741),\n",
      "           'rougeLsum_fmeasure': tensor(0.2983),\n",
      "           'rougeLsum_precision': tensor(0.2260),\n",
      "           'rougeLsum_recall': tensor(0.9744)}}\n"
     ]
    },
    {
     "data": {
      "application/vnd.jupyter.widget-view+json": {
       "model_id": "1d131ded57cb4024abb53fba7a960df9",
       "version_major": 2,
       "version_minor": 0
      },
      "text/plain": [
       "  0%|          | 0/17 [00:00<?, ?it/s]"
      ]
     },
     "metadata": {},
     "output_type": "display_data"
    },
    {
     "data": {
      "application/vnd.jupyter.widget-view+json": {
       "model_id": "57027e74b0704a52a5801b00e36d41ee",
       "version_major": 2,
       "version_minor": 0
      },
      "text/plain": [
       "  0%|          | 0/17 [00:00<?, ?it/s]"
      ]
     },
     "metadata": {},
     "output_type": "display_data"
    },
    {
     "name": "stdout",
     "output_type": "stream",
     "text": [
      "__host__ (1048)\n",
      "{'bert': {'f1': 0.6364848995936736,\n",
      "          'precision': 0.6447909997477559,\n",
      "          'recall': 0.6485434281035461},\n",
      " 'bleu': tensor(0.1559),\n",
      " 'rouge': {'rouge1_fmeasure': tensor(0.4488),\n",
      "           'rouge1_precision': tensor(0.3627),\n",
      "           'rouge1_recall': tensor(0.9831),\n",
      "           'rouge2_fmeasure': tensor(0.0700),\n",
      "           'rouge2_precision': tensor(0.0449),\n",
      "           'rouge2_recall': tensor(0.2581),\n",
      "           'rougeL_fmeasure': tensor(0.4454),\n",
      "           'rougeL_precision': tensor(0.3605),\n",
      "           'rougeL_recall': tensor(0.9730),\n",
      "           'rougeLsum_fmeasure': tensor(0.4443),\n",
      "           'rougeLsum_precision': tensor(0.3596),\n",
      "           'rougeLsum_recall': tensor(0.9730)}}\n"
     ]
    },
    {
     "data": {
      "application/vnd.jupyter.widget-view+json": {
       "model_id": "9cc7a04da2e04e1bac949e28e389b205",
       "version_major": 2,
       "version_minor": 0
      },
      "text/plain": [
       "  0%|          | 0/20 [00:00<?, ?it/s]"
      ]
     },
     "metadata": {},
     "output_type": "display_data"
    },
    {
     "data": {
      "application/vnd.jupyter.widget-view+json": {
       "model_id": "7cd608efe0ba4be4872b46080abb4ae6",
       "version_major": 2,
       "version_minor": 0
      },
      "text/plain": [
       "  0%|          | 0/20 [00:00<?, ?it/s]"
      ]
     },
     "metadata": {},
     "output_type": "display_data"
    },
    {
     "name": "stdout",
     "output_type": "stream",
     "text": [
      "__global__ (1236)\n",
      "{'bert': {'f1': 0.7535319090202981,\n",
      "          'precision': 0.7840126322757175,\n",
      "          'recall': 0.7350654471846461},\n",
      " 'bleu': tensor(0.1272),\n",
      " 'rouge': {'rouge1_fmeasure': tensor(0.0633),\n",
      "           'rouge1_precision': tensor(0.0382),\n",
      "           'rouge1_recall': tensor(0.9997),\n",
      "           'rouge2_fmeasure': tensor(0.0144),\n",
      "           'rouge2_precision': tensor(0.0075),\n",
      "           'rouge2_recall': tensor(0.3669),\n",
      "           'rougeL_fmeasure': tensor(0.0627),\n",
      "           'rougeL_precision': tensor(0.0378),\n",
      "           'rougeL_recall': tensor(0.9951),\n",
      "           'rougeLsum_fmeasure': tensor(0.0626),\n",
      "           'rougeLsum_precision': tensor(0.0378),\n",
      "           'rougeLsum_recall': tensor(0.9951)}}\n",
      "total\n",
      "{'bert': {'f1': 0.647038116140462,\n",
      "          'precision': 0.666927110313034,\n",
      "          'recall': 0.6419009373933661},\n",
      " 'bleu': tensor(0.1757),\n",
      " 'rouge': {'rouge1_fmeasure': tensor(0.2717),\n",
      "           'rouge1_precision': tensor(0.2081),\n",
      "           'rouge1_recall': tensor(0.9896),\n",
      "           'rouge2_fmeasure': tensor(0.0462),\n",
      "           'rouge2_precision': tensor(0.0286),\n",
      "           'rouge2_recall': tensor(0.3006),\n",
      "           'rougeL_fmeasure': tensor(0.2687),\n",
      "           'rougeL_precision': tensor(0.2063),\n",
      "           'rougeL_recall': tensor(0.9795),\n",
      "           'rougeLsum_fmeasure': tensor(0.2682),\n",
      "           'rougeLsum_precision': tensor(0.2058),\n",
      "           'rougeLsum_recall': tensor(0.9796)}}\n"
     ]
    }
   ],
   "source": [
    "used_ratio = 0.1\n",
    "metrics = compute_metrics(t5_model_d.get(\"target_sentences\"), t5_model_d.get(\"pred_sentences\"), tokenizer, t5_model, used_ratio)"
   ]
  },
  {
   "cell_type": "code",
   "execution_count": 69,
   "metadata": {},
   "outputs": [
    {
     "data": {
      "image/png": "[encoded data removed]",
      "text/plain": [
       "<Figure size 640x480 with 1 Axes>"
      ]
     },
     "metadata": {},
     "output_type": "display_data"
    },
    {
     "name": "stdout",
     "output_type": "stream",
     "text": [
      "Epochs: 19\n",
      "Max: 14.779881477355957, epoch: 0\n",
      "Min: 0.008144823834300041, epoch: 18\n"
     ]
    }
   ],
   "source": [
    "loss_list = t5_model_d.get(\"loss_list\")\n",
    "plt.figure()\n",
    "plt.title(\"T5 loss\")\n",
    "plt.ylabel(\"Cross-entropy loss\")\n",
    "plt.xlabel(\"Epoch\")\n",
    "plt.plot(loss_list)\n",
    "plt.show()\n",
    "\n",
    "print(f\"Epochs: {len(loss_list)}\")\n",
    "print(f\"Max: {max(loss_list)}, epoch: {np.argmax(loss_list)}\")\n",
    "print(f\"Min: {min(loss_list)}, epoch: {np.argmin(loss_list)}\")"
   ]
  },
  {
   "attachments": {},
   "cell_type": "markdown",
   "metadata": {},
   "source": [
    "### Average lengths"
   ]
  },
  {
   "cell_type": "code",
   "execution_count": 5,
   "metadata": {},
   "outputs": [
    {
     "data": {
      "application/vnd.jupyter.widget-view+json": {
       "model_id": "24adb694c9614fee967086389689bce9",
       "version_major": 2,
       "version_minor": 0
      },
      "text/plain": [
       "0it [00:00, ?it/s]"
      ]
     },
     "metadata": {},
     "output_type": "display_data"
    },
    {
     "name": "stdout",
     "output_type": "stream",
     "text": [
      "Average target lines per sample: 7.790\n",
      "Average predic lines per sample: 39.776\n",
      "Average target sample size: 326.022\n",
      "Average predic sample size: 685.084\n"
     ]
    }
   ],
   "source": [
    "tgr_ls = 0\n",
    "tgr_cs = 0\n",
    "prd_ls = 0\n",
    "prd_cs = 0\n",
    "s = len(t5_model_d.get(\"source_sentences\"))\n",
    "for tgr, prd in tqdm(zip(t5_model_d.get(\"source_sentences\"), t5_model_d.get(\"target_sentences\"))):\n",
    "    tgr = tgr.replace(\";\", \";\\n\").replace(\"{\", \"{\\n\").replace(\"}\", \"}\\n\").replace(\"int\", \"\\nint\").replace(\"float\", \"\\nfloat\")\n",
    "    prd = prd.replace(\";\", \";\\n\").replace(\"{\", \"{\\n\").replace(\"}\", \"}\\n\").replace(\"int\", \"\\nint\").replace(\"float\", \"\\nfloat\")\n",
    "    \n",
    "    tgr_ls += tgr.count(\"\\n\")\n",
    "    prd_ls += prd.count(\"\\n\")\n",
    "    \n",
    "    tgr_cs += len(tgr)\n",
    "    prd_cs += len(prd)\n",
    "    \n",
    "print(\"Average target lines per sample: {:.3f}\".format(tgr_ls/s))\n",
    "print(\"Average predic lines per sample: {:.3f}\".format(prd_ls/s))\n",
    "print(\"Average target sample size: {:.3f}\".format(tgr_cs/s))\n",
    "print(\"Average predic sample size: {:.3f}\".format(prd_cs/s))\n"
   ]
  },
  {
   "attachments": {},
   "cell_type": "markdown",
   "metadata": {},
   "source": [
    "### Examples"
   ]
  },
  {
   "cell_type": "code",
   "execution_count": 30,
   "metadata": {},
   "outputs": [
    {
     "name": "stdout",
     "output_type": "stream",
     "text": [
      "SOURCE:\n",
      "supplement code:// kernels\n",
      "template <typename T>\n",
      "__global__ void clMatLinspace_kernel(IN OUT T* pA, IN T a, IN T d, int dim)\n",
      "\n",
      "TARGET:\n",
      "{\n",
      "  const unsigned int ind = blockIdx.x*blockDim.x + threadIdx.x;\n",
      "  const unsigned int totalThreads = blockDim.x*gridDim.x;\n",
      "  for (int i = ind; i < dim; i += totalThreads)\n",
      "    pA[i] = a+i*d;\n",
      "}\n",
      "\n",
      "PREDICT:\n",
      "{\n",
      " \n",
      "int i = threadIdx.x + blockIdx.x * blockDim.x;\n",
      " if (i < dim) {\n",
      " pA[i] = a[i] + dim;\n",
      " }\n",
      " }\n",
      "\n",
      "#--------------------------#\n"
     ]
    }
   ],
   "source": [
    "# Generate random example from evaluation\n",
    "samples = list(zip(t5_model_d.get(\"source_sentences\"), t5_model_d.get(\"target_sentences\"), t5_model_d.get(\"pred_sentences\")))\n",
    "np.random.shuffle(samples)\n",
    "src_l, tgr_l, prd_l = zip(*samples)\n",
    "for src, tgr, prd in zip(src_l, tgr_l, prd_l):\n",
    "    kernel = train_db.find_one({\"body\" : tgr})\n",
    "    if kernel is None:\n",
    "        kernel = validation_db.find_one({\"body\" : tgr})\n",
    "        if kernel is None:\n",
    "            continue\n",
    "    \n",
    "    print(\"SOURCE:\")\n",
    "    print(src)\n",
    "    print(\"\\nTARGET:\")\n",
    "    print(tgr)\n",
    "    print(\"\\nPREDICT:\")\n",
    "    print(prd.replace(\";\", \";\\n\").replace(\"{\", \"{\\n\").replace(\"}\", \"}\\n\").replace(\"int\", \"\\nint\").replace(\"float\", \"\\nfloat\"))\n",
    "    print(\"#--------------------------#\")\n",
    "    break"
   ]
  },
  {
   "attachments": {},
   "cell_type": "markdown",
   "metadata": {},
   "source": [
    "# GPT2"
   ]
  },
  {
   "cell_type": "code",
   "execution_count": 32,
   "metadata": {},
   "outputs": [],
   "source": [
    "def get_gpt2_model(model_name : str, model_path : str, tokenizer):\n",
    "\n",
    "    configuration = AutoConfig.from_pretrained(model_name)\n",
    "\n",
    "    model = AutoModelForCausalLM.from_config(configuration).to(DEVICE)\n",
    "    model_dict = torch.load(model_path, map_location=DEVICE)\n",
    "    model.load_state_dict(model_dict[\"model_dict\"])\n",
    "    \n",
    "    return model, model_dict"
   ]
  },
  {
   "cell_type": "code",
   "execution_count": 34,
   "metadata": {},
   "outputs": [],
   "source": [
    "gpt2_model_name = \"distilgpt2\"\n",
    "gpt2_model_path = \"/tmp/xsaman02/gpt2/gpt2.current.pt\"\n",
    "gpt2_tokenizer_name = \"gpt2\"\n",
    "tokenizer = AutoTokenizer.from_pretrained(gpt2_tokenizer_name, use_fast=False, model_max_length=1500, add_bos_token=True)\n",
    "tokenizer.add_special_tokens({\n",
    "    \"pad_token\" : \"<pad>\"\n",
    "})\n",
    "gpt2_model, gpt2_model_d = get_gpt2_model(gpt2_model_name, gpt2_model_path, tokenizer)"
   ]
  },
  {
   "cell_type": "code",
   "execution_count": 37,
   "metadata": {},
   "outputs": [
    {
     "data": {
      "image/png": "[encoded data removed]",
      "text/plain": [
       "<Figure size 640x480 with 1 Axes>"
      ]
     },
     "metadata": {},
     "output_type": "display_data"
    },
    {
     "name": "stdout",
     "output_type": "stream",
     "text": [
      "Epochs: 19\n",
      "Max: 1.9515730154147923, epoch: 0\n",
      "Min: 0.302123, epoch: 12\n"
     ]
    }
   ],
   "source": [
    "loss_list = gpt2_model_d.get(\"loss_list\")\n",
    "plt.figure()\n",
    "plt.title(\"GPT2 loss\")\n",
    "plt.ylabel(\"Cross-entropy loss\")\n",
    "plt.xlabel(\"Epoch\")\n",
    "plt.plot(loss_list)\n",
    "plt.show()\n",
    "\n",
    "print(f\"Epochs: {len(loss_list)}\")\n",
    "print(f\"Max: {max(loss_list)}, epoch: {np.argmax(loss_list)}\")\n",
    "print(f\"Min: {min(loss_list)}, epoch: {np.argmin(loss_list)}\")"
   ]
  },
  {
   "attachments": {},
   "cell_type": "markdown",
   "metadata": {},
   "source": [
    "# CodeGen"
   ]
  },
  {
   "cell_type": "code",
   "execution_count": null,
   "metadata": {},
   "outputs": [],
   "source": [
    "def get_codeGen_model(model_name : str, model_path : str):\n",
    "\n",
    "    configuration = AutoConfig.from_pretrained(model_name)\n",
    "\n",
    "    model = AutoModelForCausalLM.from_config(configuration).to(DEVICE)\n",
    "    model_dict = torch.load(model_path, map_location=DEVICE)\n",
    "    model.load_state_dict(model_dict[\"model_dict\"])\n",
    "    \n",
    "    return model, model_dict"
   ]
  },
  {
   "cell_type": "code",
   "execution_count": null,
   "metadata": {},
   "outputs": [],
   "source": [
    "model, model_d = get_codeGen_model(\"Salesforce/codegen-350M-multi\", \"/tmp/xsaman02/CodeGen/codegen.current.pt\")"
   ]
  }
 ],
 "metadata": {
  "kernelspec": {
   "display_name": "diplomka",
   "language": "python",
   "name": "python3"
  },
  "language_info": {
   "codemirror_mode": {
    "name": "ipython",
    "version": 3
   },
   "file_extension": ".py",
   "mimetype": "text/x-python",
   "name": "python",
   "nbconvert_exporter": "python",
   "pygments_lexer": "ipython3",
   "version": "3.8.13"
  },
  "orig_nbformat": 4
 },
 "nbformat": 4,
 "nbformat_minor": 2
}
